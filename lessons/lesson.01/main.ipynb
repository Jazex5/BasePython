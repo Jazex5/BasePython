{
 "cells": [
  {
   "cell_type": "code",
   "execution_count": 1,
   "id": "7751cf9e",
   "metadata": {},
   "outputs": [
    {
     "name": "stdout",
     "output_type": "stream",
     "text": [
      "Hello world!\n"
     ]
    }
   ],
   "source": [
    "print('Hello world!')"
   ]
  },
  {
   "cell_type": "code",
   "execution_count": 2,
   "id": "6cf9438a",
   "metadata": {},
   "outputs": [
    {
     "data": {
      "text/plain": [
       "True"
      ]
     },
     "execution_count": 2,
     "metadata": {},
     "output_type": "execute_result"
    }
   ],
   "source": [
    "1 == 1"
   ]
  },
  {
   "cell_type": "code",
   "execution_count": 3,
   "id": "84635ef2",
   "metadata": {},
   "outputs": [
    {
     "data": {
      "text/plain": [
       "False"
      ]
     },
     "execution_count": 3,
     "metadata": {},
     "output_type": "execute_result"
    }
   ],
   "source": [
    "0 == 1"
   ]
  },
  {
   "cell_type": "code",
   "execution_count": 4,
   "id": "f43822b5",
   "metadata": {},
   "outputs": [
    {
     "data": {
      "text/plain": [
       "True"
      ]
     },
     "execution_count": 4,
     "metadata": {},
     "output_type": "execute_result"
    }
   ],
   "source": [
    "0 != 1"
   ]
  },
  {
   "cell_type": "code",
   "execution_count": 5,
   "id": "71a1e0c0",
   "metadata": {},
   "outputs": [
    {
     "data": {
      "text/plain": [
       "True"
      ]
     },
     "execution_count": 5,
     "metadata": {},
     "output_type": "execute_result"
    }
   ],
   "source": [
    "'hello' == \"hello\""
   ]
  },
  {
   "cell_type": "code",
   "execution_count": 6,
   "id": "0e761efa",
   "metadata": {},
   "outputs": [
    {
     "data": {
      "text/plain": [
       "False"
      ]
     },
     "execution_count": 6,
     "metadata": {},
     "output_type": "execute_result"
    }
   ],
   "source": [
    "0 == '0'"
   ]
  },
  {
   "cell_type": "code",
   "execution_count": 7,
   "id": "df831b44",
   "metadata": {},
   "outputs": [
    {
     "name": "stdout",
     "output_type": "stream",
     "text": [
      "single quotes: ''\n"
     ]
    }
   ],
   "source": [
    "print(\"single quotes: ''\")"
   ]
  },
  {
   "cell_type": "code",
   "execution_count": 8,
   "id": "b6034c26",
   "metadata": {},
   "outputs": [
    {
     "name": "stdout",
     "output_type": "stream",
     "text": [
      "double quotes: \"\"\n"
     ]
    }
   ],
   "source": [
    "print('double quotes: \"\"')"
   ]
  },
  {
   "cell_type": "code",
   "execution_count": 10,
   "id": "81b2e52e",
   "metadata": {},
   "outputs": [
    {
     "name": "stdout",
     "output_type": "stream",
     "text": [
      "look at these double quotes \"\"!\n"
     ]
    }
   ],
   "source": [
    "print(\"\"\"look at these double quotes \"\"!\"\"\")"
   ]
  },
  {
   "cell_type": "code",
   "execution_count": 11,
   "id": "c6c7896e",
   "metadata": {},
   "outputs": [
    {
     "data": {
      "text/plain": [
       "str"
      ]
     },
     "execution_count": 11,
     "metadata": {},
     "output_type": "execute_result"
    }
   ],
   "source": [
    "str"
   ]
  },
  {
   "cell_type": "code",
   "execution_count": 12,
   "id": "60cdb897",
   "metadata": {},
   "outputs": [
    {
     "data": {
      "text/plain": [
       "int"
      ]
     },
     "execution_count": 12,
     "metadata": {},
     "output_type": "execute_result"
    }
   ],
   "source": [
    "int"
   ]
  },
  {
   "cell_type": "code",
   "execution_count": 13,
   "id": "7b4b5a98",
   "metadata": {},
   "outputs": [
    {
     "data": {
      "text/plain": [
       "False"
      ]
     },
     "execution_count": 13,
     "metadata": {},
     "output_type": "execute_result"
    }
   ],
   "source": [
    "123 == '123'"
   ]
  },
  {
   "cell_type": "code",
   "execution_count": 14,
   "id": "576f2a7d",
   "metadata": {},
   "outputs": [
    {
     "data": {
      "text/plain": [
       "True"
      ]
     },
     "execution_count": 14,
     "metadata": {},
     "output_type": "execute_result"
    }
   ],
   "source": [
    "str(123) == '123'"
   ]
  },
  {
   "cell_type": "code",
   "execution_count": 15,
   "id": "f155d03e",
   "metadata": {},
   "outputs": [
    {
     "data": {
      "text/plain": [
       "True"
      ]
     },
     "execution_count": 15,
     "metadata": {},
     "output_type": "execute_result"
    }
   ],
   "source": [
    "int('456') == 456"
   ]
  },
  {
   "cell_type": "code",
   "execution_count": 18,
   "id": "37095c15",
   "metadata": {},
   "outputs": [],
   "source": [
    "variable = 42"
   ]
  },
  {
   "cell_type": "code",
   "execution_count": 19,
   "id": "590514c5",
   "metadata": {},
   "outputs": [
    {
     "name": "stdout",
     "output_type": "stream",
     "text": [
      "42\n"
     ]
    }
   ],
   "source": [
    "print(variable)"
   ]
  },
  {
   "cell_type": "code",
   "execution_count": 20,
   "id": "ac73d484",
   "metadata": {},
   "outputs": [
    {
     "data": {
      "text/plain": [
       "True"
      ]
     },
     "execution_count": 20,
     "metadata": {},
     "output_type": "execute_result"
    }
   ],
   "source": [
    "variable == 42"
   ]
  },
  {
   "cell_type": "code",
   "execution_count": 21,
   "id": "50677a7f",
   "metadata": {},
   "outputs": [
    {
     "data": {
      "text/plain": [
       "True"
      ]
     },
     "execution_count": 21,
     "metadata": {},
     "output_type": "execute_result"
    }
   ],
   "source": [
    "str(variable) == '42'"
   ]
  },
  {
   "cell_type": "code",
   "execution_count": 22,
   "id": "38c91d0b",
   "metadata": {},
   "outputs": [
    {
     "data": {
      "text/plain": [
       "int"
      ]
     },
     "execution_count": 22,
     "metadata": {},
     "output_type": "execute_result"
    }
   ],
   "source": [
    "type(variable)"
   ]
  },
  {
   "cell_type": "code",
   "execution_count": 23,
   "id": "27d27eff",
   "metadata": {},
   "outputs": [
    {
     "data": {
      "text/plain": [
       "str"
      ]
     },
     "execution_count": 23,
     "metadata": {},
     "output_type": "execute_result"
    }
   ],
   "source": [
    "type('abc')"
   ]
  },
  {
   "cell_type": "code",
   "execution_count": 24,
   "id": "c2669946",
   "metadata": {},
   "outputs": [
    {
     "data": {
      "text/plain": [
       "True"
      ]
     },
     "execution_count": 24,
     "metadata": {},
     "output_type": "execute_result"
    }
   ],
   "source": [
    "isinstance(variable, int)"
   ]
  },
  {
   "cell_type": "code",
   "execution_count": 25,
   "id": "4cdd856e",
   "metadata": {},
   "outputs": [
    {
     "data": {
      "text/plain": [
       "False"
      ]
     },
     "execution_count": 25,
     "metadata": {},
     "output_type": "execute_result"
    }
   ],
   "source": [
    "isinstance(variable, str)"
   ]
  },
  {
   "cell_type": "code",
   "execution_count": 26,
   "id": "8e4ca5e2",
   "metadata": {},
   "outputs": [
    {
     "data": {
      "text/plain": [
       "True"
      ]
     },
     "execution_count": 26,
     "metadata": {},
     "output_type": "execute_result"
    }
   ],
   "source": [
    "isinstance(variable, (int, float))"
   ]
  },
  {
   "cell_type": "code",
   "execution_count": 27,
   "id": "8cae8c85",
   "metadata": {},
   "outputs": [
    {
     "data": {
      "text/plain": [
       "True"
      ]
     },
     "execution_count": 27,
     "metadata": {},
     "output_type": "execute_result"
    }
   ],
   "source": [
    "isinstance(True, (int, float))"
   ]
  },
  {
   "cell_type": "code",
   "execution_count": 28,
   "id": "23b5e6d5",
   "metadata": {},
   "outputs": [
    {
     "data": {
      "text/plain": [
       "False"
      ]
     },
     "execution_count": 28,
     "metadata": {},
     "output_type": "execute_result"
    }
   ],
   "source": [
    "isinstance('variable', (int, float))"
   ]
  },
  {
   "cell_type": "code",
   "execution_count": 29,
   "id": "463b6cd4",
   "metadata": {},
   "outputs": [
    {
     "data": {
      "text/plain": [
       "True"
      ]
     },
     "execution_count": 29,
     "metadata": {},
     "output_type": "execute_result"
    }
   ],
   "source": [
    "isinstance(True, int)"
   ]
  },
  {
   "cell_type": "code",
   "execution_count": 30,
   "id": "ce0f4fdf",
   "metadata": {},
   "outputs": [
    {
     "data": {
      "text/plain": [
       "bool"
      ]
     },
     "execution_count": 30,
     "metadata": {},
     "output_type": "execute_result"
    }
   ],
   "source": [
    "type(True)"
   ]
  },
  {
   "cell_type": "code",
   "execution_count": 31,
   "id": "917a798e",
   "metadata": {},
   "outputs": [
    {
     "data": {
      "text/plain": [
       "123"
      ]
     },
     "execution_count": 31,
     "metadata": {},
     "output_type": "execute_result"
    }
   ],
   "source": [
    "int('123')"
   ]
  },
  {
   "cell_type": "code",
   "execution_count": 32,
   "id": "3e1c554c",
   "metadata": {},
   "outputs": [
    {
     "data": {
      "text/plain": [
       "1"
      ]
     },
     "execution_count": 32,
     "metadata": {},
     "output_type": "execute_result"
    }
   ],
   "source": [
    "int(True)"
   ]
  },
  {
   "cell_type": "code",
   "execution_count": 33,
   "id": "a3f96dfb",
   "metadata": {},
   "outputs": [
    {
     "data": {
      "text/plain": [
       "0"
      ]
     },
     "execution_count": 33,
     "metadata": {},
     "output_type": "execute_result"
    }
   ],
   "source": [
    "int(False)"
   ]
  },
  {
   "cell_type": "code",
   "execution_count": 34,
   "id": "7b793106",
   "metadata": {},
   "outputs": [
    {
     "data": {
      "text/plain": [
       "3"
      ]
     },
     "execution_count": 34,
     "metadata": {},
     "output_type": "execute_result"
    }
   ],
   "source": [
    "1 + 2"
   ]
  },
  {
   "cell_type": "code",
   "execution_count": 35,
   "id": "cdca7174",
   "metadata": {},
   "outputs": [
    {
     "data": {
      "text/plain": [
       "1"
      ]
     },
     "execution_count": 35,
     "metadata": {},
     "output_type": "execute_result"
    }
   ],
   "source": [
    "True + False"
   ]
  },
  {
   "cell_type": "code",
   "execution_count": 36,
   "id": "0148e334",
   "metadata": {},
   "outputs": [
    {
     "data": {
      "text/plain": [
       "2"
      ]
     },
     "execution_count": 36,
     "metadata": {},
     "output_type": "execute_result"
    }
   ],
   "source": [
    "True + False + True"
   ]
  },
  {
   "cell_type": "code",
   "execution_count": 37,
   "id": "877ffae3",
   "metadata": {},
   "outputs": [
    {
     "data": {
      "text/plain": [
       "'abcdef'"
      ]
     },
     "execution_count": 37,
     "metadata": {},
     "output_type": "execute_result"
    }
   ],
   "source": [
    "'a' + 'bc' + \"def\""
   ]
  },
  {
   "cell_type": "code",
   "execution_count": 38,
   "id": "9f37c0a6",
   "metadata": {},
   "outputs": [
    {
     "data": {
      "text/plain": [
       "0.5"
      ]
     },
     "execution_count": 38,
     "metadata": {},
     "output_type": "execute_result"
    }
   ],
   "source": [
    "0.5"
   ]
  },
  {
   "cell_type": "code",
   "execution_count": 39,
   "id": "e907fe01",
   "metadata": {},
   "outputs": [
    {
     "data": {
      "text/plain": [
       "1.2"
      ]
     },
     "execution_count": 39,
     "metadata": {},
     "output_type": "execute_result"
    }
   ],
   "source": [
    "1.2"
   ]
  },
  {
   "cell_type": "code",
   "execution_count": 40,
   "id": "433e8052",
   "metadata": {},
   "outputs": [
    {
     "data": {
      "text/plain": [
       "1.3333333333333333"
      ]
     },
     "execution_count": 40,
     "metadata": {},
     "output_type": "execute_result"
    }
   ],
   "source": [
    "1.333333333333333333"
   ]
  },
  {
   "cell_type": "code",
   "execution_count": 41,
   "id": "1166a580",
   "metadata": {},
   "outputs": [
    {
     "data": {
      "text/plain": [
       "333333333333333333333333333333333333333"
      ]
     },
     "execution_count": 41,
     "metadata": {},
     "output_type": "execute_result"
    }
   ],
   "source": [
    "333333333333333333333333333333333333333"
   ]
  },
  {
   "cell_type": "code",
   "execution_count": 42,
   "id": "bc4f6416",
   "metadata": {},
   "outputs": [],
   "source": [
    "foo = 2**128"
   ]
  },
  {
   "cell_type": "code",
   "execution_count": 43,
   "id": "225c61f9",
   "metadata": {},
   "outputs": [
    {
     "name": "stdout",
     "output_type": "stream",
     "text": [
      "340282366920938463463374607431768211456\n"
     ]
    }
   ],
   "source": [
    "print(foo)"
   ]
  },
  {
   "cell_type": "code",
   "execution_count": 44,
   "id": "0ad398e2",
   "metadata": {},
   "outputs": [
    {
     "data": {
      "text/plain": [
       "12"
      ]
     },
     "execution_count": 44,
     "metadata": {},
     "output_type": "execute_result"
    }
   ],
   "source": [
    "3 * 4"
   ]
  },
  {
   "cell_type": "code",
   "execution_count": 45,
   "id": "5984d0b0",
   "metadata": {},
   "outputs": [
    {
     "data": {
      "text/plain": [
       "7"
      ]
     },
     "execution_count": 45,
     "metadata": {},
     "output_type": "execute_result"
    }
   ],
   "source": [
    "10 - 3"
   ]
  },
  {
   "cell_type": "code",
   "execution_count": 46,
   "id": "77623621",
   "metadata": {},
   "outputs": [
    {
     "data": {
      "text/plain": [
       "5.0"
      ]
     },
     "execution_count": 46,
     "metadata": {},
     "output_type": "execute_result"
    }
   ],
   "source": [
    "10 / 2"
   ]
  },
  {
   "cell_type": "code",
   "execution_count": 47,
   "id": "9533e405",
   "metadata": {},
   "outputs": [
    {
     "data": {
      "text/plain": [
       "float"
      ]
     },
     "execution_count": 47,
     "metadata": {},
     "output_type": "execute_result"
    }
   ],
   "source": [
    "type(5.0)"
   ]
  },
  {
   "cell_type": "code",
   "execution_count": 48,
   "id": "c5d4d655",
   "metadata": {},
   "outputs": [
    {
     "data": {
      "text/plain": [
       "True"
      ]
     },
     "execution_count": 48,
     "metadata": {},
     "output_type": "execute_result"
    }
   ],
   "source": [
    "10 / 2 == 5"
   ]
  },
  {
   "cell_type": "code",
   "execution_count": 49,
   "id": "2f423b72",
   "metadata": {},
   "outputs": [
    {
     "data": {
      "text/plain": [
       "False"
      ]
     },
     "execution_count": 49,
     "metadata": {},
     "output_type": "execute_result"
    }
   ],
   "source": [
    "5.000000000000001 == 5"
   ]
  },
  {
   "cell_type": "code",
   "execution_count": 50,
   "id": "31c21f7f",
   "metadata": {},
   "outputs": [
    {
     "data": {
      "text/plain": [
       "5.5"
      ]
     },
     "execution_count": 50,
     "metadata": {},
     "output_type": "execute_result"
    }
   ],
   "source": [
    "11 / 2"
   ]
  },
  {
   "cell_type": "code",
   "execution_count": 51,
   "id": "6715fec7",
   "metadata": {},
   "outputs": [
    {
     "data": {
      "text/plain": [
       "5"
      ]
     },
     "execution_count": 51,
     "metadata": {},
     "output_type": "execute_result"
    }
   ],
   "source": [
    "11 // 2"
   ]
  },
  {
   "cell_type": "code",
   "execution_count": 52,
   "id": "d411bdb4",
   "metadata": {},
   "outputs": [
    {
     "data": {
      "text/plain": [
       "5"
      ]
     },
     "execution_count": 52,
     "metadata": {},
     "output_type": "execute_result"
    }
   ],
   "source": [
    "10 // 2"
   ]
  },
  {
   "cell_type": "code",
   "execution_count": 53,
   "id": "707b9922",
   "metadata": {},
   "outputs": [
    {
     "data": {
      "text/plain": [
       "1.5"
      ]
     },
     "execution_count": 53,
     "metadata": {},
     "output_type": "execute_result"
    }
   ],
   "source": [
    "3 / 2"
   ]
  },
  {
   "cell_type": "code",
   "execution_count": 54,
   "id": "c6f80359",
   "metadata": {},
   "outputs": [
    {
     "data": {
      "text/plain": [
       "1"
      ]
     },
     "execution_count": 54,
     "metadata": {},
     "output_type": "execute_result"
    }
   ],
   "source": [
    "3 // 2"
   ]
  },
  {
   "cell_type": "code",
   "execution_count": 55,
   "id": "1dfdb05a",
   "metadata": {},
   "outputs": [
    {
     "data": {
      "text/plain": [
       "1"
      ]
     },
     "execution_count": 55,
     "metadata": {},
     "output_type": "execute_result"
    }
   ],
   "source": [
    "3 % 2"
   ]
  },
  {
   "cell_type": "code",
   "execution_count": 56,
   "id": "c6dc5cf2",
   "metadata": {},
   "outputs": [
    {
     "data": {
      "text/plain": [
       "2.5"
      ]
     },
     "execution_count": 56,
     "metadata": {},
     "output_type": "execute_result"
    }
   ],
   "source": [
    "5 / 2"
   ]
  },
  {
   "cell_type": "code",
   "execution_count": 57,
   "id": "a84d7d54",
   "metadata": {},
   "outputs": [
    {
     "data": {
      "text/plain": [
       "2"
      ]
     },
     "execution_count": 57,
     "metadata": {},
     "output_type": "execute_result"
    }
   ],
   "source": [
    "5 // 2"
   ]
  },
  {
   "cell_type": "code",
   "execution_count": 58,
   "id": "c7fcee32",
   "metadata": {},
   "outputs": [
    {
     "data": {
      "text/plain": [
       "1"
      ]
     },
     "execution_count": 58,
     "metadata": {},
     "output_type": "execute_result"
    }
   ],
   "source": [
    "5 % 2"
   ]
  },
  {
   "cell_type": "code",
   "execution_count": 59,
   "id": "abf3c476",
   "metadata": {},
   "outputs": [
    {
     "data": {
      "text/plain": [
       "-1.3333333333333333"
      ]
     },
     "execution_count": 59,
     "metadata": {},
     "output_type": "execute_result"
    }
   ],
   "source": [
    "-4 / 3"
   ]
  },
  {
   "cell_type": "code",
   "execution_count": 60,
   "id": "724a7d3b",
   "metadata": {},
   "outputs": [
    {
     "data": {
      "text/plain": [
       "-2"
      ]
     },
     "execution_count": 60,
     "metadata": {},
     "output_type": "execute_result"
    }
   ],
   "source": [
    "-4 // 3"
   ]
  },
  {
   "cell_type": "code",
   "execution_count": 61,
   "id": "6157facb",
   "metadata": {},
   "outputs": [
    {
     "data": {
      "text/plain": [
       "2"
      ]
     },
     "execution_count": 61,
     "metadata": {},
     "output_type": "execute_result"
    }
   ],
   "source": [
    "-4 % 3"
   ]
  },
  {
   "cell_type": "code",
   "execution_count": 62,
   "id": "7bc07edc",
   "metadata": {},
   "outputs": [
    {
     "data": {
      "text/plain": [
       "1.3333333333333333"
      ]
     },
     "execution_count": 62,
     "metadata": {},
     "output_type": "execute_result"
    }
   ],
   "source": [
    "-4 / -3"
   ]
  },
  {
   "cell_type": "code",
   "execution_count": 63,
   "id": "f13b87e2",
   "metadata": {},
   "outputs": [
    {
     "data": {
      "text/plain": [
       "1"
      ]
     },
     "execution_count": 63,
     "metadata": {},
     "output_type": "execute_result"
    }
   ],
   "source": [
    "-4 // -3"
   ]
  },
  {
   "cell_type": "code",
   "execution_count": 64,
   "id": "fea13da8",
   "metadata": {},
   "outputs": [
    {
     "data": {
      "text/plain": [
       "-1"
      ]
     },
     "execution_count": 64,
     "metadata": {},
     "output_type": "execute_result"
    }
   ],
   "source": [
    "-4 % -3"
   ]
  },
  {
   "cell_type": "code",
   "execution_count": 65,
   "id": "e4ac6f2b",
   "metadata": {},
   "outputs": [],
   "source": [
    "list_of_strings = [\"abc\", 'qwe', '123']"
   ]
  },
  {
   "cell_type": "code",
   "execution_count": 66,
   "id": "32cce474",
   "metadata": {},
   "outputs": [
    {
     "name": "stdout",
     "output_type": "stream",
     "text": [
      "['abc', 'qwe', '123']\n"
     ]
    }
   ],
   "source": [
    "print(list_of_strings)"
   ]
  },
  {
   "cell_type": "code",
   "execution_count": 67,
   "id": "a738385c",
   "metadata": {},
   "outputs": [],
   "source": [
    "custom_list = [1, \"1\", \"abc\", False, True, [], [\"\", \"f\"]]"
   ]
  },
  {
   "cell_type": "code",
   "execution_count": 68,
   "id": "cdc20504",
   "metadata": {},
   "outputs": [
    {
     "name": "stdout",
     "output_type": "stream",
     "text": [
      "[1, '1', 'abc', False, True, [], ['', 'f']]\n"
     ]
    }
   ],
   "source": [
    "print(custom_list)"
   ]
  },
  {
   "cell_type": "code",
   "execution_count": 69,
   "id": "9b1781fc",
   "metadata": {},
   "outputs": [
    {
     "name": "stdout",
     "output_type": "stream",
     "text": [
      "qwe\n"
     ]
    }
   ],
   "source": [
    "print(list_of_strings[1])"
   ]
  },
  {
   "cell_type": "code",
   "execution_count": 70,
   "id": "c3c0f42f",
   "metadata": {},
   "outputs": [
    {
     "name": "stdout",
     "output_type": "stream",
     "text": [
      "abc\n"
     ]
    }
   ],
   "source": [
    "print(list_of_strings[0])"
   ]
  },
  {
   "cell_type": "code",
   "execution_count": 71,
   "id": "d6c98b46",
   "metadata": {},
   "outputs": [
    {
     "name": "stdout",
     "output_type": "stream",
     "text": [
      "123\n"
     ]
    }
   ],
   "source": [
    "print(list_of_strings[2])"
   ]
  },
  {
   "cell_type": "code",
   "execution_count": 72,
   "id": "b7a2ddf2",
   "metadata": {},
   "outputs": [
    {
     "name": "stdout",
     "output_type": "stream",
     "text": [
      "['abc', 'qwe', '123']\n"
     ]
    }
   ],
   "source": [
    "print(list_of_strings)"
   ]
  },
  {
   "cell_type": "code",
   "execution_count": 73,
   "id": "fe2791b5",
   "metadata": {},
   "outputs": [
    {
     "name": "stdout",
     "output_type": "stream",
     "text": [
      "3\n"
     ]
    }
   ],
   "source": [
    "print(len(list_of_strings))"
   ]
  },
  {
   "cell_type": "code",
   "execution_count": 74,
   "id": "062e3606",
   "metadata": {},
   "outputs": [
    {
     "name": "stdout",
     "output_type": "stream",
     "text": [
      "123\n"
     ]
    }
   ],
   "source": [
    "print(list_of_strings[3-1])"
   ]
  },
  {
   "cell_type": "code",
   "execution_count": 75,
   "id": "51c5f097",
   "metadata": {},
   "outputs": [
    {
     "name": "stdout",
     "output_type": "stream",
     "text": [
      "123\n"
     ]
    }
   ],
   "source": [
    "print(list_of_strings[len(list_of_strings)-1])"
   ]
  },
  {
   "cell_type": "code",
   "execution_count": 76,
   "id": "98fcce4a",
   "metadata": {},
   "outputs": [
    {
     "name": "stdout",
     "output_type": "stream",
     "text": [
      "123\n"
     ]
    }
   ],
   "source": [
    "print(list_of_strings[-1])"
   ]
  },
  {
   "cell_type": "code",
   "execution_count": 77,
   "id": "3eefb631",
   "metadata": {},
   "outputs": [
    {
     "name": "stdout",
     "output_type": "stream",
     "text": [
      "qwe\n"
     ]
    }
   ],
   "source": [
    "print(list_of_strings[-2])"
   ]
  },
  {
   "cell_type": "code",
   "execution_count": 78,
   "id": "fbc841cf",
   "metadata": {},
   "outputs": [
    {
     "name": "stdout",
     "output_type": "stream",
     "text": [
      "abc\n"
     ]
    }
   ],
   "source": [
    "print(list_of_strings[-3])"
   ]
  },
  {
   "cell_type": "code",
   "execution_count": 79,
   "id": "18aebfb8",
   "metadata": {},
   "outputs": [
    {
     "name": "stdout",
     "output_type": "stream",
     "text": [
      "abc\n"
     ]
    }
   ],
   "source": [
    " print(list_of_strings[0])"
   ]
  },
  {
   "cell_type": "code",
   "execution_count": 80,
   "id": "a097efa8",
   "metadata": {},
   "outputs": [
    {
     "name": "stdout",
     "output_type": "stream",
     "text": [
      "abc\n"
     ]
    }
   ],
   "source": [
    " print(list_of_strings[-0])"
   ]
  },
  {
   "cell_type": "code",
   "execution_count": 81,
   "id": "d6c19d19",
   "metadata": {},
   "outputs": [
    {
     "data": {
      "text/plain": [
       "True"
      ]
     },
     "execution_count": 81,
     "metadata": {},
     "output_type": "execute_result"
    }
   ],
   "source": [
    "-0 == 0"
   ]
  },
  {
   "cell_type": "code",
   "execution_count": 82,
   "id": "227e2e70",
   "metadata": {},
   "outputs": [
    {
     "name": "stdout",
     "output_type": "stream",
     "text": [
      "['abc', 'qwe', '123']\n"
     ]
    }
   ],
   "source": [
    "print(list_of_strings)"
   ]
  },
  {
   "cell_type": "code",
   "execution_count": 83,
   "id": "bdb852a5",
   "metadata": {},
   "outputs": [],
   "source": [
    "a = 42"
   ]
  },
  {
   "cell_type": "code",
   "execution_count": 84,
   "id": "021f49b8",
   "metadata": {},
   "outputs": [
    {
     "name": "stdout",
     "output_type": "stream",
     "text": [
      "42\n"
     ]
    }
   ],
   "source": [
    "print(a)"
   ]
  },
  {
   "cell_type": "code",
   "execution_count": 85,
   "id": "e4593893",
   "metadata": {},
   "outputs": [
    {
     "name": "stdout",
     "output_type": "stream",
     "text": [
      "42\n"
     ]
    }
   ],
   "source": [
    "print(variable)"
   ]
  },
  {
   "cell_type": "code",
   "execution_count": 86,
   "id": "3a95fbe6",
   "metadata": {},
   "outputs": [
    {
     "data": {
      "text/plain": [
       "True"
      ]
     },
     "execution_count": 86,
     "metadata": {},
     "output_type": "execute_result"
    }
   ],
   "source": [
    "a == variable"
   ]
  },
  {
   "cell_type": "code",
   "execution_count": 87,
   "id": "58166d80",
   "metadata": {},
   "outputs": [
    {
     "name": "stdout",
     "output_type": "stream",
     "text": [
      "43\n"
     ]
    }
   ],
   "source": [
    "a = a + 1\n",
    "print(a)"
   ]
  },
  {
   "cell_type": "code",
   "execution_count": 88,
   "id": "92ce1f84",
   "metadata": {},
   "outputs": [
    {
     "name": "stdout",
     "output_type": "stream",
     "text": [
      "44\n"
     ]
    }
   ],
   "source": [
    "a += 1\n",
    "print(a)"
   ]
  },
  {
   "cell_type": "code",
   "execution_count": 89,
   "id": "ca921799",
   "metadata": {},
   "outputs": [
    {
     "name": "stdout",
     "output_type": "stream",
     "text": [
      "42\n"
     ]
    }
   ],
   "source": [
    "print(variable)"
   ]
  },
  {
   "cell_type": "code",
   "execution_count": 90,
   "id": "2ab68197",
   "metadata": {},
   "outputs": [],
   "source": [
    "a = variable"
   ]
  },
  {
   "cell_type": "code",
   "execution_count": 91,
   "id": "8105dbb1",
   "metadata": {},
   "outputs": [
    {
     "name": "stdout",
     "output_type": "stream",
     "text": [
      "42\n"
     ]
    }
   ],
   "source": [
    "print(a)"
   ]
  },
  {
   "cell_type": "code",
   "execution_count": 92,
   "id": "4a04a35b",
   "metadata": {},
   "outputs": [
    {
     "name": "stdout",
     "output_type": "stream",
     "text": [
      "52\n"
     ]
    }
   ],
   "source": [
    "a += 10\n",
    "print(a)"
   ]
  },
  {
   "cell_type": "code",
   "execution_count": 93,
   "id": "7919c0df",
   "metadata": {},
   "outputs": [
    {
     "name": "stdout",
     "output_type": "stream",
     "text": [
      "42\n"
     ]
    }
   ],
   "source": [
    "print(variable)"
   ]
  },
  {
   "cell_type": "code",
   "execution_count": 95,
   "id": "9db8c90e",
   "metadata": {},
   "outputs": [],
   "source": [
    "another_list_of_strings = list_of_strings"
   ]
  },
  {
   "cell_type": "code",
   "execution_count": 96,
   "id": "c9566830",
   "metadata": {},
   "outputs": [
    {
     "name": "stdout",
     "output_type": "stream",
     "text": [
      "['abc', 'qwe', '123']\n",
      "['abc', 'qwe', '123']\n"
     ]
    }
   ],
   "source": [
    "print(list_of_strings)\n",
    "print(another_list_of_strings)"
   ]
  },
  {
   "cell_type": "code",
   "execution_count": 97,
   "id": "47240884",
   "metadata": {},
   "outputs": [
    {
     "data": {
      "text/plain": [
       "True"
      ]
     },
     "execution_count": 97,
     "metadata": {},
     "output_type": "execute_result"
    }
   ],
   "source": [
    "another_list_of_strings == list_of_strings"
   ]
  },
  {
   "cell_type": "code",
   "execution_count": 98,
   "id": "7115084c",
   "metadata": {},
   "outputs": [
    {
     "data": {
      "text/plain": [
       "True"
      ]
     },
     "execution_count": 98,
     "metadata": {},
     "output_type": "execute_result"
    }
   ],
   "source": [
    "another_list_of_strings is list_of_strings"
   ]
  },
  {
   "cell_type": "code",
   "execution_count": 99,
   "id": "62f68cbb",
   "metadata": {},
   "outputs": [
    {
     "data": {
      "text/plain": [
       "True"
      ]
     },
     "execution_count": 99,
     "metadata": {},
     "output_type": "execute_result"
    }
   ],
   "source": [
    "['abc', 'qwe', '123'] == another_list_of_strings"
   ]
  },
  {
   "cell_type": "code",
   "execution_count": 100,
   "id": "8a209763",
   "metadata": {},
   "outputs": [
    {
     "data": {
      "text/plain": [
       "False"
      ]
     },
     "execution_count": 100,
     "metadata": {},
     "output_type": "execute_result"
    }
   ],
   "source": [
    "['abc', 'qwe', '123'] is another_list_of_strings"
   ]
  },
  {
   "cell_type": "code",
   "execution_count": 101,
   "id": "b43b02c2",
   "metadata": {},
   "outputs": [],
   "source": [
    "list_of_strings.append(\"foo\")"
   ]
  },
  {
   "cell_type": "code",
   "execution_count": 102,
   "id": "9c5253e4",
   "metadata": {},
   "outputs": [
    {
     "name": "stdout",
     "output_type": "stream",
     "text": [
      "['abc', 'qwe', '123', 'foo']\n"
     ]
    }
   ],
   "source": [
    "print(list_of_strings)"
   ]
  },
  {
   "cell_type": "code",
   "execution_count": 103,
   "id": "c1797be4",
   "metadata": {},
   "outputs": [
    {
     "name": "stdout",
     "output_type": "stream",
     "text": [
      "['abc', 'qwe', '123', 'foo']\n"
     ]
    }
   ],
   "source": [
    "print(another_list_of_strings)"
   ]
  },
  {
   "cell_type": "code",
   "execution_count": 104,
   "id": "46e01d0f",
   "metadata": {},
   "outputs": [
    {
     "data": {
      "text/plain": [
       "True"
      ]
     },
     "execution_count": 104,
     "metadata": {},
     "output_type": "execute_result"
    }
   ],
   "source": [
    "another_list_of_strings is list_of_strings"
   ]
  },
  {
   "cell_type": "code",
   "execution_count": 105,
   "id": "e22a4f74",
   "metadata": {},
   "outputs": [],
   "source": [
    "another_list_of_strings.append('bar')"
   ]
  },
  {
   "cell_type": "code",
   "execution_count": 106,
   "id": "f2388554",
   "metadata": {},
   "outputs": [
    {
     "name": "stdout",
     "output_type": "stream",
     "text": [
      "['abc', 'qwe', '123', 'foo', 'bar']\n"
     ]
    }
   ],
   "source": [
    "print(another_list_of_strings)"
   ]
  },
  {
   "cell_type": "code",
   "execution_count": 107,
   "id": "74416b9e",
   "metadata": {},
   "outputs": [
    {
     "name": "stdout",
     "output_type": "stream",
     "text": [
      "['abc', 'qwe', '123', 'foo', 'bar']\n"
     ]
    }
   ],
   "source": [
    "print(list_of_strings)"
   ]
  },
  {
   "cell_type": "code",
   "execution_count": 108,
   "id": "be28266f",
   "metadata": {},
   "outputs": [
    {
     "name": "stdout",
     "output_type": "stream",
     "text": [
      "['qwe', '123', 'foo']\n"
     ]
    }
   ],
   "source": [
    "print(list_of_strings[1:4])"
   ]
  },
  {
   "cell_type": "code",
   "execution_count": 109,
   "id": "49aca2a0",
   "metadata": {},
   "outputs": [
    {
     "name": "stdout",
     "output_type": "stream",
     "text": [
      "['123', 'foo']\n"
     ]
    }
   ],
   "source": [
    "print(list_of_strings[-3:-1])"
   ]
  },
  {
   "cell_type": "code",
   "execution_count": 110,
   "id": "907ce61d",
   "metadata": {},
   "outputs": [
    {
     "name": "stdout",
     "output_type": "stream",
     "text": [
      "['123', 'foo', 'bar']\n"
     ]
    }
   ],
   "source": [
    "print(list_of_strings[-3:])"
   ]
  },
  {
   "cell_type": "code",
   "execution_count": 111,
   "id": "a44c0397",
   "metadata": {},
   "outputs": [
    {
     "name": "stdout",
     "output_type": "stream",
     "text": [
      "['abc', 'qwe', '123']\n"
     ]
    }
   ],
   "source": [
    "print(list_of_strings[:-2])"
   ]
  },
  {
   "cell_type": "code",
   "execution_count": 112,
   "id": "083ed257",
   "metadata": {},
   "outputs": [
    {
     "name": "stdout",
     "output_type": "stream",
     "text": [
      "['abc', 'qwe', '123', 'foo', 'bar']\n"
     ]
    }
   ],
   "source": [
    "print(list_of_strings[:])"
   ]
  },
  {
   "cell_type": "code",
   "execution_count": 113,
   "id": "38f92be0",
   "metadata": {},
   "outputs": [
    {
     "name": "stdout",
     "output_type": "stream",
     "text": [
      "['abc', 'qwe', '123', 'foo', 'bar']\n"
     ]
    }
   ],
   "source": [
    "new_list_of_strings = list_of_strings[:]\n",
    "print(new_list_of_strings)"
   ]
  },
  {
   "cell_type": "code",
   "execution_count": 114,
   "id": "11017ead",
   "metadata": {},
   "outputs": [
    {
     "data": {
      "text/plain": [
       "True"
      ]
     },
     "execution_count": 114,
     "metadata": {},
     "output_type": "execute_result"
    }
   ],
   "source": [
    "new_list_of_strings == list_of_strings"
   ]
  },
  {
   "cell_type": "code",
   "execution_count": 115,
   "id": "1d4daf8a",
   "metadata": {},
   "outputs": [
    {
     "data": {
      "text/plain": [
       "False"
      ]
     },
     "execution_count": 115,
     "metadata": {},
     "output_type": "execute_result"
    }
   ],
   "source": [
    "new_list_of_strings is list_of_strings"
   ]
  },
  {
   "cell_type": "code",
   "execution_count": 116,
   "id": "d2879610",
   "metadata": {},
   "outputs": [
    {
     "data": {
      "text/plain": [
       "'bar'"
      ]
     },
     "execution_count": 116,
     "metadata": {},
     "output_type": "execute_result"
    }
   ],
   "source": [
    "new_list_of_strings.pop()"
   ]
  },
  {
   "cell_type": "code",
   "execution_count": 117,
   "id": "d0e2d1fd",
   "metadata": {},
   "outputs": [
    {
     "name": "stdout",
     "output_type": "stream",
     "text": [
      "['abc', 'qwe', '123', 'foo']\n",
      "['abc', 'qwe', '123', 'foo', 'bar']\n"
     ]
    }
   ],
   "source": [
    "print(new_list_of_strings)\n",
    "print(list_of_strings)"
   ]
  },
  {
   "cell_type": "code",
   "execution_count": 118,
   "id": "e3e4d9cd",
   "metadata": {},
   "outputs": [
    {
     "name": "stdout",
     "output_type": "stream",
     "text": [
      "['abc', 'qwe', '123', 'foo', 'bar']\n"
     ]
    }
   ],
   "source": [
    "print(another_list_of_strings)"
   ]
  },
  {
   "cell_type": "code",
   "execution_count": 119,
   "id": "2eebe090",
   "metadata": {},
   "outputs": [
    {
     "name": "stdout",
     "output_type": "stream",
     "text": [
      "['abc', 'qwe', '123', 'foo']\n",
      "['abc', 'qwe', '123', 'foo', 'bar', 'baz']\n",
      "['abc', 'qwe', '123', 'foo', 'bar', 'baz']\n"
     ]
    }
   ],
   "source": [
    "another_list_of_strings.append(\"baz\")\n",
    "print(new_list_of_strings)\n",
    "print(list_of_strings)\n",
    "print(another_list_of_strings)"
   ]
  },
  {
   "cell_type": "code",
   "execution_count": 120,
   "id": "c206f9c5",
   "metadata": {},
   "outputs": [
    {
     "name": "stdout",
     "output_type": "stream",
     "text": [
      "('1', 'abc', 'qwe')\n"
     ]
    }
   ],
   "source": [
    "tuple_of_strings = (\"1\", \"abc\", \"qwe\")\n",
    "print(tuple_of_strings)"
   ]
  },
  {
   "cell_type": "code",
   "execution_count": 121,
   "id": "0942a3b4",
   "metadata": {},
   "outputs": [
    {
     "name": "stdout",
     "output_type": "stream",
     "text": [
      "('1', 'abc', 'qwe')\n"
     ]
    }
   ],
   "source": [
    "new_tuple = tuple_of_strings\n",
    "print(new_tuple)"
   ]
  },
  {
   "cell_type": "code",
   "execution_count": 122,
   "id": "3e8c022d",
   "metadata": {},
   "outputs": [
    {
     "data": {
      "text/plain": [
       "True"
      ]
     },
     "execution_count": 122,
     "metadata": {},
     "output_type": "execute_result"
    }
   ],
   "source": [
    "new_tuple is tuple_of_strings"
   ]
  },
  {
   "cell_type": "code",
   "execution_count": 123,
   "id": "57a07c34",
   "metadata": {},
   "outputs": [
    {
     "data": {
      "text/plain": [
       "True"
      ]
     },
     "execution_count": 123,
     "metadata": {},
     "output_type": "execute_result"
    }
   ],
   "source": [
    "another_tuple = ('1', 'abc', 'qwe')\n",
    "new_tuple == another_tuple"
   ]
  },
  {
   "cell_type": "code",
   "execution_count": 124,
   "id": "8fbb7f87",
   "metadata": {},
   "outputs": [
    {
     "data": {
      "text/plain": [
       "False"
      ]
     },
     "execution_count": 124,
     "metadata": {},
     "output_type": "execute_result"
    }
   ],
   "source": [
    "new_tuple is another_tuple"
   ]
  },
  {
   "cell_type": "code",
   "execution_count": 125,
   "id": "4600f0f7",
   "metadata": {},
   "outputs": [
    {
     "name": "stdout",
     "output_type": "stream",
     "text": [
      "{'foo': 'bar'}\n"
     ]
    }
   ],
   "source": [
    "my_dict = {\"foo\": \"bar\"}\n",
    "print(my_dict)"
   ]
  },
  {
   "cell_type": "code",
   "execution_count": 126,
   "id": "a275ef0c",
   "metadata": {},
   "outputs": [
    {
     "data": {
      "text/plain": [
       "1"
      ]
     },
     "execution_count": 126,
     "metadata": {},
     "output_type": "execute_result"
    }
   ],
   "source": [
    "hash(1)"
   ]
  },
  {
   "cell_type": "code",
   "execution_count": 127,
   "id": "8a5294e5",
   "metadata": {},
   "outputs": [
    {
     "data": {
      "text/plain": [
       "10"
      ]
     },
     "execution_count": 127,
     "metadata": {},
     "output_type": "execute_result"
    }
   ],
   "source": [
    "hash(10)"
   ]
  },
  {
   "cell_type": "code",
   "execution_count": 128,
   "id": "1b995618",
   "metadata": {},
   "outputs": [
    {
     "data": {
      "text/plain": [
       "10"
      ]
     },
     "execution_count": 128,
     "metadata": {},
     "output_type": "execute_result"
    }
   ],
   "source": [
    "hash(10)"
   ]
  },
  {
   "cell_type": "code",
   "execution_count": 129,
   "id": "fa8ab389",
   "metadata": {},
   "outputs": [
    {
     "data": {
      "text/plain": [
       "5587213972117948743"
      ]
     },
     "execution_count": 129,
     "metadata": {},
     "output_type": "execute_result"
    }
   ],
   "source": [
    "hash('a')"
   ]
  },
  {
   "cell_type": "code",
   "execution_count": 130,
   "id": "fadb9b99",
   "metadata": {},
   "outputs": [
    {
     "data": {
      "text/plain": [
       "5587213972117948743"
      ]
     },
     "execution_count": 130,
     "metadata": {},
     "output_type": "execute_result"
    }
   ],
   "source": [
    "hash('a')"
   ]
  },
  {
   "cell_type": "code",
   "execution_count": 131,
   "id": "105a20a2",
   "metadata": {},
   "outputs": [
    {
     "data": {
      "text/plain": [
       "-1116651324835283604"
      ]
     },
     "execution_count": 131,
     "metadata": {},
     "output_type": "execute_result"
    }
   ],
   "source": [
    "hash('A')"
   ]
  },
  {
   "cell_type": "code",
   "execution_count": 132,
   "id": "d42c793c",
   "metadata": {},
   "outputs": [
    {
     "data": {
      "text/plain": [
       "8290987487410916467"
      ]
     },
     "execution_count": 132,
     "metadata": {},
     "output_type": "execute_result"
    }
   ],
   "source": [
    "hash(('1', 2, False))"
   ]
  },
  {
   "cell_type": "code",
   "execution_count": 133,
   "id": "dc9bfdbd",
   "metadata": {},
   "outputs": [
    {
     "data": {
      "text/plain": [
       "-3194506032951434905"
      ]
     },
     "execution_count": 133,
     "metadata": {},
     "output_type": "execute_result"
    }
   ],
   "source": [
    "hash((1, 2, False))"
   ]
  },
  {
   "cell_type": "code",
   "execution_count": 134,
   "id": "5d8c1868",
   "metadata": {},
   "outputs": [
    {
     "data": {
      "text/plain": [
       "{'foo': 'bar'}"
      ]
     },
     "execution_count": 134,
     "metadata": {},
     "output_type": "execute_result"
    }
   ],
   "source": [
    "my_dict"
   ]
  },
  {
   "cell_type": "code",
   "execution_count": 135,
   "id": "9970ffa6",
   "metadata": {},
   "outputs": [],
   "source": [
    "my_dict[\"spam\"] = 'eggs'"
   ]
  },
  {
   "cell_type": "code",
   "execution_count": 136,
   "id": "e49efcdd",
   "metadata": {},
   "outputs": [
    {
     "name": "stdout",
     "output_type": "stream",
     "text": [
      "{'foo': 'bar', 'spam': 'eggs'}\n"
     ]
    }
   ],
   "source": [
    "print(my_dict)"
   ]
  },
  {
   "cell_type": "code",
   "execution_count": 137,
   "id": "064d61b8",
   "metadata": {},
   "outputs": [
    {
     "name": "stdout",
     "output_type": "stream",
     "text": [
      "{'foo': 'bar', 'spam': 'eggs', 'list_of_strings': ['abc', 'qwe', '123', 'foo', 'bar', 'baz']}\n"
     ]
    }
   ],
   "source": [
    "my_dict[\"list_of_strings\"] = list_of_strings\n",
    "print(my_dict)"
   ]
  },
  {
   "cell_type": "code",
   "execution_count": 138,
   "id": "b9c79108",
   "metadata": {},
   "outputs": [
    {
     "name": "stdout",
     "output_type": "stream",
     "text": [
      "['abc', 'qwe', '123', 'foo', 'bar', 'baz']\n"
     ]
    }
   ],
   "source": [
    "print(my_dict[\"list_of_strings\"])"
   ]
  },
  {
   "cell_type": "code",
   "execution_count": 139,
   "id": "2a2e1cd4",
   "metadata": {},
   "outputs": [
    {
     "name": "stdout",
     "output_type": "stream",
     "text": [
      "['abc', 'qwe', 'xyz', 'foo', 'bar', 'baz']\n"
     ]
    }
   ],
   "source": [
    "another_list_of_strings[2] = 'xyz'\n",
    "print(another_list_of_strings)"
   ]
  },
  {
   "cell_type": "code",
   "execution_count": 140,
   "id": "4a153249",
   "metadata": {},
   "outputs": [
    {
     "data": {
      "text/plain": [
       "['abc', 'qwe', 'xyz', 'foo', 'bar', 'baz']"
      ]
     },
     "execution_count": 140,
     "metadata": {},
     "output_type": "execute_result"
    }
   ],
   "source": [
    "list_of_strings"
   ]
  },
  {
   "cell_type": "code",
   "execution_count": 141,
   "id": "2bb4c666",
   "metadata": {},
   "outputs": [
    {
     "name": "stdout",
     "output_type": "stream",
     "text": [
      "{'foo': 'bar', 'spam': 'eggs', 'list_of_strings': ['abc', 'qwe', 'xyz', 'foo', 'bar', 'baz']}\n"
     ]
    }
   ],
   "source": [
    "print(my_dict)"
   ]
  },
  {
   "cell_type": "code",
   "execution_count": 142,
   "id": "0b666746",
   "metadata": {},
   "outputs": [
    {
     "name": "stdout",
     "output_type": "stream",
     "text": [
      "['abc', 'qwe', 'xyz', 'foo', 'bar', 'baz']\n"
     ]
    }
   ],
   "source": [
    "print(my_dict[\"list_of_strings\"])"
   ]
  },
  {
   "cell_type": "code",
   "execution_count": 143,
   "id": "32476dd1",
   "metadata": {},
   "outputs": [
    {
     "name": "stdout",
     "output_type": "stream",
     "text": [
      "{'foo': 'bar', 'spam': 'eggs', 'list_of_strings': ['abc', 'qwe', 'xyz', 'foo', 'bar', 'baz'], 'another_dict': {'fizz': 'buzz'}}\n"
     ]
    }
   ],
   "source": [
    "my_dict[\"another_dict\"] = {\"fizz\": \"buzz\"}\n",
    "print(my_dict)"
   ]
  },
  {
   "cell_type": "code",
   "execution_count": 144,
   "id": "09dfbc14",
   "metadata": {},
   "outputs": [
    {
     "name": "stdout",
     "output_type": "stream",
     "text": [
      "{'foo': 'bar', 'spam': 'eggs', 'list_of_strings': ['abc', 'qwe', 'xyz', 'foo', 'bar', 'baz'], 'another_dict': {'fizz': 'BUZZ'}}\n"
     ]
    }
   ],
   "source": [
    "my_dict[\"another_dict\"][\"fizz\"] = \"BUZZ\"\n",
    "print(my_dict)"
   ]
  },
  {
   "cell_type": "code",
   "execution_count": 145,
   "id": "16dbc1e3",
   "metadata": {},
   "outputs": [
    {
     "name": "stdout",
     "output_type": "stream",
     "text": [
      "{1, 2, 3}\n"
     ]
    }
   ],
   "source": [
    "set_of_scores = {1, 2, 3}\n",
    "print(set_of_scores)"
   ]
  },
  {
   "cell_type": "code",
   "execution_count": 146,
   "id": "cf1883ea",
   "metadata": {},
   "outputs": [
    {
     "name": "stdout",
     "output_type": "stream",
     "text": [
      "{1, 2, 3, 4}\n"
     ]
    }
   ],
   "source": [
    "set_of_scores.add(4)\n",
    "print(set_of_scores)"
   ]
  },
  {
   "cell_type": "code",
   "execution_count": 147,
   "id": "08a4ac1d",
   "metadata": {},
   "outputs": [
    {
     "name": "stdout",
     "output_type": "stream",
     "text": [
      "{1, 2, 3, 4}\n"
     ]
    }
   ],
   "source": [
    "set_of_scores.add(1)\n",
    "print(set_of_scores)"
   ]
  },
  {
   "cell_type": "code",
   "execution_count": 148,
   "id": "78cead80",
   "metadata": {},
   "outputs": [
    {
     "name": "stdout",
     "output_type": "stream",
     "text": [
      "{1, 2, 3, 4, 'abc'}\n"
     ]
    }
   ],
   "source": [
    "set_of_scores.add('abc')\n",
    "print(set_of_scores)"
   ]
  },
  {
   "cell_type": "code",
   "execution_count": 149,
   "id": "5882c887",
   "metadata": {},
   "outputs": [
    {
     "name": "stdout",
     "output_type": "stream",
     "text": [
      "{0, 1, 2, 3, 4, 'abc'}\n"
     ]
    }
   ],
   "source": [
    "set_of_scores.add(0)\n",
    "print(set_of_scores)"
   ]
  },
  {
   "cell_type": "code",
   "execution_count": 150,
   "id": "47dfaa84",
   "metadata": {},
   "outputs": [
    {
     "data": {
      "text/plain": [
       "True"
      ]
     },
     "execution_count": 150,
     "metadata": {},
     "output_type": "execute_result"
    }
   ],
   "source": [
    "1 in set_of_scores"
   ]
  },
  {
   "cell_type": "code",
   "execution_count": 151,
   "id": "50a5165a",
   "metadata": {},
   "outputs": [
    {
     "name": "stdout",
     "output_type": "stream",
     "text": [
      "added 5\n"
     ]
    }
   ],
   "source": [
    "new_score = 5\n",
    "if new_score in set_of_scores:\n",
    "    print(new_score, \"is already there\")\n",
    "else:\n",
    "    set_of_scores.add(new_score)\n",
    "    print(\"added\", new_score)"
   ]
  },
  {
   "cell_type": "code",
   "execution_count": 152,
   "id": "78bee919",
   "metadata": {},
   "outputs": [
    {
     "name": "stdout",
     "output_type": "stream",
     "text": [
      "3 is already there\n"
     ]
    }
   ],
   "source": [
    "new_score = 3\n",
    "if new_score in set_of_scores:\n",
    "    print(new_score, \"is already there\")\n",
    "else:\n",
    "    set_of_scores.add(new_score)\n",
    "    print(\"added\", new_score)"
   ]
  },
  {
   "cell_type": "code",
   "execution_count": 153,
   "id": "68d36b5c",
   "metadata": {},
   "outputs": [],
   "source": [
    "if \"key\" in my_dict:\n",
    "    print(\"key value:\", my_dict[\"key\"])"
   ]
  },
  {
   "cell_type": "code",
   "execution_count": 154,
   "id": "d3e9adca",
   "metadata": {},
   "outputs": [
    {
     "name": "stdout",
     "output_type": "stream",
     "text": [
      "spam value: eggs\n"
     ]
    }
   ],
   "source": [
    "key = 'spam'\n",
    "if key in my_dict:\n",
    "    print(key, \"value:\", my_dict[key])"
   ]
  },
  {
   "cell_type": "code",
   "execution_count": 155,
   "id": "79ee9cd2",
   "metadata": {},
   "outputs": [
    {
     "data": {
      "text/plain": [
       "True"
      ]
     },
     "execution_count": 155,
     "metadata": {},
     "output_type": "execute_result"
    }
   ],
   "source": [
    "'a' in 'qwrabc'"
   ]
  },
  {
   "cell_type": "code",
   "execution_count": 156,
   "id": "111a2fa4",
   "metadata": {},
   "outputs": [
    {
     "data": {
      "text/plain": [
       "False"
      ]
     },
     "execution_count": 156,
     "metadata": {},
     "output_type": "execute_result"
    }
   ],
   "source": [
    "'b' in 'qwe'"
   ]
  },
  {
   "cell_type": "code",
   "execution_count": 157,
   "id": "71aba464",
   "metadata": {},
   "outputs": [
    {
     "name": "stdout",
     "output_type": "stream",
     "text": [
      "spam is there\n"
     ]
    }
   ],
   "source": [
    "if 'spam' in 'myspambox':\n",
    "    print('spam is there')"
   ]
  },
  {
   "cell_type": "code",
   "execution_count": 158,
   "id": "7c6ea335",
   "metadata": {},
   "outputs": [
    {
     "data": {
      "text/plain": [
       "True"
      ]
     },
     "execution_count": 158,
     "metadata": {},
     "output_type": "execute_result"
    }
   ],
   "source": [
    "'da' in \"123da22\""
   ]
  },
  {
   "cell_type": "code",
   "execution_count": 159,
   "id": "9007be89",
   "metadata": {},
   "outputs": [
    {
     "name": "stdout",
     "output_type": "stream",
     "text": [
      "{'foo': 'bar', 'spam': 'eggs', 'list_of_strings': ['abc', 'qwe', 'xyz', 'foo', 'bar', 'baz'], 'another_dict': {'fizz': 'BUZZ'}, 123: 'wasd'}\n"
     ]
    }
   ],
   "source": [
    "my_dict[123] = 'wasd'\n",
    "print(my_dict)"
   ]
  },
  {
   "cell_type": "code",
   "execution_count": 160,
   "id": "fc92949c",
   "metadata": {},
   "outputs": [
    {
     "data": {
      "text/plain": [
       "'wasd'"
      ]
     },
     "execution_count": 160,
     "metadata": {},
     "output_type": "execute_result"
    }
   ],
   "source": [
    "my_dict[123]"
   ]
  },
  {
   "cell_type": "code",
   "execution_count": 161,
   "id": "3efb9794",
   "metadata": {},
   "outputs": [
    {
     "name": "stdout",
     "output_type": "stream",
     "text": [
      "{'foo': 'bar', 'spam': 'eggs', 'list_of_strings': ['abc', 'qwe', 'xyz', 'foo', 'bar', 'baz'], 'another_dict': {'fizz': 'BUZZ'}, 123: 'wasd', (123, 456): 'qwe123567'}\n"
     ]
    }
   ],
   "source": [
    "my_dict[(123, 456)] = 'qwe123567'\n",
    "print(my_dict)"
   ]
  },
  {
   "cell_type": "code",
   "execution_count": 162,
   "id": "b0f0d4ca",
   "metadata": {},
   "outputs": [
    {
     "data": {
      "text/plain": [
       "'qwe123567'"
      ]
     },
     "execution_count": 162,
     "metadata": {},
     "output_type": "execute_result"
    }
   ],
   "source": [
    "my_dict[(123, 456)]"
   ]
  },
  {
   "cell_type": "code",
   "execution_count": null,
   "id": "facd098a",
   "metadata": {},
   "outputs": [],
   "source": []
  }
 ],
 "metadata": {
  "kernelspec": {
   "display_name": "Python 3",
   "language": "python",
   "name": "python3"
  },
  "language_info": {
   "codemirror_mode": {
    "name": "ipython",
    "version": 3
   },
   "file_extension": ".py",
   "mimetype": "text/x-python",
   "name": "python",
   "nbconvert_exporter": "python",
   "pygments_lexer": "ipython3",
   "version": "3.9.5"
  }
 },
 "nbformat": 4,
 "nbformat_minor": 5
}
