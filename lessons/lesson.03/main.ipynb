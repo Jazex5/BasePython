{
 "cells": [
  {
   "cell_type": "code",
   "execution_count": 1,
   "id": "182a8dab",
   "metadata": {},
   "outputs": [
    {
     "name": "stdout",
     "output_type": "stream",
     "text": [
      "hello\n"
     ]
    }
   ],
   "source": [
    "print(\"hello\")"
   ]
  },
  {
   "cell_type": "code",
   "execution_count": 2,
   "id": "a45eaa73",
   "metadata": {},
   "outputs": [
    {
     "data": {
      "text/plain": [
       "<function print>"
      ]
     },
     "execution_count": 2,
     "metadata": {},
     "output_type": "execute_result"
    }
   ],
   "source": [
    "print"
   ]
  },
  {
   "cell_type": "code",
   "execution_count": 3,
   "id": "c82c598f",
   "metadata": {},
   "outputs": [],
   "source": [
    "def my_function():\n",
    "    print(\"my funciton prints this\")"
   ]
  },
  {
   "cell_type": "code",
   "execution_count": 4,
   "id": "2e9d9830",
   "metadata": {},
   "outputs": [
    {
     "name": "stdout",
     "output_type": "stream",
     "text": [
      "<function my_function at 0x1054a4820>\n"
     ]
    }
   ],
   "source": [
    "print(my_function)"
   ]
  },
  {
   "cell_type": "code",
   "execution_count": 5,
   "id": "b6e0ec87",
   "metadata": {},
   "outputs": [
    {
     "name": "stdout",
     "output_type": "stream",
     "text": [
      "my funciton prints this\n"
     ]
    }
   ],
   "source": [
    "my_function()"
   ]
  },
  {
   "cell_type": "code",
   "execution_count": 6,
   "id": "474d4d9f",
   "metadata": {},
   "outputs": [],
   "source": [
    "def my_decorator(func_to_decorate):\n",
    "    print(\"in a decorator, create a new function\")\n",
    "    \n",
    "    def replacement_function():\n",
    "        print(\"run replacement function\")\n",
    "        func_to_decorate()\n",
    "        print(\"done running replacement function\")\n",
    "\n",
    "    print(\"created a new function, return it\")\n",
    "    return replacement_function"
   ]
  },
  {
   "cell_type": "code",
   "execution_count": 7,
   "id": "ec2c3acc",
   "metadata": {},
   "outputs": [
    {
     "name": "stdout",
     "output_type": "stream",
     "text": [
      "in a decorator, create a new function\n",
      "created a new function, return it\n"
     ]
    }
   ],
   "source": [
    "my_function = my_decorator(my_function)"
   ]
  },
  {
   "cell_type": "code",
   "execution_count": 8,
   "id": "fa424768",
   "metadata": {},
   "outputs": [
    {
     "name": "stdout",
     "output_type": "stream",
     "text": [
      "<function my_decorator.<locals>.replacement_function at 0x1054a4af0>\n"
     ]
    }
   ],
   "source": [
    "print(my_function)"
   ]
  },
  {
   "cell_type": "code",
   "execution_count": 9,
   "id": "953a9d15",
   "metadata": {},
   "outputs": [
    {
     "name": "stdout",
     "output_type": "stream",
     "text": [
      "run replacement function\n",
      "my funciton prints this\n",
      "done running replacement function\n"
     ]
    }
   ],
   "source": [
    "my_function()"
   ]
  },
  {
   "cell_type": "code",
   "execution_count": 10,
   "id": "a10347e1",
   "metadata": {},
   "outputs": [
    {
     "name": "stdout",
     "output_type": "stream",
     "text": [
      "in a decorator, create a new function\n",
      "created a new function, return it\n"
     ]
    }
   ],
   "source": [
    "@my_decorator\n",
    "def small_func():\n",
    "    print(\"hi, I'm a small function\")"
   ]
  },
  {
   "cell_type": "code",
   "execution_count": 11,
   "id": "dbcdd65f",
   "metadata": {},
   "outputs": [
    {
     "name": "stdout",
     "output_type": "stream",
     "text": [
      "<function my_decorator.<locals>.replacement_function at 0x1054a4160>\n"
     ]
    }
   ],
   "source": [
    "print(small_func)"
   ]
  },
  {
   "cell_type": "code",
   "execution_count": 12,
   "id": "a1b02580",
   "metadata": {},
   "outputs": [
    {
     "name": "stdout",
     "output_type": "stream",
     "text": [
      "run replacement function\n",
      "hi, I'm a small function\n",
      "done running replacement function\n"
     ]
    }
   ],
   "source": [
    "small_func()"
   ]
  },
  {
   "cell_type": "code",
   "execution_count": 13,
   "id": "21f9c5aa",
   "metadata": {},
   "outputs": [
    {
     "data": {
      "text/plain": [
       "<function print>"
      ]
     },
     "execution_count": 13,
     "metadata": {},
     "output_type": "execute_result"
    }
   ],
   "source": [
    "print"
   ]
  },
  {
   "cell_type": "code",
   "execution_count": 14,
   "id": "4c86b25c",
   "metadata": {},
   "outputs": [],
   "source": [
    "from functools import wraps"
   ]
  },
  {
   "cell_type": "code",
   "execution_count": 15,
   "id": "9bf745f6",
   "metadata": {},
   "outputs": [],
   "source": [
    "def dec_foo(func):\n",
    "    print(\"creating foo dec\")\n",
    "    \n",
    "    @wraps(func)\n",
    "    def wrapper():\n",
    "        print(\"execute foo\")\n",
    "        func()\n",
    "        print(\"done executing foo\")\n",
    "        \n",
    "    print(\"created foo wrapper, returning\")\n",
    "    return wrapper"
   ]
  },
  {
   "cell_type": "code",
   "execution_count": 16,
   "id": "b681463c",
   "metadata": {},
   "outputs": [
    {
     "name": "stdout",
     "output_type": "stream",
     "text": [
      "creating foo dec\n",
      "created foo wrapper, returning\n"
     ]
    }
   ],
   "source": [
    "@dec_foo\n",
    "def some_func():\n",
    "    print(\"выполняю тело функции\")"
   ]
  },
  {
   "cell_type": "code",
   "execution_count": 17,
   "id": "587708eb",
   "metadata": {},
   "outputs": [
    {
     "name": "stdout",
     "output_type": "stream",
     "text": [
      "<function some_func at 0x1054a4940>\n"
     ]
    }
   ],
   "source": [
    "print(some_func)"
   ]
  },
  {
   "cell_type": "code",
   "execution_count": 18,
   "id": "8f6f4a02",
   "metadata": {},
   "outputs": [
    {
     "name": "stdout",
     "output_type": "stream",
     "text": [
      "execute foo\n",
      "выполняю тело функции\n",
      "done executing foo\n"
     ]
    }
   ],
   "source": [
    "some_func()"
   ]
  },
  {
   "cell_type": "code",
   "execution_count": 19,
   "id": "3eb77d17",
   "metadata": {},
   "outputs": [],
   "source": [
    "def dec_bar(func):\n",
    "    print(\"creating bar dec\")\n",
    "    \n",
    "    @wraps(func)\n",
    "    def wrapper():\n",
    "        print(\"execute bar\")\n",
    "        func()\n",
    "        print(\"done executing bar\")\n",
    "        \n",
    "    print(\"created bar wrapper, returning\")\n",
    "    return wrapper"
   ]
  },
  {
   "cell_type": "code",
   "execution_count": 20,
   "id": "9e940656",
   "metadata": {},
   "outputs": [
    {
     "name": "stdout",
     "output_type": "stream",
     "text": [
      "creating bar dec\n",
      "created bar wrapper, returning\n",
      "creating foo dec\n",
      "created foo wrapper, returning\n"
     ]
    }
   ],
   "source": [
    "@dec_foo\n",
    "@dec_bar\n",
    "def my_func():\n",
    "    print(\"тело моей функции\")"
   ]
  },
  {
   "cell_type": "code",
   "execution_count": 21,
   "id": "b233b1ba",
   "metadata": {},
   "outputs": [
    {
     "name": "stdout",
     "output_type": "stream",
     "text": [
      "execute foo\n",
      "execute bar\n",
      "тело моей функции\n",
      "done executing bar\n",
      "done executing foo\n"
     ]
    }
   ],
   "source": [
    "my_func()"
   ]
  },
  {
   "cell_type": "code",
   "execution_count": 22,
   "id": "2ec71b1e",
   "metadata": {},
   "outputs": [],
   "source": [
    "def square(num):\n",
    "    return num ** 2"
   ]
  },
  {
   "cell_type": "code",
   "execution_count": 23,
   "id": "dd5ce549",
   "metadata": {},
   "outputs": [
    {
     "data": {
      "text/plain": [
       "4"
      ]
     },
     "execution_count": 23,
     "metadata": {},
     "output_type": "execute_result"
    }
   ],
   "source": [
    "square(2)"
   ]
  },
  {
   "cell_type": "code",
   "execution_count": 24,
   "id": "155cddf9",
   "metadata": {},
   "outputs": [
    {
     "data": {
      "text/plain": [
       "9"
      ]
     },
     "execution_count": 24,
     "metadata": {},
     "output_type": "execute_result"
    }
   ],
   "source": [
    "square(3)"
   ]
  },
  {
   "cell_type": "code",
   "execution_count": 25,
   "id": "693b5741",
   "metadata": {},
   "outputs": [],
   "source": [
    "def dec_accept_one_arg(func):\n",
    "    \n",
    "    @wraps(func)\n",
    "    def wrapper(arg):\n",
    "        print(\"call original func\", func)\n",
    "        result = func(arg)\n",
    "        print(\"result\", result)\n",
    "        return result\n",
    "    \n",
    "    return wrapper"
   ]
  },
  {
   "cell_type": "code",
   "execution_count": 26,
   "id": "4dac36f9",
   "metadata": {},
   "outputs": [],
   "source": [
    "@dec_accept_one_arg\n",
    "def cube(num):\n",
    "    return num ** 3"
   ]
  },
  {
   "cell_type": "code",
   "execution_count": 27,
   "id": "5e449de4",
   "metadata": {},
   "outputs": [
    {
     "name": "stdout",
     "output_type": "stream",
     "text": [
      "call original func <function cube at 0x1054f40d0>\n",
      "result 8\n"
     ]
    },
    {
     "data": {
      "text/plain": [
       "8"
      ]
     },
     "execution_count": 27,
     "metadata": {},
     "output_type": "execute_result"
    }
   ],
   "source": [
    "cube(2)"
   ]
  },
  {
   "cell_type": "code",
   "execution_count": 28,
   "id": "34750cea",
   "metadata": {},
   "outputs": [
    {
     "name": "stdout",
     "output_type": "stream",
     "text": [
      "<function cube at 0x1054f41f0>\n"
     ]
    }
   ],
   "source": [
    "print(cube)"
   ]
  },
  {
   "cell_type": "code",
   "execution_count": 29,
   "id": "7a1218b6",
   "metadata": {},
   "outputs": [
    {
     "name": "stdout",
     "output_type": "stream",
     "text": [
      "call original func <function cube at 0x1054f40d0>\n",
      "result 27\n"
     ]
    },
    {
     "data": {
      "text/plain": [
       "27"
      ]
     },
     "execution_count": 29,
     "metadata": {},
     "output_type": "execute_result"
    }
   ],
   "source": [
    "cube(3)"
   ]
  },
  {
   "cell_type": "code",
   "execution_count": 30,
   "id": "b401d48c",
   "metadata": {},
   "outputs": [],
   "source": [
    "from timeit import default_timer"
   ]
  },
  {
   "cell_type": "code",
   "execution_count": 31,
   "id": "ce2dd1d4",
   "metadata": {},
   "outputs": [
    {
     "data": {
      "text/plain": [
       "<function time.perf_counter>"
      ]
     },
     "execution_count": 31,
     "metadata": {},
     "output_type": "execute_result"
    }
   ],
   "source": [
    "default_timer"
   ]
  },
  {
   "cell_type": "code",
   "execution_count": 32,
   "id": "ad49aa45",
   "metadata": {},
   "outputs": [
    {
     "data": {
      "text/plain": [
       "1090.823732"
      ]
     },
     "execution_count": 32,
     "metadata": {},
     "output_type": "execute_result"
    }
   ],
   "source": [
    "default_timer()"
   ]
  },
  {
   "cell_type": "code",
   "execution_count": 33,
   "id": "be40d2fc",
   "metadata": {},
   "outputs": [
    {
     "data": {
      "text/plain": [
       "1097.77151925"
      ]
     },
     "execution_count": 33,
     "metadata": {},
     "output_type": "execute_result"
    }
   ],
   "source": [
    "default_timer()"
   ]
  },
  {
   "cell_type": "code",
   "execution_count": 34,
   "id": "1bf2b0c3",
   "metadata": {},
   "outputs": [
    {
     "data": {
      "text/plain": [
       "('in 123.0000000000 sec',)"
      ]
     },
     "execution_count": 34,
     "metadata": {},
     "output_type": "execute_result"
    }
   ],
   "source": [
    "\"in {:.10f} sec\".format(123),"
   ]
  },
  {
   "cell_type": "code",
   "execution_count": 35,
   "id": "dee81e3f",
   "metadata": {},
   "outputs": [
    {
     "data": {
      "text/plain": [
       "('in 0.0434782609 sec',)"
      ]
     },
     "execution_count": 35,
     "metadata": {},
     "output_type": "execute_result"
    }
   ],
   "source": [
    "\"in {:.10f} sec\".format(1/23),"
   ]
  },
  {
   "cell_type": "code",
   "execution_count": 36,
   "id": "f591159a",
   "metadata": {},
   "outputs": [
    {
     "data": {
      "text/plain": [
       "('in 1.5000000000 sec',)"
      ]
     },
     "execution_count": 36,
     "metadata": {},
     "output_type": "execute_result"
    }
   ],
   "source": [
    "\"in {:.10f} sec\".format(3/2),"
   ]
  },
  {
   "cell_type": "code",
   "execution_count": 37,
   "id": "87543f49",
   "metadata": {},
   "outputs": [],
   "source": [
    "def show_time(func):\n",
    "    \n",
    "    @wraps(func)\n",
    "    def wrapper(*args, **kwargs):\n",
    "        start_time = default_timer()\n",
    "        result = func(*args, **kwargs)\n",
    "        amount = default_timer() - start_time\n",
    "        print(\n",
    "            \"executed func\", \n",
    "            func,\n",
    "            \"with args\",\n",
    "            args,\n",
    "            \"and kwargs\",\n",
    "            kwargs,\n",
    "            \"in {:.10f} sec\".format(amount),\n",
    "        )\n",
    "        return result\n",
    "    \n",
    "    return wrapper"
   ]
  },
  {
   "cell_type": "code",
   "execution_count": 38,
   "id": "6a96badd",
   "metadata": {},
   "outputs": [],
   "source": [
    "@show_time\n",
    "def power_numbers(*numbers, power=2):\n",
    "    return [num ** power for num in numbers]"
   ]
  },
  {
   "cell_type": "code",
   "execution_count": 39,
   "id": "4374ebf7",
   "metadata": {},
   "outputs": [
    {
     "name": "stdout",
     "output_type": "stream",
     "text": [
      "executed func <function power_numbers at 0x1054f43a0> with args (1,) and kwargs {} in 0.0000047500 sec\n"
     ]
    },
    {
     "data": {
      "text/plain": [
       "[1]"
      ]
     },
     "execution_count": 39,
     "metadata": {},
     "output_type": "execute_result"
    }
   ],
   "source": [
    "power_numbers(1)"
   ]
  },
  {
   "cell_type": "code",
   "execution_count": 40,
   "id": "9c3f9bbc",
   "metadata": {},
   "outputs": [
    {
     "name": "stdout",
     "output_type": "stream",
     "text": [
      "executed func <function power_numbers at 0x1054f43a0> with args (12, 15) and kwargs {} in 0.0000051670 sec\n"
     ]
    },
    {
     "data": {
      "text/plain": [
       "[144, 225]"
      ]
     },
     "execution_count": 40,
     "metadata": {},
     "output_type": "execute_result"
    }
   ],
   "source": [
    "power_numbers(12, 15)"
   ]
  },
  {
   "cell_type": "code",
   "execution_count": 41,
   "id": "076bc0a7",
   "metadata": {},
   "outputs": [
    {
     "name": "stdout",
     "output_type": "stream",
     "text": [
      "executed func <function power_numbers at 0x1054f43a0> with args (123, 157) and kwargs {'power': 123} in 0.0000092920 sec\n"
     ]
    },
    {
     "data": {
      "text/plain": [
       "[114374367934617190099880295228066276746218078451850229775887975052369504785666896446606568365201542169649974727730628842345343196581134895919942820874449837212099476648958359023796078549041949007807220625356526926729664064846685758382803707100766740220839267,\n",
       " 1246399443252201606885111616208944258416099789279893404041194722820574464563352270583088316975732323846428198388390893682205690817151123754902722437679292907946909529358611700899295430574840313073834835479052674455537938306786428794521553549129252792877715192188373097893]"
      ]
     },
     "execution_count": 41,
     "metadata": {},
     "output_type": "execute_result"
    }
   ],
   "source": [
    "power_numbers(123, 157, power=123)"
   ]
  },
  {
   "cell_type": "code",
   "execution_count": 42,
   "id": "7bed6afc",
   "metadata": {},
   "outputs": [
    {
     "name": "stdout",
     "output_type": "stream",
     "text": [
      "executed func <function power_numbers at 0x1054f43a0> with args (100, 101, 102, 103, 104, 105, 106, 107, 108, 109) and kwargs {'power': 13} in 0.0000121250 sec\n"
     ]
    },
    {
     "data": {
      "text/plain": [
       "[100000000000000000000000000,\n",
       " 113809328043328941786781301,\n",
       " 129360663045379622466772992,\n",
       " 146853371345156431381127623,\n",
       " 166507350731038802170609664,\n",
       " 188564914232323560791015625,\n",
       " 213292826014568334917410816,\n",
       " 240984500018808097135911707,\n",
       " 271962372616449667721330688,\n",
       " 306580461214335498944273629]"
      ]
     },
     "execution_count": 42,
     "metadata": {},
     "output_type": "execute_result"
    }
   ],
   "source": [
    "power_numbers(*range(100, 110), **{\"power\": 13})"
   ]
  },
  {
   "cell_type": "code",
   "execution_count": 43,
   "id": "23d5a88a",
   "metadata": {},
   "outputs": [
    {
     "data": {
      "text/plain": [
       "'in -1.0000000000 sec'"
      ]
     },
     "execution_count": 43,
     "metadata": {},
     "output_type": "execute_result"
    }
   ],
   "source": [
    "\"in {:.10f} sec\".format(3 - 4)"
   ]
  },
  {
   "cell_type": "code",
   "execution_count": 44,
   "id": "05e9d777",
   "metadata": {},
   "outputs": [
    {
     "data": {
      "text/plain": [
       "'in 0.0000000000 sec'"
      ]
     },
     "execution_count": 44,
     "metadata": {},
     "output_type": "execute_result"
    }
   ],
   "source": [
    "\"in {:.10f} sec\".format(0)"
   ]
  },
  {
   "cell_type": "code",
   "execution_count": 45,
   "id": "9428c99a",
   "metadata": {},
   "outputs": [
    {
     "data": {
      "text/plain": [
       "'in 0.000 sec'"
      ]
     },
     "execution_count": 45,
     "metadata": {},
     "output_type": "execute_result"
    }
   ],
   "source": [
    "\"in {:.3f} sec\".format(0)"
   ]
  },
  {
   "cell_type": "code",
   "execution_count": 46,
   "id": "9065edbf",
   "metadata": {},
   "outputs": [
    {
     "data": {
      "text/plain": [
       "'in 0.667 sec'"
      ]
     },
     "execution_count": 46,
     "metadata": {},
     "output_type": "execute_result"
    }
   ],
   "source": [
    "\"in {:.3f} sec\".format(2/3)"
   ]
  },
  {
   "cell_type": "code",
   "execution_count": 47,
   "id": "c03785dc",
   "metadata": {},
   "outputs": [
    {
     "data": {
      "text/plain": [
       "'in 0.6666666666667 sec'"
      ]
     },
     "execution_count": 47,
     "metadata": {},
     "output_type": "execute_result"
    }
   ],
   "source": [
    "\"in {:.13f} sec\".format(2/3)"
   ]
  },
  {
   "cell_type": "code",
   "execution_count": 48,
   "id": "b68ad572",
   "metadata": {},
   "outputs": [
    {
     "data": {
      "text/plain": [
       "0.6666666666666666"
      ]
     },
     "execution_count": 48,
     "metadata": {},
     "output_type": "execute_result"
    }
   ],
   "source": [
    "2/3"
   ]
  },
  {
   "cell_type": "code",
   "execution_count": 49,
   "id": "0da5c057",
   "metadata": {},
   "outputs": [
    {
     "data": {
      "text/plain": [
       "2.142857142857143"
      ]
     },
     "execution_count": 49,
     "metadata": {},
     "output_type": "execute_result"
    }
   ],
   "source": [
    "15/7"
   ]
  },
  {
   "cell_type": "code",
   "execution_count": 50,
   "id": "a4e9e6ac",
   "metadata": {},
   "outputs": [
    {
     "data": {
      "text/plain": [
       "-1.6700005289749242e-07"
      ]
     },
     "execution_count": 50,
     "metadata": {},
     "output_type": "execute_result"
    }
   ],
   "source": [
    "default_timer() - default_timer()"
   ]
  },
  {
   "cell_type": "code",
   "execution_count": 51,
   "id": "252d6cdb",
   "metadata": {},
   "outputs": [
    {
     "data": {
      "text/plain": [
       "'in -0.0000001670001 sec'"
      ]
     },
     "execution_count": 51,
     "metadata": {},
     "output_type": "execute_result"
    }
   ],
   "source": [
    "\"in {:.13f} sec\".format(default_timer() - default_timer())"
   ]
  },
  {
   "cell_type": "code",
   "execution_count": 60,
   "id": "86b02740",
   "metadata": {},
   "outputs": [],
   "source": [
    "def fib(n):\n",
    "    if n < 1:\n",
    "        return\n",
    "    if n in (1, 2):\n",
    "        return 1\n",
    "\n",
    "    return fib(n - 1) + fib(n - 2)"
   ]
  },
  {
   "cell_type": "code",
   "execution_count": 61,
   "id": "77585027",
   "metadata": {},
   "outputs": [
    {
     "data": {
      "text/plain": [
       "1"
      ]
     },
     "execution_count": 61,
     "metadata": {},
     "output_type": "execute_result"
    }
   ],
   "source": [
    "fib(2)"
   ]
  },
  {
   "cell_type": "code",
   "execution_count": 62,
   "id": "20b19230",
   "metadata": {},
   "outputs": [
    {
     "data": {
      "text/plain": [
       "2"
      ]
     },
     "execution_count": 62,
     "metadata": {},
     "output_type": "execute_result"
    }
   ],
   "source": [
    "fib(3)"
   ]
  },
  {
   "cell_type": "code",
   "execution_count": 63,
   "id": "3516b104",
   "metadata": {},
   "outputs": [
    {
     "data": {
      "text/plain": [
       "3"
      ]
     },
     "execution_count": 63,
     "metadata": {},
     "output_type": "execute_result"
    }
   ],
   "source": [
    "fib(4)"
   ]
  },
  {
   "cell_type": "code",
   "execution_count": 64,
   "id": "5ee972c8",
   "metadata": {},
   "outputs": [
    {
     "data": {
      "text/plain": [
       "[None, 1, 1, 2, 3, 5, 8, 13, 21, 34]"
      ]
     },
     "execution_count": 64,
     "metadata": {},
     "output_type": "execute_result"
    }
   ],
   "source": [
    "[fib(n) for n in range(10)]"
   ]
  },
  {
   "cell_type": "code",
   "execution_count": 65,
   "id": "98e80c07",
   "metadata": {},
   "outputs": [],
   "source": [
    "fib = show_time(fib)"
   ]
  },
  {
   "cell_type": "code",
   "execution_count": 66,
   "id": "261736b8",
   "metadata": {},
   "outputs": [
    {
     "data": {
      "text/plain": [
       "<function __main__.fib(n)>"
      ]
     },
     "execution_count": 66,
     "metadata": {},
     "output_type": "execute_result"
    }
   ],
   "source": [
    "fib"
   ]
  },
  {
   "cell_type": "code",
   "execution_count": 67,
   "id": "b533b188",
   "metadata": {},
   "outputs": [
    {
     "name": "stdout",
     "output_type": "stream",
     "text": [
      "executed func <function fib at 0x1056d9af0> with args (2,) and kwargs {} in 0.0000007080 sec\n",
      "executed func <function fib at 0x1056d9af0> with args (1,) and kwargs {} in 0.0000009580 sec\n",
      "executed func <function fib at 0x1056d9af0> with args (3,) and kwargs {} in 0.0003717090 sec\n",
      "executed func <function fib at 0x1056d9af0> with args (2,) and kwargs {} in 0.0000008340 sec\n",
      "executed func <function fib at 0x1056d9af0> with args (4,) and kwargs {} in 0.0007754170 sec\n"
     ]
    },
    {
     "data": {
      "text/plain": [
       "3"
      ]
     },
     "execution_count": 67,
     "metadata": {},
     "output_type": "execute_result"
    }
   ],
   "source": [
    "fib(4)"
   ]
  },
  {
   "cell_type": "code",
   "execution_count": 68,
   "id": "eba3d666",
   "metadata": {},
   "outputs": [
    {
     "name": "stdout",
     "output_type": "stream",
     "text": [
      "executed func <function fib at 0x1056d9af0> with args (2,) and kwargs {} in 0.0000004580 sec\n",
      "executed func <function fib at 0x1056d9af0> with args (1,) and kwargs {} in 0.0000009170 sec\n",
      "executed func <function fib at 0x1056d9af0> with args (3,) and kwargs {} in 0.0008927920 sec\n",
      "executed func <function fib at 0x1056d9af0> with args (2,) and kwargs {} in 0.0000008340 sec\n",
      "executed func <function fib at 0x1056d9af0> with args (4,) and kwargs {} in 0.0012179170 sec\n",
      "executed func <function fib at 0x1056d9af0> with args (2,) and kwargs {} in 0.0000005420 sec\n",
      "executed func <function fib at 0x1056d9af0> with args (1,) and kwargs {} in 0.0000009160 sec\n",
      "executed func <function fib at 0x1056d9af0> with args (3,) and kwargs {} in 0.0002382500 sec\n",
      "executed func <function fib at 0x1056d9af0> with args (5,) and kwargs {} in 0.0017568750 sec\n",
      "executed func <function fib at 0x1056d9af0> with args (2,) and kwargs {} in 0.0000010410 sec\n",
      "executed func <function fib at 0x1056d9af0> with args (1,) and kwargs {} in 0.0000007920 sec\n",
      "executed func <function fib at 0x1056d9af0> with args (3,) and kwargs {} in 0.0003187080 sec\n",
      "executed func <function fib at 0x1056d9af0> with args (2,) and kwargs {} in 0.0000007090 sec\n",
      "executed func <function fib at 0x1056d9af0> with args (4,) and kwargs {} in 0.0004712090 sec\n",
      "executed func <function fib at 0x1056d9af0> with args (6,) and kwargs {} in 0.0028596250 sec\n",
      "executed func <function fib at 0x1056d9af0> with args (2,) and kwargs {} in 0.0000004580 sec\n",
      "executed func <function fib at 0x1056d9af0> with args (1,) and kwargs {} in 0.0000007090 sec\n",
      "executed func <function fib at 0x1056d9af0> with args (3,) and kwargs {} in 0.0002367080 sec\n",
      "executed func <function fib at 0x1056d9af0> with args (2,) and kwargs {} in 0.0000006660 sec\n",
      "executed func <function fib at 0x1056d9af0> with args (4,) and kwargs {} in 0.0006325840 sec\n",
      "executed func <function fib at 0x1056d9af0> with args (2,) and kwargs {} in 0.0000004580 sec\n",
      "executed func <function fib at 0x1056d9af0> with args (1,) and kwargs {} in 0.0000005420 sec\n",
      "executed func <function fib at 0x1056d9af0> with args (3,) and kwargs {} in 0.0002241250 sec\n",
      "executed func <function fib at 0x1056d9af0> with args (5,) and kwargs {} in 0.0013498330 sec\n",
      "executed func <function fib at 0x1056d9af0> with args (7,) and kwargs {} in 0.0044537500 sec\n",
      "executed func <function fib at 0x1056d9af0> with args (2,) and kwargs {} in 0.0000004580 sec\n",
      "executed func <function fib at 0x1056d9af0> with args (1,) and kwargs {} in 0.0000008330 sec\n",
      "executed func <function fib at 0x1056d9af0> with args (3,) and kwargs {} in 0.0001719580 sec\n",
      "executed func <function fib at 0x1056d9af0> with args (2,) and kwargs {} in 0.0000006670 sec\n",
      "executed func <function fib at 0x1056d9af0> with args (4,) and kwargs {} in 0.0003334170 sec\n",
      "executed func <function fib at 0x1056d9af0> with args (2,) and kwargs {} in 0.0000005420 sec\n",
      "executed func <function fib at 0x1056d9af0> with args (1,) and kwargs {} in 0.0000006250 sec\n",
      "executed func <function fib at 0x1056d9af0> with args (3,) and kwargs {} in 0.0001837080 sec\n",
      "executed func <function fib at 0x1056d9af0> with args (5,) and kwargs {} in 0.0008520840 sec\n",
      "executed func <function fib at 0x1056d9af0> with args (2,) and kwargs {} in 0.0000005000 sec\n",
      "executed func <function fib at 0x1056d9af0> with args (1,) and kwargs {} in 0.0000005000 sec\n",
      "executed func <function fib at 0x1056d9af0> with args (3,) and kwargs {} in 0.0001663750 sec\n",
      "executed func <function fib at 0x1056d9af0> with args (2,) and kwargs {} in 0.0000005420 sec\n",
      "executed func <function fib at 0x1056d9af0> with args (4,) and kwargs {} in 0.0003368750 sec\n",
      "executed func <function fib at 0x1056d9af0> with args (6,) and kwargs {} in 0.0013580000 sec\n",
      "executed func <function fib at 0x1056d9af0> with args (8,) and kwargs {} in 0.0059783750 sec\n",
      "executed func <function fib at 0x1056d9af0> with args (2,) and kwargs {} in 0.0000003750 sec\n",
      "executed func <function fib at 0x1056d9af0> with args (1,) and kwargs {} in 0.0000004580 sec\n",
      "executed func <function fib at 0x1056d9af0> with args (3,) and kwargs {} in 0.0002130000 sec\n",
      "executed func <function fib at 0x1056d9af0> with args (2,) and kwargs {} in 0.0000007500 sec\n",
      "executed func <function fib at 0x1056d9af0> with args (4,) and kwargs {} in 0.0006273330 sec\n",
      "executed func <function fib at 0x1056d9af0> with args (2,) and kwargs {} in 0.0000005000 sec\n",
      "executed func <function fib at 0x1056d9af0> with args (1,) and kwargs {} in 0.0000005420 sec\n",
      "executed func <function fib at 0x1056d9af0> with args (3,) and kwargs {} in 0.0001677500 sec\n",
      "executed func <function fib at 0x1056d9af0> with args (5,) and kwargs {} in 0.0009717910 sec\n",
      "executed func <function fib at 0x1056d9af0> with args (2,) and kwargs {} in 0.0000003750 sec\n",
      "executed func <function fib at 0x1056d9af0> with args (1,) and kwargs {} in 0.0000008340 sec\n",
      "executed func <function fib at 0x1056d9af0> with args (3,) and kwargs {} in 0.0001923750 sec\n",
      "executed func <function fib at 0x1056d9af0> with args (2,) and kwargs {} in 0.0000006250 sec\n",
      "executed func <function fib at 0x1056d9af0> with args (4,) and kwargs {} in 0.0003595420 sec\n",
      "executed func <function fib at 0x1056d9af0> with args (6,) and kwargs {} in 0.0015230420 sec\n",
      "executed func <function fib at 0x1056d9af0> with args (2,) and kwargs {} in 0.0000003750 sec\n",
      "executed func <function fib at 0x1056d9af0> with args (1,) and kwargs {} in 0.0000005420 sec\n",
      "executed func <function fib at 0x1056d9af0> with args (3,) and kwargs {} in 0.0001652920 sec\n",
      "executed func <function fib at 0x1056d9af0> with args (2,) and kwargs {} in 0.0000006250 sec\n",
      "executed func <function fib at 0x1056d9af0> with args (4,) and kwargs {} in 0.0005455000 sec\n",
      "executed func <function fib at 0x1056d9af0> with args (2,) and kwargs {} in 0.0000007080 sec\n",
      "executed func <function fib at 0x1056d9af0> with args (1,) and kwargs {} in 0.0000008340 sec\n",
      "executed func <function fib at 0x1056d9af0> with args (3,) and kwargs {} in 0.0002618750 sec\n",
      "executed func <function fib at 0x1056d9af0> with args (5,) and kwargs {} in 0.0010605830 sec\n",
      "executed func <function fib at 0x1056d9af0> with args (7,) and kwargs {} in 0.0028097080 sec\n",
      "executed func <function fib at 0x1056d9af0> with args (9,) and kwargs {} in 0.0089563750 sec\n",
      "executed func <function fib at 0x1056d9af0> with args (2,) and kwargs {} in 0.0000006250 sec\n",
      "executed func <function fib at 0x1056d9af0> with args (1,) and kwargs {} in 0.0000005410 sec\n",
      "executed func <function fib at 0x1056d9af0> with args (3,) and kwargs {} in 0.0001895830 sec\n",
      "executed func <function fib at 0x1056d9af0> with args (2,) and kwargs {} in 0.0000006670 sec\n",
      "executed func <function fib at 0x1056d9af0> with args (4,) and kwargs {} in 0.0003876250 sec\n",
      "executed func <function fib at 0x1056d9af0> with args (2,) and kwargs {} in 0.0000005000 sec\n",
      "executed func <function fib at 0x1056d9af0> with args (1,) and kwargs {} in 0.0000006250 sec\n",
      "executed func <function fib at 0x1056d9af0> with args (3,) and kwargs {} in 0.0001673750 sec\n",
      "executed func <function fib at 0x1056d9af0> with args (5,) and kwargs {} in 0.0009142080 sec\n",
      "executed func <function fib at 0x1056d9af0> with args (2,) and kwargs {} in 0.0000003750 sec\n",
      "executed func <function fib at 0x1056d9af0> with args (1,) and kwargs {} in 0.0000006670 sec\n",
      "executed func <function fib at 0x1056d9af0> with args (3,) and kwargs {} in 0.0001938750 sec\n",
      "executed func <function fib at 0x1056d9af0> with args (2,) and kwargs {} in 0.0000005830 sec\n",
      "executed func <function fib at 0x1056d9af0> with args (4,) and kwargs {} in 0.0003474590 sec\n",
      "executed func <function fib at 0x1056d9af0> with args (6,) and kwargs {} in 0.0015249590 sec\n",
      "executed func <function fib at 0x1056d9af0> with args (2,) and kwargs {} in 0.0000003750 sec\n",
      "executed func <function fib at 0x1056d9af0> with args (1,) and kwargs {} in 0.0000005000 sec\n",
      "executed func <function fib at 0x1056d9af0> with args (3,) and kwargs {} in 0.0001750000 sec\n",
      "executed func <function fib at 0x1056d9af0> with args (2,) and kwargs {} in 0.0000005420 sec\n",
      "executed func <function fib at 0x1056d9af0> with args (4,) and kwargs {} in 0.0006135830 sec\n",
      "executed func <function fib at 0x1056d9af0> with args (2,) and kwargs {} in 0.0000004160 sec\n",
      "executed func <function fib at 0x1056d9af0> with args (1,) and kwargs {} in 0.0000007090 sec\n",
      "executed func <function fib at 0x1056d9af0> with args (3,) and kwargs {} in 0.0005362500 sec\n",
      "executed func <function fib at 0x1056d9af0> with args (5,) and kwargs {} in 0.0014149170 sec\n",
      "executed func <function fib at 0x1056d9af0> with args (7,) and kwargs {} in 0.0031106250 sec\n",
      "executed func <function fib at 0x1056d9af0> with args (2,) and kwargs {} in 0.0000005000 sec\n",
      "executed func <function fib at 0x1056d9af0> with args (1,) and kwargs {} in 0.0000007090 sec\n",
      "executed func <function fib at 0x1056d9af0> with args (3,) and kwargs {} in 0.0003658330 sec\n",
      "executed func <function fib at 0x1056d9af0> with args (2,) and kwargs {} in 0.0000009160 sec\n",
      "executed func <function fib at 0x1056d9af0> with args (4,) and kwargs {} in 0.0005720420 sec\n",
      "executed func <function fib at 0x1056d9af0> with args (2,) and kwargs {} in 0.0000005420 sec\n",
      "executed func <function fib at 0x1056d9af0> with args (1,) and kwargs {} in 0.0000007080 sec\n",
      "executed func <function fib at 0x1056d9af0> with args (3,) and kwargs {} in 0.0002539590 sec\n",
      "executed func <function fib at 0x1056d9af0> with args (5,) and kwargs {} in 0.0010224580 sec\n",
      "executed func <function fib at 0x1056d9af0> with args (2,) and kwargs {} in 0.0000004580 sec\n",
      "executed func <function fib at 0x1056d9af0> with args (1,) and kwargs {} in 0.0000006670 sec\n",
      "executed func <function fib at 0x1056d9af0> with args (3,) and kwargs {} in 0.0002150410 sec\n",
      "executed func <function fib at 0x1056d9af0> with args (2,) and kwargs {} in 0.0000007080 sec\n",
      "executed func <function fib at 0x1056d9af0> with args (4,) and kwargs {} in 0.0004257080 sec\n",
      "executed func <function fib at 0x1056d9af0> with args (6,) and kwargs {} in 0.0016630830 sec\n",
      "executed func <function fib at 0x1056d9af0> with args (8,) and kwargs {} in 0.0053340420 sec\n",
      "executed func <function fib at 0x1056d9af0> with args (10,) and kwargs {} in 0.0145737500 sec\n"
     ]
    },
    {
     "data": {
      "text/plain": [
       "55"
      ]
     },
     "execution_count": 68,
     "metadata": {},
     "output_type": "execute_result"
    }
   ],
   "source": [
    "fib(10)"
   ]
  },
  {
   "cell_type": "code",
   "execution_count": 69,
   "id": "a54cd8e1",
   "metadata": {},
   "outputs": [
    {
     "name": "stdout",
     "output_type": "stream",
     "text": [
      "executed func <function fib at 0x1056d9af0> with args (2,) and kwargs {} in 0.0000007080 sec\n",
      "executed func <function fib at 0x1056d9af0> with args (1,) and kwargs {} in 0.0000012910 sec\n",
      "executed func <function fib at 0x1056d9af0> with args (3,) and kwargs {} in 0.0007859590 sec\n",
      "executed func <function fib at 0x1056d9af0> with args (2,) and kwargs {} in 0.0000007920 sec\n",
      "executed func <function fib at 0x1056d9af0> with args (4,) and kwargs {} in 0.0009810830 sec\n",
      "executed func <function fib at 0x1056d9af0> with args (2,) and kwargs {} in 0.0000004170 sec\n",
      "executed func <function fib at 0x1056d9af0> with args (1,) and kwargs {} in 0.0000006670 sec\n",
      "executed func <function fib at 0x1056d9af0> with args (3,) and kwargs {} in 0.0005317920 sec\n",
      "executed func <function fib at 0x1056d9af0> with args (5,) and kwargs {} in 0.0017151250 sec\n",
      "executed func <function fib at 0x1056d9af0> with args (2,) and kwargs {} in 0.0000005000 sec\n",
      "executed func <function fib at 0x1056d9af0> with args (1,) and kwargs {} in 0.0000007500 sec\n",
      "executed func <function fib at 0x1056d9af0> with args (3,) and kwargs {} in 0.0001795000 sec\n",
      "executed func <function fib at 0x1056d9af0> with args (2,) and kwargs {} in 0.0000006670 sec\n",
      "executed func <function fib at 0x1056d9af0> with args (4,) and kwargs {} in 0.0003492500 sec\n",
      "executed func <function fib at 0x1056d9af0> with args (6,) and kwargs {} in 0.0022290830 sec\n",
      "executed func <function fib at 0x1056d9af0> with args (2,) and kwargs {} in 0.0000004170 sec\n",
      "executed func <function fib at 0x1056d9af0> with args (1,) and kwargs {} in 0.0000005000 sec\n",
      "executed func <function fib at 0x1056d9af0> with args (3,) and kwargs {} in 0.0003167090 sec\n",
      "executed func <function fib at 0x1056d9af0> with args (2,) and kwargs {} in 0.0000009580 sec\n",
      "executed func <function fib at 0x1056d9af0> with args (4,) and kwargs {} in 0.0005262080 sec\n",
      "executed func <function fib at 0x1056d9af0> with args (2,) and kwargs {} in 0.0000005000 sec\n",
      "executed func <function fib at 0x1056d9af0> with args (1,) and kwargs {} in 0.0000006250 sec\n",
      "executed func <function fib at 0x1056d9af0> with args (3,) and kwargs {} in 0.0001850000 sec\n",
      "executed func <function fib at 0x1056d9af0> with args (5,) and kwargs {} in 0.0008723750 sec\n",
      "executed func <function fib at 0x1056d9af0> with args (7,) and kwargs {} in 0.0036657080 sec\n",
      "executed func <function fib at 0x1056d9af0> with args (2,) and kwargs {} in 0.0000004170 sec\n",
      "executed func <function fib at 0x1056d9af0> with args (1,) and kwargs {} in 0.0000005420 sec\n",
      "executed func <function fib at 0x1056d9af0> with args (3,) and kwargs {} in 0.0001792080 sec\n",
      "executed func <function fib at 0x1056d9af0> with args (2,) and kwargs {} in 0.0000007910 sec\n",
      "executed func <function fib at 0x1056d9af0> with args (4,) and kwargs {} in 0.0003429160 sec\n",
      "executed func <function fib at 0x1056d9af0> with args (2,) and kwargs {} in 0.0000004160 sec\n",
      "executed func <function fib at 0x1056d9af0> with args (1,) and kwargs {} in 0.0000006250 sec\n",
      "executed func <function fib at 0x1056d9af0> with args (3,) and kwargs {} in 0.0001800830 sec\n",
      "executed func <function fib at 0x1056d9af0> with args (5,) and kwargs {} in 0.0008600000 sec\n",
      "executed func <function fib at 0x1056d9af0> with args (2,) and kwargs {} in 0.0000004160 sec\n",
      "executed func <function fib at 0x1056d9af0> with args (1,) and kwargs {} in 0.0000005420 sec\n",
      "executed func <function fib at 0x1056d9af0> with args (3,) and kwargs {} in 0.0001516250 sec\n",
      "executed func <function fib at 0x1056d9af0> with args (2,) and kwargs {} in 0.0000005420 sec\n",
      "executed func <function fib at 0x1056d9af0> with args (4,) and kwargs {} in 0.0003056250 sec\n",
      "executed func <function fib at 0x1056d9af0> with args (6,) and kwargs {} in 0.0013298750 sec\n",
      "executed func <function fib at 0x1056d9af0> with args (8,) and kwargs {} in 0.0051541660 sec\n",
      "executed func <function fib at 0x1056d9af0> with args (2,) and kwargs {} in 0.0000003750 sec\n",
      "executed func <function fib at 0x1056d9af0> with args (1,) and kwargs {} in 0.0000006670 sec\n",
      "executed func <function fib at 0x1056d9af0> with args (3,) and kwargs {} in 0.0003529160 sec\n",
      "executed func <function fib at 0x1056d9af0> with args (2,) and kwargs {} in 0.0000006250 sec\n",
      "executed func <function fib at 0x1056d9af0> with args (4,) and kwargs {} in 0.0005066670 sec\n",
      "executed func <function fib at 0x1056d9af0> with args (2,) and kwargs {} in 0.0000004590 sec\n",
      "executed func <function fib at 0x1056d9af0> with args (1,) and kwargs {} in 0.0000005000 sec\n",
      "executed func <function fib at 0x1056d9af0> with args (3,) and kwargs {} in 0.0001505000 sec\n",
      "executed func <function fib at 0x1056d9af0> with args (5,) and kwargs {} in 0.0008070000 sec\n",
      "executed func <function fib at 0x1056d9af0> with args (2,) and kwargs {} in 0.0000003750 sec\n",
      "executed func <function fib at 0x1056d9af0> with args (1,) and kwargs {} in 0.0000008750 sec\n",
      "executed func <function fib at 0x1056d9af0> with args (3,) and kwargs {} in 0.0002335000 sec\n",
      "executed func <function fib at 0x1056d9af0> with args (2,) and kwargs {} in 0.0000007080 sec\n",
      "executed func <function fib at 0x1056d9af0> with args (4,) and kwargs {} in 0.0005699170 sec\n",
      "executed func <function fib at 0x1056d9af0> with args (6,) and kwargs {} in 0.0015422080 sec\n",
      "executed func <function fib at 0x1056d9af0> with args (2,) and kwargs {} in 0.0000003750 sec\n",
      "executed func <function fib at 0x1056d9af0> with args (1,) and kwargs {} in 0.0000007920 sec\n",
      "executed func <function fib at 0x1056d9af0> with args (3,) and kwargs {} in 0.0001881670 sec\n",
      "executed func <function fib at 0x1056d9af0> with args (2,) and kwargs {} in 0.0000006660 sec\n",
      "executed func <function fib at 0x1056d9af0> with args (4,) and kwargs {} in 0.0003752920 sec\n",
      "executed func <function fib at 0x1056d9af0> with args (2,) and kwargs {} in 0.0000003750 sec\n",
      "executed func <function fib at 0x1056d9af0> with args (1,) and kwargs {} in 0.0000006670 sec\n",
      "executed func <function fib at 0x1056d9af0> with args (3,) and kwargs {} in 0.0003270420 sec\n",
      "executed func <function fib at 0x1056d9af0> with args (5,) and kwargs {} in 0.0008655420 sec\n",
      "executed func <function fib at 0x1056d9af0> with args (7,) and kwargs {} in 0.0025892500 sec\n",
      "executed func <function fib at 0x1056d9af0> with args (9,) and kwargs {} in 0.0079148750 sec\n",
      "executed func <function fib at 0x1056d9af0> with args (2,) and kwargs {} in 0.0000004160 sec\n",
      "executed func <function fib at 0x1056d9af0> with args (1,) and kwargs {} in 0.0000005830 sec\n",
      "executed func <function fib at 0x1056d9af0> with args (3,) and kwargs {} in 0.0001727080 sec\n",
      "executed func <function fib at 0x1056d9af0> with args (2,) and kwargs {} in 0.0000007500 sec\n",
      "executed func <function fib at 0x1056d9af0> with args (4,) and kwargs {} in 0.0005116250 sec\n",
      "executed func <function fib at 0x1056d9af0> with args (2,) and kwargs {} in 0.0000003750 sec\n",
      "executed func <function fib at 0x1056d9af0> with args (1,) and kwargs {} in 0.0000005000 sec\n",
      "executed func <function fib at 0x1056d9af0> with args (3,) and kwargs {} in 0.0001720830 sec\n",
      "executed func <function fib at 0x1056d9af0> with args (5,) and kwargs {} in 0.0008398340 sec\n",
      "executed func <function fib at 0x1056d9af0> with args (2,) and kwargs {} in 0.0000004170 sec\n",
      "executed func <function fib at 0x1056d9af0> with args (1,) and kwargs {} in 0.0000005840 sec\n",
      "executed func <function fib at 0x1056d9af0> with args (3,) and kwargs {} in 0.0001666250 sec\n",
      "executed func <function fib at 0x1056d9af0> with args (2,) and kwargs {} in 0.0000007090 sec\n",
      "executed func <function fib at 0x1056d9af0> with args (4,) and kwargs {} in 0.0005028750 sec\n",
      "executed func <function fib at 0x1056d9af0> with args (6,) and kwargs {} in 0.0015110420 sec\n",
      "executed func <function fib at 0x1056d9af0> with args (2,) and kwargs {} in 0.0000004160 sec\n",
      "executed func <function fib at 0x1056d9af0> with args (1,) and kwargs {} in 0.0000006670 sec\n",
      "executed func <function fib at 0x1056d9af0> with args (3,) and kwargs {} in 0.0003322500 sec\n",
      "executed func <function fib at 0x1056d9af0> with args (2,) and kwargs {} in 0.0000007920 sec\n",
      "executed func <function fib at 0x1056d9af0> with args (4,) and kwargs {} in 0.0005036670 sec\n",
      "executed func <function fib at 0x1056d9af0> with args (2,) and kwargs {} in 0.0000006660 sec\n",
      "executed func <function fib at 0x1056d9af0> with args (1,) and kwargs {} in 0.0000011250 sec\n",
      "executed func <function fib at 0x1056d9af0> with args (3,) and kwargs {} in 0.0006010410 sec\n",
      "executed func <function fib at 0x1056d9af0> with args (5,) and kwargs {} in 0.0013440420 sec\n",
      "executed func <function fib at 0x1056d9af0> with args (7,) and kwargs {} in 0.0216065000 sec\n",
      "executed func <function fib at 0x1056d9af0> with args (2,) and kwargs {} in 0.0000004160 sec\n",
      "executed func <function fib at 0x1056d9af0> with args (1,) and kwargs {} in 0.0000002500 sec\n",
      "executed func <function fib at 0x1056d9af0> with args (3,) and kwargs {} in 0.0000679580 sec\n",
      "executed func <function fib at 0x1056d9af0> with args (2,) and kwargs {} in 0.0000002080 sec\n",
      "executed func <function fib at 0x1056d9af0> with args (4,) and kwargs {} in 0.0001545420 sec\n",
      "executed func <function fib at 0x1056d9af0> with args (2,) and kwargs {} in 0.0000001660 sec\n",
      "executed func <function fib at 0x1056d9af0> with args (1,) and kwargs {} in 0.0000001670 sec\n",
      "executed func <function fib at 0x1056d9af0> with args (3,) and kwargs {} in 0.0001155410 sec\n",
      "executed func <function fib at 0x1056d9af0> with args (5,) and kwargs {} in 0.0003443750 sec\n",
      "executed func <function fib at 0x1056d9af0> with args (2,) and kwargs {} in 0.0000002080 sec\n",
      "executed func <function fib at 0x1056d9af0> with args (1,) and kwargs {} in 0.0000002500 sec\n",
      "executed func <function fib at 0x1056d9af0> with args (3,) and kwargs {} in 0.0001809170 sec\n",
      "executed func <function fib at 0x1056d9af0> with args (2,) and kwargs {} in 0.0000002090 sec\n",
      "executed func <function fib at 0x1056d9af0> with args (4,) and kwargs {} in 0.0002769580 sec\n",
      "executed func <function fib at 0x1056d9af0> with args (6,) and kwargs {} in 0.0009691670 sec\n",
      "executed func <function fib at 0x1056d9af0> with args (8,) and kwargs {} in 0.0226700420 sec\n",
      "executed func <function fib at 0x1056d9af0> with args (10,) and kwargs {} in 0.0308391250 sec\n"
     ]
    },
    {
     "data": {
      "text/plain": [
       "55"
      ]
     },
     "execution_count": 69,
     "metadata": {},
     "output_type": "execute_result"
    }
   ],
   "source": [
    "fib(10)"
   ]
  },
  {
   "cell_type": "code",
   "execution_count": 71,
   "id": "35bde132",
   "metadata": {},
   "outputs": [],
   "source": [
    "def fib(n):\n",
    "    if n < 1:\n",
    "        return\n",
    "    if n in (1, 2):\n",
    "        return 1\n",
    "\n",
    "    return fib(n - 1) + fib(n - 2)"
   ]
  },
  {
   "cell_type": "code",
   "execution_count": 73,
   "id": "1db519a2",
   "metadata": {},
   "outputs": [
    {
     "data": {
      "text/plain": [
       "55"
      ]
     },
     "execution_count": 73,
     "metadata": {},
     "output_type": "execute_result"
    }
   ],
   "source": [
    "fib(10)"
   ]
  },
  {
   "cell_type": "code",
   "execution_count": 74,
   "id": "2e97e4ba",
   "metadata": {},
   "outputs": [],
   "source": [
    "def cache_dec(func):\n",
    "    cache = {}\n",
    "    \n",
    "    @wraps(func)\n",
    "    def wrapper(*args):\n",
    "        if args in cache:\n",
    "            return cache[args]\n",
    "        result = func(*args)\n",
    "        cache[args] = result\n",
    "        return result\n",
    "    \n",
    "    return wrapper"
   ]
  },
  {
   "cell_type": "code",
   "execution_count": 81,
   "id": "9d9281ff",
   "metadata": {},
   "outputs": [],
   "source": [
    "fib = cache_dec(fib)"
   ]
  },
  {
   "cell_type": "code",
   "execution_count": 82,
   "id": "85f6331f",
   "metadata": {},
   "outputs": [
    {
     "data": {
      "text/plain": [
       "55"
      ]
     },
     "execution_count": 82,
     "metadata": {},
     "output_type": "execute_result"
    }
   ],
   "source": [
    "fib(10)"
   ]
  },
  {
   "cell_type": "code",
   "execution_count": 83,
   "id": "8c29d0bf",
   "metadata": {},
   "outputs": [
    {
     "data": {
      "text/plain": [
       "354224848179261915075"
      ]
     },
     "execution_count": 83,
     "metadata": {},
     "output_type": "execute_result"
    }
   ],
   "source": [
    "fib(100)"
   ]
  },
  {
   "cell_type": "code",
   "execution_count": 86,
   "id": "cbe37dc9",
   "metadata": {},
   "outputs": [],
   "source": [
    "@cache_dec\n",
    "def fib(n):\n",
    "    if n < 1:\n",
    "        return 0\n",
    "    if n in (1, 2):\n",
    "        return 1\n",
    "\n",
    "    return fib(n - 1) + fib(n - 2)"
   ]
  },
  {
   "cell_type": "code",
   "execution_count": 87,
   "id": "2de7cea5",
   "metadata": {},
   "outputs": [
    {
     "data": {
      "text/plain": [
       "(0,\n",
       " 43466557686937456435688527675040625802564660517371780402481729089536555417949051890403879840079255169295922593080322634775209689623239873322471161642996440906533187938298969649928516003704476137795166849228875)"
      ]
     },
     "execution_count": 87,
     "metadata": {},
     "output_type": "execute_result"
    }
   ],
   "source": [
    "fib(0), fib(1000)"
   ]
  },
  {
   "cell_type": "code",
   "execution_count": 88,
   "id": "fde38400",
   "metadata": {},
   "outputs": [],
   "source": [
    "from functools import lru_cache"
   ]
  },
  {
   "cell_type": "code",
   "execution_count": 91,
   "id": "cc81cd32",
   "metadata": {},
   "outputs": [],
   "source": [
    "@lru_cache\n",
    "@show_time\n",
    "def fib(n):\n",
    "    if n < 1:\n",
    "        return 0\n",
    "    if n in (1, 2):\n",
    "        return 1\n",
    "\n",
    "    return fib(n - 1) + fib(n - 2)"
   ]
  },
  {
   "cell_type": "code",
   "execution_count": 92,
   "id": "9d1c9c64",
   "metadata": {},
   "outputs": [
    {
     "name": "stdout",
     "output_type": "stream",
     "text": [
      "executed func <function fib at 0x105856430> with args (2,) and kwargs {} in 0.0000006660 sec\n",
      "executed func <function fib at 0x105856430> with args (1,) and kwargs {} in 0.0000010000 sec\n",
      "executed func <function fib at 0x105856430> with args (3,) and kwargs {} in 0.0006880840 sec\n",
      "executed func <function fib at 0x105856430> with args (4,) and kwargs {} in 0.0008605000 sec\n",
      "executed func <function fib at 0x105856430> with args (5,) and kwargs {} in 0.0013050830 sec\n",
      "executed func <function fib at 0x105856430> with args (6,) and kwargs {} in 0.0015396670 sec\n",
      "executed func <function fib at 0x105856430> with args (7,) and kwargs {} in 0.0016440830 sec\n",
      "executed func <function fib at 0x105856430> with args (8,) and kwargs {} in 0.0019681670 sec\n",
      "executed func <function fib at 0x105856430> with args (9,) and kwargs {} in 0.0022075420 sec\n",
      "executed func <function fib at 0x105856430> with args (10,) and kwargs {} in 0.0022894160 sec\n"
     ]
    },
    {
     "data": {
      "text/plain": [
       "55"
      ]
     },
     "execution_count": 92,
     "metadata": {},
     "output_type": "execute_result"
    }
   ],
   "source": [
    "fib(10)"
   ]
  },
  {
   "cell_type": "code",
   "execution_count": 93,
   "id": "1b474a60",
   "metadata": {},
   "outputs": [
    {
     "data": {
      "text/plain": [
       "55"
      ]
     },
     "execution_count": 93,
     "metadata": {},
     "output_type": "execute_result"
    }
   ],
   "source": [
    "fib(10)"
   ]
  },
  {
   "cell_type": "code",
   "execution_count": 94,
   "id": "7a0a7b44",
   "metadata": {},
   "outputs": [
    {
     "name": "stdout",
     "output_type": "stream",
     "text": [
      "executed func <function fib at 0x105856430> with args (11,) and kwargs {} in 0.0000030000 sec\n"
     ]
    },
    {
     "data": {
      "text/plain": [
       "89"
      ]
     },
     "execution_count": 94,
     "metadata": {},
     "output_type": "execute_result"
    }
   ],
   "source": [
    "fib(11)"
   ]
  },
  {
   "cell_type": "code",
   "execution_count": 98,
   "id": "c345d5fb",
   "metadata": {},
   "outputs": [],
   "source": [
    "def trace(sep=\"-\", multiplier=2):\n",
    "    \n",
    "    def decorator(func):\n",
    "        func.level = 0\n",
    "\n",
    "        @wraps(func)\n",
    "        def wrapper(*args, **kwargs):\n",
    "            func_str = f\"{func.__name__}{args}\"\n",
    "            func.level += 1\n",
    "    \n",
    "            print(sep * func.level * multiplier, \">\", func_str)\n",
    "            result = func(*args, **kwargs)\n",
    "            print(sep * func.level * multiplier, \"<\", func_str, \"with result\", result)\n",
    "            func.level -= 1\n",
    "            \n",
    "            return result\n",
    "        \n",
    "        return wrapper\n",
    "    \n",
    "    return decorator"
   ]
  },
  {
   "cell_type": "code",
   "execution_count": 99,
   "id": "afa81a06",
   "metadata": {},
   "outputs": [],
   "source": [
    "@trace()\n",
    "def cube(num):\n",
    "    return num ** 3"
   ]
  },
  {
   "cell_type": "code",
   "execution_count": 100,
   "id": "513be84c",
   "metadata": {},
   "outputs": [
    {
     "name": "stdout",
     "output_type": "stream",
     "text": [
      "-- > cube(3,)\n",
      "-- < cube(3,) with result 27\n"
     ]
    },
    {
     "data": {
      "text/plain": [
       "27"
      ]
     },
     "execution_count": 100,
     "metadata": {},
     "output_type": "execute_result"
    }
   ],
   "source": [
    "cube(3)"
   ]
  },
  {
   "cell_type": "code",
   "execution_count": 101,
   "id": "422b36d5",
   "metadata": {},
   "outputs": [],
   "source": [
    "@lru_cache\n",
    "@show_time\n",
    "@trace(sep=\"∞\")\n",
    "def fib(n):\n",
    "    if n < 1:\n",
    "        return 0\n",
    "    if n in (1, 2):\n",
    "        return 1\n",
    "\n",
    "    return fib(n - 1) + fib(n - 2)"
   ]
  },
  {
   "cell_type": "code",
   "execution_count": 102,
   "id": "dc8a54ba",
   "metadata": {},
   "outputs": [
    {
     "name": "stdout",
     "output_type": "stream",
     "text": [
      "∞∞ > fib(1,)\n",
      "∞∞ < fib(1,) with result 1\n",
      "executed func <function fib at 0x105856ee0> with args (1,) and kwargs {} in 0.0005601660 sec\n"
     ]
    },
    {
     "data": {
      "text/plain": [
       "1"
      ]
     },
     "execution_count": 102,
     "metadata": {},
     "output_type": "execute_result"
    }
   ],
   "source": [
    "fib(1)"
   ]
  },
  {
   "cell_type": "code",
   "execution_count": 103,
   "id": "e4aa4e18",
   "metadata": {},
   "outputs": [
    {
     "name": "stdout",
     "output_type": "stream",
     "text": [
      "∞∞ > fib(3,)\n",
      "∞∞∞∞ > fib(2,)\n",
      "∞∞∞∞ < fib(2,) with result 1\n",
      "executed func <function fib at 0x105856ee0> with args (2,) and kwargs {} in 0.0005183330 sec\n",
      "∞∞ < fib(3,) with result 2\n",
      "executed func <function fib at 0x105856ee0> with args (3,) and kwargs {} in 0.0009108330 sec\n"
     ]
    },
    {
     "data": {
      "text/plain": [
       "2"
      ]
     },
     "execution_count": 103,
     "metadata": {},
     "output_type": "execute_result"
    }
   ],
   "source": [
    "fib(3)"
   ]
  },
  {
   "cell_type": "code",
   "execution_count": 104,
   "id": "6c7e87c2",
   "metadata": {},
   "outputs": [],
   "source": [
    "@lru_cache\n",
    "@trace(sep=\"∞\")\n",
    "def fib(n):\n",
    "    if n < 1:\n",
    "        return 0\n",
    "    if n in (1, 2):\n",
    "        return 1\n",
    "\n",
    "    return fib(n - 1) + fib(n - 2)"
   ]
  },
  {
   "cell_type": "code",
   "execution_count": 105,
   "id": "70276652",
   "metadata": {},
   "outputs": [
    {
     "name": "stdout",
     "output_type": "stream",
     "text": [
      "∞∞ > fib(5,)\n",
      "∞∞∞∞ > fib(4,)\n",
      "∞∞∞∞∞∞ > fib(3,)\n",
      "∞∞∞∞∞∞∞∞ > fib(2,)\n",
      "∞∞∞∞∞∞∞∞ < fib(2,) with result 1\n",
      "∞∞∞∞∞∞∞∞ > fib(1,)\n",
      "∞∞∞∞∞∞∞∞ < fib(1,) with result 1\n",
      "∞∞∞∞∞∞ < fib(3,) with result 2\n",
      "∞∞∞∞ < fib(4,) with result 3\n",
      "∞∞ < fib(5,) with result 5\n"
     ]
    },
    {
     "data": {
      "text/plain": [
       "5"
      ]
     },
     "execution_count": 105,
     "metadata": {},
     "output_type": "execute_result"
    }
   ],
   "source": [
    "fib(5)"
   ]
  },
  {
   "cell_type": "code",
   "execution_count": 106,
   "id": "c43ac3c4",
   "metadata": {},
   "outputs": [],
   "source": [
    "@trace(sep=\"∞\")\n",
    "def fib(n):\n",
    "    if n < 1:\n",
    "        return 0\n",
    "    if n in (1, 2):\n",
    "        return 1\n",
    "\n",
    "    return fib(n - 1) + fib(n - 2)"
   ]
  },
  {
   "cell_type": "code",
   "execution_count": 107,
   "id": "6f422e1f",
   "metadata": {},
   "outputs": [
    {
     "name": "stdout",
     "output_type": "stream",
     "text": [
      "∞∞ > fib(5,)\n",
      "∞∞∞∞ > fib(4,)\n",
      "∞∞∞∞∞∞ > fib(3,)\n",
      "∞∞∞∞∞∞∞∞ > fib(2,)\n",
      "∞∞∞∞∞∞∞∞ < fib(2,) with result 1\n",
      "∞∞∞∞∞∞∞∞ > fib(1,)\n",
      "∞∞∞∞∞∞∞∞ < fib(1,) with result 1\n",
      "∞∞∞∞∞∞ < fib(3,) with result 2\n",
      "∞∞∞∞∞∞ > fib(2,)\n",
      "∞∞∞∞∞∞ < fib(2,) with result 1\n",
      "∞∞∞∞ < fib(4,) with result 3\n",
      "∞∞∞∞ > fib(3,)\n",
      "∞∞∞∞∞∞ > fib(2,)\n",
      "∞∞∞∞∞∞ < fib(2,) with result 1\n",
      "∞∞∞∞∞∞ > fib(1,)\n",
      "∞∞∞∞∞∞ < fib(1,) with result 1\n",
      "∞∞∞∞ < fib(3,) with result 2\n",
      "∞∞ < fib(5,) with result 5\n"
     ]
    },
    {
     "data": {
      "text/plain": [
       "5"
      ]
     },
     "execution_count": 107,
     "metadata": {},
     "output_type": "execute_result"
    }
   ],
   "source": [
    "fib(5)"
   ]
  },
  {
   "cell_type": "code",
   "execution_count": 108,
   "id": "cb34d5b6",
   "metadata": {},
   "outputs": [],
   "source": [
    "@lru_cache\n",
    "@trace(sep=\"-\")\n",
    "def fib(n):\n",
    "    if n < 1:\n",
    "        return 0\n",
    "    if n in (1, 2):\n",
    "        return 1\n",
    "\n",
    "    return fib(n - 1) + fib(n - 2)"
   ]
  },
  {
   "cell_type": "code",
   "execution_count": 109,
   "id": "7cc0e3e4",
   "metadata": {},
   "outputs": [
    {
     "name": "stdout",
     "output_type": "stream",
     "text": [
      "-- > fib(15,)\n",
      "---- > fib(14,)\n",
      "------ > fib(13,)\n",
      "-------- > fib(12,)\n",
      "---------- > fib(11,)\n",
      "------------ > fib(10,)\n",
      "-------------- > fib(9,)\n",
      "---------------- > fib(8,)\n",
      "------------------ > fib(7,)\n",
      "-------------------- > fib(6,)\n",
      "---------------------- > fib(5,)\n",
      "------------------------ > fib(4,)\n",
      "-------------------------- > fib(3,)\n",
      "---------------------------- > fib(2,)\n",
      "---------------------------- < fib(2,) with result 1\n",
      "---------------------------- > fib(1,)\n",
      "---------------------------- < fib(1,) with result 1\n",
      "-------------------------- < fib(3,) with result 2\n",
      "------------------------ < fib(4,) with result 3\n",
      "---------------------- < fib(5,) with result 5\n",
      "-------------------- < fib(6,) with result 8\n",
      "------------------ < fib(7,) with result 13\n",
      "---------------- < fib(8,) with result 21\n",
      "-------------- < fib(9,) with result 34\n",
      "------------ < fib(10,) with result 55\n",
      "---------- < fib(11,) with result 89\n",
      "-------- < fib(12,) with result 144\n",
      "------ < fib(13,) with result 233\n",
      "---- < fib(14,) with result 377\n",
      "-- < fib(15,) with result 610\n"
     ]
    },
    {
     "data": {
      "text/plain": [
       "610"
      ]
     },
     "execution_count": 109,
     "metadata": {},
     "output_type": "execute_result"
    }
   ],
   "source": [
    "fib(15)"
   ]
  },
  {
   "cell_type": "code",
   "execution_count": 110,
   "id": "8d37276c",
   "metadata": {},
   "outputs": [
    {
     "data": {
      "text/plain": [
       "55"
      ]
     },
     "execution_count": 110,
     "metadata": {},
     "output_type": "execute_result"
    }
   ],
   "source": [
    "fib(10)"
   ]
  },
  {
   "cell_type": "code",
   "execution_count": 112,
   "id": "5f31db2e",
   "metadata": {},
   "outputs": [
    {
     "name": "stdout",
     "output_type": "stream",
     "text": [
      "value = 2 with power = 1\n",
      "value = 4 with power = 2\n",
      "value = 8 with power = 3\n",
      "value = 16 with power = 4\n",
      "value = 32 with power = 5\n",
      "value = 64 with power = 6\n",
      "value = 128 with power = 7\n",
      "value = 256 with power = 8\n",
      "value = 512 with power = 9\n",
      "value = 1024 with power = 10\n",
      "value = 2048 with power = 11\n",
      "value = 4096 with power = 12\n",
      "value = 8192 with power = 13\n",
      "value = 16384 with power = 14\n"
     ]
    }
   ],
   "source": [
    "power = 0\n",
    "value = 0\n",
    "\n",
    "while value < 10000:\n",
    "    power += 1\n",
    "    value = 2 ** power\n",
    "    print(\"value =\", value, \"with power =\", power)"
   ]
  },
  {
   "cell_type": "code",
   "execution_count": 113,
   "id": "237becd7",
   "metadata": {},
   "outputs": [
    {
     "data": {
      "text/plain": [
       "8192"
      ]
     },
     "execution_count": 113,
     "metadata": {},
     "output_type": "execute_result"
    }
   ],
   "source": [
    "2 ** 13"
   ]
  },
  {
   "cell_type": "code",
   "execution_count": 114,
   "id": "40165037",
   "metadata": {},
   "outputs": [
    {
     "data": {
      "text/plain": [
       "16384"
      ]
     },
     "execution_count": 114,
     "metadata": {},
     "output_type": "execute_result"
    }
   ],
   "source": [
    "2 ** 14"
   ]
  },
  {
   "cell_type": "code",
   "execution_count": 115,
   "id": "c12f1130",
   "metadata": {},
   "outputs": [
    {
     "name": "stdout",
     "output_type": "stream",
     "text": [
      "1 1\n",
      "2 3\n",
      "3 6\n",
      "4 10\n",
      "5 15\n",
      "6 21\n",
      "7 28\n",
      "8 36\n",
      "9 45\n",
      "10 55\n",
      "11 66\n",
      "12 78\n",
      "13 91\n",
      "14 105\n"
     ]
    }
   ],
   "source": [
    "i = 0\n",
    "total_amount = 0\n",
    "\n",
    "while total_amount < 100:\n",
    "    i += 1\n",
    "    total_amount += i\n",
    "    print(i, total_amount)"
   ]
  },
  {
   "cell_type": "code",
   "execution_count": 116,
   "id": "cb3d18e6",
   "metadata": {},
   "outputs": [
    {
     "name": "stdout",
     "output_type": "stream",
     "text": [
      "1 1\n",
      "2 3\n",
      "3 6\n",
      "4 10\n",
      "5 15\n",
      "6 21\n",
      "7 28\n"
     ]
    }
   ],
   "source": [
    "i = 0\n",
    "total_amount = 0\n",
    "\n",
    "while total_amount < 100:\n",
    "    i += 1\n",
    "    total_amount += i\n",
    "    print(i, total_amount)\n",
    "    if i == 7:\n",
    "        break"
   ]
  },
  {
   "cell_type": "code",
   "execution_count": 117,
   "id": "5debe446",
   "metadata": {},
   "outputs": [
    {
     "name": "stdout",
     "output_type": "stream",
     "text": [
      "2 2\n",
      "4 6\n",
      "6 12\n",
      "8 20\n",
      "10 30\n",
      "12 42\n",
      "14 56\n",
      "16 72\n",
      "18 90\n",
      "20 110\n"
     ]
    }
   ],
   "source": [
    "i = 0\n",
    "total_amount = 0\n",
    "\n",
    "while total_amount < 100:\n",
    "    i += 2\n",
    "    total_amount += i\n",
    "    print(i, total_amount)\n",
    "    if i == 7:\n",
    "        break"
   ]
  },
  {
   "cell_type": "code",
   "execution_count": 118,
   "id": "0d18228c",
   "metadata": {},
   "outputs": [
    {
     "name": "stdout",
     "output_type": "stream",
     "text": [
      "2 2\n",
      "4 6\n",
      "6 12\n",
      "8 20\n",
      "10 30\n",
      "12 42\n",
      "14 56\n",
      "16 72\n",
      "18 90\n",
      "20 110\n",
      "exit by condition\n"
     ]
    }
   ],
   "source": [
    "i = 0\n",
    "total_amount = 0\n",
    "\n",
    "while total_amount < 100:\n",
    "    i += 2\n",
    "    total_amount += i\n",
    "    print(i, total_amount)\n",
    "    if i == 7:\n",
    "        break\n",
    "else:\n",
    "    print(\"exit by condition\")"
   ]
  },
  {
   "cell_type": "code",
   "execution_count": 119,
   "id": "6f0c105a",
   "metadata": {},
   "outputs": [
    {
     "name": "stdout",
     "output_type": "stream",
     "text": [
      "2 2\n",
      "4 6\n",
      "6 12\n",
      "8 20\n"
     ]
    }
   ],
   "source": [
    "i = 0\n",
    "total_amount = 0\n",
    "\n",
    "while total_amount < 100:\n",
    "    i += 2\n",
    "    total_amount += i\n",
    "    print(i, total_amount)\n",
    "    if i >= 7:\n",
    "        break\n",
    "else:\n",
    "    print(\"exit by condition\")"
   ]
  },
  {
   "cell_type": "code",
   "execution_count": 120,
   "id": "53140699",
   "metadata": {},
   "outputs": [],
   "source": [
    "for i in [1]:\n",
    "    break\n",
    "else:\n",
    "    print(\"leave by end of cycle\")"
   ]
  },
  {
   "cell_type": "code",
   "execution_count": 121,
   "id": "6383f6ee",
   "metadata": {},
   "outputs": [
    {
     "name": "stdout",
     "output_type": "stream",
     "text": [
      "1\n"
     ]
    }
   ],
   "source": [
    "for i in [1, 2]:\n",
    "    print(i)\n",
    "    break\n",
    "else:\n",
    "    print(\"leave by end of cycle\")"
   ]
  },
  {
   "cell_type": "code",
   "execution_count": 122,
   "id": "beeae9db",
   "metadata": {},
   "outputs": [
    {
     "name": "stdout",
     "output_type": "stream",
     "text": [
      "1\n",
      "2\n",
      "leave by end of cycle\n"
     ]
    }
   ],
   "source": [
    "for i in [1, 2]:\n",
    "    print(i)\n",
    "else:\n",
    "    print(\"leave by end of cycle\")"
   ]
  },
  {
   "cell_type": "code",
   "execution_count": 123,
   "id": "ad18fed1",
   "metadata": {},
   "outputs": [
    {
     "data": {
      "text/plain": [
       "4"
      ]
     },
     "execution_count": 123,
     "metadata": {},
     "output_type": "execute_result"
    }
   ],
   "source": [
    "square(2)"
   ]
  },
  {
   "cell_type": "code",
   "execution_count": 124,
   "id": "ee916966",
   "metadata": {},
   "outputs": [
    {
     "data": {
      "text/plain": [
       "25"
      ]
     },
     "execution_count": 124,
     "metadata": {},
     "output_type": "execute_result"
    }
   ],
   "source": [
    "square(5)"
   ]
  },
  {
   "cell_type": "code",
   "execution_count": 126,
   "id": "10413cfc",
   "metadata": {},
   "outputs": [
    {
     "data": {
      "text/plain": [
       "[0, 1, 4, 9, 16, 25, 36, 49, 64, 81]"
      ]
     },
     "execution_count": 126,
     "metadata": {},
     "output_type": "execute_result"
    }
   ],
   "source": [
    "[square(i) for i in range(10)]"
   ]
  },
  {
   "cell_type": "code",
   "execution_count": 127,
   "id": "f1dc2d69",
   "metadata": {},
   "outputs": [
    {
     "data": {
      "text/plain": [
       "<map at 0x1056e5760>"
      ]
     },
     "execution_count": 127,
     "metadata": {},
     "output_type": "execute_result"
    }
   ],
   "source": [
    "map(square, range(10))"
   ]
  },
  {
   "cell_type": "code",
   "execution_count": 128,
   "id": "d97cb9a0",
   "metadata": {},
   "outputs": [
    {
     "data": {
      "text/plain": [
       "[0, 1, 4, 9, 16, 25, 36, 49, 64, 81]"
      ]
     },
     "execution_count": 128,
     "metadata": {},
     "output_type": "execute_result"
    }
   ],
   "source": [
    "list(map(square, range(10)))"
   ]
  },
  {
   "cell_type": "code",
   "execution_count": 129,
   "id": "1d171615",
   "metadata": {},
   "outputs": [
    {
     "data": {
      "text/plain": [
       "[0, 1, 4, 9, 16, 25, 36, 49, 64, 81]"
      ]
     },
     "execution_count": 129,
     "metadata": {},
     "output_type": "execute_result"
    }
   ],
   "source": [
    "list(map(lambda i: i ** 2, range(10)))"
   ]
  },
  {
   "cell_type": "code",
   "execution_count": 130,
   "id": "9031e441",
   "metadata": {},
   "outputs": [
    {
     "data": {
      "text/plain": [
       "[0, 1, 8, 27, 64, 125, 216, 343, 512, 729]"
      ]
     },
     "execution_count": 130,
     "metadata": {},
     "output_type": "execute_result"
    }
   ],
   "source": [
    "list(map(lambda x: x ** 3, range(10)))"
   ]
  },
  {
   "cell_type": "code",
   "execution_count": 131,
   "id": "228636f2",
   "metadata": {},
   "outputs": [
    {
     "data": {
      "text/plain": [
       "[1, 3, 5, 7, 9]"
      ]
     },
     "execution_count": 131,
     "metadata": {},
     "output_type": "execute_result"
    }
   ],
   "source": [
    "list(filter(lambda x: x % 2, range(10)))"
   ]
  },
  {
   "cell_type": "code",
   "execution_count": 132,
   "id": "165d4b20",
   "metadata": {},
   "outputs": [],
   "source": [
    "def is_odd(x):\n",
    "    return x % 2"
   ]
  },
  {
   "cell_type": "code",
   "execution_count": 133,
   "id": "55a0485f",
   "metadata": {},
   "outputs": [
    {
     "data": {
      "text/plain": [
       "[1, 3, 5, 7, 9]"
      ]
     },
     "execution_count": 133,
     "metadata": {},
     "output_type": "execute_result"
    }
   ],
   "source": [
    "list(filter(is_odd, range(10)))"
   ]
  },
  {
   "cell_type": "code",
   "execution_count": 134,
   "id": "8d2e5ffb",
   "metadata": {},
   "outputs": [
    {
     "data": {
      "text/plain": [
       "[0, 2, 4, 6, 8]"
      ]
     },
     "execution_count": 134,
     "metadata": {},
     "output_type": "execute_result"
    }
   ],
   "source": [
    "list(filter(lambda x: x % 2 == 0, range(10)))"
   ]
  },
  {
   "cell_type": "code",
   "execution_count": 135,
   "id": "878d88f4",
   "metadata": {},
   "outputs": [
    {
     "name": "stdout",
     "output_type": "stream",
     "text": [
      "0\n",
      "2\n",
      "4\n",
      "6\n",
      "8\n"
     ]
    }
   ],
   "source": [
    "g = filter(lambda x: x % 2 == 0, range(10))\n",
    "for i in g:\n",
    "    print(i)"
   ]
  },
  {
   "cell_type": "code",
   "execution_count": 136,
   "id": "cbd3ac8b",
   "metadata": {},
   "outputs": [],
   "source": [
    "for i in g:\n",
    "    print(i)"
   ]
  },
  {
   "cell_type": "code",
   "execution_count": 137,
   "id": "39b1c7bd",
   "metadata": {},
   "outputs": [
    {
     "data": {
      "text/plain": [
       "<filter at 0x105772850>"
      ]
     },
     "execution_count": 137,
     "metadata": {},
     "output_type": "execute_result"
    }
   ],
   "source": [
    "g"
   ]
  },
  {
   "cell_type": "code",
   "execution_count": 138,
   "id": "00cefa41",
   "metadata": {},
   "outputs": [],
   "source": [
    "def power_nums(numbers, power=2):\n",
    "    print(\"first line in power nums\")\n",
    "    for num in numbers:\n",
    "        print(\"process num\", num)\n",
    "        yield num ** power\n",
    "        print(\"yielded power for num\", num)"
   ]
  },
  {
   "cell_type": "code",
   "execution_count": 140,
   "id": "b25f51b3",
   "metadata": {},
   "outputs": [
    {
     "data": {
      "text/plain": [
       "<generator object power_nums at 0x1057d3580>"
      ]
     },
     "execution_count": 140,
     "metadata": {},
     "output_type": "execute_result"
    }
   ],
   "source": [
    "power_nums(range(5))"
   ]
  },
  {
   "cell_type": "code",
   "execution_count": 141,
   "id": "719da6b6",
   "metadata": {},
   "outputs": [],
   "source": [
    "g = power_nums(range(5))"
   ]
  },
  {
   "cell_type": "code",
   "execution_count": 142,
   "id": "05c59c23",
   "metadata": {},
   "outputs": [
    {
     "name": "stdout",
     "output_type": "stream",
     "text": [
      "first line in power nums\n",
      "process num 0\n"
     ]
    },
    {
     "data": {
      "text/plain": [
       "0"
      ]
     },
     "execution_count": 142,
     "metadata": {},
     "output_type": "execute_result"
    }
   ],
   "source": [
    "next(g)"
   ]
  },
  {
   "cell_type": "code",
   "execution_count": 143,
   "id": "142c8d6f",
   "metadata": {},
   "outputs": [
    {
     "name": "stdout",
     "output_type": "stream",
     "text": [
      "yielded power for num 0\n",
      "process num 1\n"
     ]
    },
    {
     "data": {
      "text/plain": [
       "1"
      ]
     },
     "execution_count": 143,
     "metadata": {},
     "output_type": "execute_result"
    }
   ],
   "source": [
    "next(g)"
   ]
  },
  {
   "cell_type": "code",
   "execution_count": 144,
   "id": "f5433e0a",
   "metadata": {},
   "outputs": [
    {
     "name": "stdout",
     "output_type": "stream",
     "text": [
      "yielded power for num 1\n",
      "process num 2\n"
     ]
    },
    {
     "data": {
      "text/plain": [
       "4"
      ]
     },
     "execution_count": 144,
     "metadata": {},
     "output_type": "execute_result"
    }
   ],
   "source": [
    "next(g)"
   ]
  },
  {
   "cell_type": "code",
   "execution_count": 145,
   "id": "34b9b3c5",
   "metadata": {},
   "outputs": [
    {
     "name": "stdout",
     "output_type": "stream",
     "text": [
      "yielded power for num 2\n",
      "process num 3\n"
     ]
    },
    {
     "data": {
      "text/plain": [
       "9"
      ]
     },
     "execution_count": 145,
     "metadata": {},
     "output_type": "execute_result"
    }
   ],
   "source": [
    "next(g)"
   ]
  },
  {
   "cell_type": "code",
   "execution_count": 146,
   "id": "086b9753",
   "metadata": {},
   "outputs": [
    {
     "name": "stdout",
     "output_type": "stream",
     "text": [
      "yielded power for num 3\n",
      "process num 4\n",
      "16\n",
      "yielded power for num 4\n"
     ]
    }
   ],
   "source": [
    "for i in g:\n",
    "    print(i)"
   ]
  },
  {
   "cell_type": "code",
   "execution_count": 147,
   "id": "96ea4f16",
   "metadata": {},
   "outputs": [],
   "source": [
    "for i in g:\n",
    "    print(i)"
   ]
  },
  {
   "cell_type": "code",
   "execution_count": 148,
   "id": "6c30b490",
   "metadata": {},
   "outputs": [],
   "source": [
    "g = power_nums(range(7))"
   ]
  },
  {
   "cell_type": "code",
   "execution_count": 149,
   "id": "8a6dab30",
   "metadata": {},
   "outputs": [
    {
     "name": "stdout",
     "output_type": "stream",
     "text": [
      "first line in power nums\n",
      "process num 0\n",
      "0\n",
      "yielded power for num 0\n",
      "process num 1\n",
      "1\n",
      "yielded power for num 1\n",
      "process num 2\n",
      "4\n",
      "yielded power for num 2\n",
      "process num 3\n",
      "9\n",
      "yielded power for num 3\n",
      "process num 4\n",
      "16\n",
      "yielded power for num 4\n",
      "process num 5\n",
      "25\n",
      "yielded power for num 5\n",
      "process num 6\n",
      "36\n",
      "yielded power for num 6\n"
     ]
    }
   ],
   "source": [
    "for i in g:\n",
    "    print(i)"
   ]
  },
  {
   "cell_type": "code",
   "execution_count": 150,
   "id": "4636584e",
   "metadata": {},
   "outputs": [],
   "source": [
    "file = open(\"text.txt\", \"w\")\n",
    "file.write(\"hello\")\n",
    "file.close()"
   ]
  },
  {
   "cell_type": "code",
   "execution_count": 151,
   "id": "afaf1839",
   "metadata": {},
   "outputs": [],
   "source": [
    "with open(\"text.txt\", \"a\") as file:\n",
    "    file.write(\"world\")"
   ]
  },
  {
   "cell_type": "code",
   "execution_count": 153,
   "id": "9b96abfc",
   "metadata": {},
   "outputs": [],
   "source": [
    "with open(\"text.txt\", \"w\") as file:\n",
    "    for i in range(1, 11):\n",
    "        file.write(str(i) * i + \"\\n\")"
   ]
  },
  {
   "cell_type": "code",
   "execution_count": 161,
   "id": "ebb8e9c8",
   "metadata": {},
   "outputs": [
    {
     "name": "stdout",
     "output_type": "stream",
     "text": [
      "'1\\n'\n",
      "'22\\n'\n",
      "'333\\n'\n",
      "'4444\\n'\n",
      "'55555\\n'\n",
      "'666666\\n'\n",
      "'7777777\\n'\n"
     ]
    }
   ],
   "source": [
    "with open(\"text.txt\", \"r\") as file:\n",
    "    while line := file.readline():\n",
    "        print(repr(line))\n",
    "        if \"7\" in line:\n",
    "            break\n",
    "    else:\n",
    "        print(\"file exausted\")"
   ]
  },
  {
   "cell_type": "code",
   "execution_count": 162,
   "id": "1974dfce",
   "metadata": {},
   "outputs": [],
   "source": [
    "a = 3"
   ]
  },
  {
   "cell_type": "code",
   "execution_count": 163,
   "id": "73ef715d",
   "metadata": {},
   "outputs": [
    {
     "data": {
      "text/plain": [
       "3"
      ]
     },
     "execution_count": 163,
     "metadata": {},
     "output_type": "execute_result"
    }
   ],
   "source": [
    "a"
   ]
  },
  {
   "cell_type": "code",
   "execution_count": 164,
   "id": "ecca0409",
   "metadata": {},
   "outputs": [
    {
     "data": {
      "text/plain": [
       "3"
      ]
     },
     "execution_count": 164,
     "metadata": {},
     "output_type": "execute_result"
    }
   ],
   "source": [
    "(a := 3)"
   ]
  },
  {
   "cell_type": "code",
   "execution_count": 165,
   "id": "96622e53",
   "metadata": {},
   "outputs": [],
   "source": [
    "a = b = 4"
   ]
  },
  {
   "cell_type": "code",
   "execution_count": 166,
   "id": "f212c08c",
   "metadata": {},
   "outputs": [
    {
     "data": {
      "text/plain": [
       "(4, 4)"
      ]
     },
     "execution_count": 166,
     "metadata": {},
     "output_type": "execute_result"
    }
   ],
   "source": [
    "a, b"
   ]
  },
  {
   "cell_type": "code",
   "execution_count": 167,
   "id": "87c9b268",
   "metadata": {},
   "outputs": [
    {
     "data": {
      "text/plain": [
       "4"
      ]
     },
     "execution_count": 167,
     "metadata": {},
     "output_type": "execute_result"
    }
   ],
   "source": [
    "(a := 4)"
   ]
  },
  {
   "cell_type": "code",
   "execution_count": 168,
   "id": "e32591c9",
   "metadata": {},
   "outputs": [
    {
     "data": {
      "text/plain": [
       "0"
      ]
     },
     "execution_count": 168,
     "metadata": {},
     "output_type": "execute_result"
    }
   ],
   "source": [
    "(a := 0)"
   ]
  },
  {
   "cell_type": "code",
   "execution_count": 170,
   "id": "f94fbc7d",
   "metadata": {},
   "outputs": [
    {
     "name": "stdout",
     "output_type": "stream",
     "text": [
      "'1\\n'\n",
      "'22\\n'\n",
      "'333\\n'\n",
      "'4444\\n'\n",
      "'\\n'\n",
      "'55555\\n'\n",
      "'666666\\n'\n",
      "'7777777\\n'\n",
      "'88888888\\n'\n",
      "line: 88888888\n",
      "\n"
     ]
    }
   ],
   "source": [
    "with open(\"text.txt\", \"r\") as file:\n",
    "    while line := file.readline():\n",
    "        print(repr(line))\n",
    "        if \"8\" in line:\n",
    "            break\n",
    "    else:\n",
    "        print(\"file exausted\")\n",
    "    print(\"line:\", line)"
   ]
  },
  {
   "cell_type": "code",
   "execution_count": 171,
   "id": "1c57e328",
   "metadata": {},
   "outputs": [
    {
     "name": "stdout",
     "output_type": "stream",
     "text": [
      "'1\\n'\n",
      "'22\\n'\n",
      "'333\\n'\n",
      "'4444\\n'\n",
      "'\\n'\n",
      "'55555\\n'\n",
      "'666666\\n'\n",
      "'7777777\\n'\n",
      "'88888888\\n'\n",
      "'999999999\\n'\n",
      "'10101010101010101010\\n'\n",
      "file exausted\n",
      "line: ''\n"
     ]
    }
   ],
   "source": [
    "with open(\"text.txt\", \"r\") as file:\n",
    "    while line := file.readline():\n",
    "        print(repr(line))\n",
    "        if \"11\" in line:\n",
    "            break\n",
    "    else:\n",
    "        print(\"file exausted\")\n",
    "    print(\"line:\", repr(line))"
   ]
  },
  {
   "cell_type": "code",
   "execution_count": 172,
   "id": "188455e5",
   "metadata": {},
   "outputs": [
    {
     "name": "stdout",
     "output_type": "stream",
     "text": [
      "'1\\n'\n",
      "'22\\n'\n",
      "'333\\n'\n",
      "'4444\\n'\n",
      "'\\n'\n",
      "'55555\\n'\n",
      "'666666\\n'\n",
      "'7777777\\n'\n",
      "'88888888\\n'\n",
      "'999999999\\n'\n",
      "'10101010101010101010\\n'\n",
      "file exausted\n",
      "line: '10101010101010101010\\n'\n"
     ]
    }
   ],
   "source": [
    "with open(\"text.txt\", \"r\") as file:\n",
    "    for line in file:\n",
    "        print(repr(line))\n",
    "        if \"11\" in line:\n",
    "            break\n",
    "    else:\n",
    "        print(\"file exausted\")\n",
    "    print(\"line:\", repr(line))"
   ]
  },
  {
   "cell_type": "code",
   "execution_count": 173,
   "id": "609fa156",
   "metadata": {},
   "outputs": [
    {
     "name": "stdout",
     "output_type": "stream",
     "text": [
      "'1\\n'\n",
      "'22\\n'\n",
      "'333\\n'\n",
      "'4444\\n'\n",
      "'\\n'\n",
      "'55555\\n'\n",
      "'666666\\n'\n",
      "'7777777\\n'\n",
      "line: '7777777\\n'\n"
     ]
    }
   ],
   "source": [
    "with open(\"text.txt\", \"r\") as file:\n",
    "    for line in file:\n",
    "        print(repr(line))\n",
    "        if \"7\" in line:\n",
    "            break\n",
    "    else:\n",
    "        print(\"file exausted\")\n",
    "    print(\"line:\", repr(line))"
   ]
  },
  {
   "cell_type": "code",
   "execution_count": 175,
   "id": "9c3908bc",
   "metadata": {},
   "outputs": [
    {
     "name": "stdout",
     "output_type": "stream",
     "text": [
      "'1\\n'\n",
      "'22\\n'\n",
      "'333\\n'\n",
      "'4444\\n'\n",
      "'\\n'\n",
      "'55555\\n'\n",
      "'666666\\n'\n",
      "'7777777\\n'\n",
      "'88888888\\n'\n",
      "'999999999\\n'\n",
      "'10101010101010101010'\n",
      "file exausted\n",
      "line: '10101010101010101010'\n"
     ]
    }
   ],
   "source": [
    "with open(\"text.txt\", \"r\") as file:\n",
    "    for line in file:\n",
    "        print(repr(line))\n",
    "        if \"11\" in line:\n",
    "            break\n",
    "    else:\n",
    "        print(\"file exausted\")\n",
    "    print(\"line:\", repr(line))"
   ]
  },
  {
   "cell_type": "code",
   "execution_count": 176,
   "id": "7fa93c68",
   "metadata": {},
   "outputs": [
    {
     "name": "stdout",
     "output_type": "stream",
     "text": [
      "'1\\n'\n",
      "'22\\n'\n",
      "'333\\n'\n",
      "'4444\\n'\n",
      "'\\n'\n",
      "'55555\\n'\n",
      "'666666\\n'\n",
      "'7777777\\n'\n",
      "'88888888\\n'\n",
      "'999999999\\n'\n",
      "'10101010101010101010'\n",
      "file exausted\n",
      "line: ''\n"
     ]
    }
   ],
   "source": [
    "with open(\"text.txt\", \"r\") as file:\n",
    "    while line := file.readline():\n",
    "        print(repr(line))\n",
    "        if \"11\" in line:\n",
    "            break\n",
    "    else:\n",
    "        print(\"file exausted\")\n",
    "    print(\"line:\", repr(line))"
   ]
  },
  {
   "cell_type": "code",
   "execution_count": 177,
   "id": "631e3be9",
   "metadata": {},
   "outputs": [
    {
     "data": {
      "text/plain": [
       "[0, 1, 2]"
      ]
     },
     "execution_count": 177,
     "metadata": {},
     "output_type": "execute_result"
    }
   ],
   "source": [
    "[i for i in range(3)]"
   ]
  },
  {
   "cell_type": "code",
   "execution_count": 178,
   "id": "ac30be62",
   "metadata": {},
   "outputs": [
    {
     "data": {
      "text/plain": [
       "<generator object <genexpr> at 0x1057d39e0>"
      ]
     },
     "execution_count": 178,
     "metadata": {},
     "output_type": "execute_result"
    }
   ],
   "source": [
    "(i for i in range(3))"
   ]
  },
  {
   "cell_type": "code",
   "execution_count": 179,
   "id": "1c8c4aee",
   "metadata": {},
   "outputs": [
    {
     "name": "stdout",
     "output_type": "stream",
     "text": [
      "0\n",
      "1\n",
      "4\n",
      "9\n",
      "16\n"
     ]
    }
   ],
   "source": [
    "for num in (i ** 2 for i in range(5)):\n",
    "    print(num)"
   ]
  },
  {
   "cell_type": "code",
   "execution_count": 180,
   "id": "21cb7a4f",
   "metadata": {},
   "outputs": [],
   "source": [
    "g = (i for i in range(3))"
   ]
  },
  {
   "cell_type": "code",
   "execution_count": 181,
   "id": "303c0aad",
   "metadata": {},
   "outputs": [
    {
     "data": {
      "text/plain": [
       "0"
      ]
     },
     "execution_count": 181,
     "metadata": {},
     "output_type": "execute_result"
    }
   ],
   "source": [
    "next(g)"
   ]
  },
  {
   "cell_type": "code",
   "execution_count": 182,
   "id": "4e9595f1",
   "metadata": {},
   "outputs": [
    {
     "data": {
      "text/plain": [
       "1"
      ]
     },
     "execution_count": 182,
     "metadata": {},
     "output_type": "execute_result"
    }
   ],
   "source": [
    "next(g)"
   ]
  },
  {
   "cell_type": "code",
   "execution_count": 183,
   "id": "7326b0cb",
   "metadata": {},
   "outputs": [
    {
     "name": "stdout",
     "output_type": "stream",
     "text": [
      "2\n"
     ]
    }
   ],
   "source": [
    "for i in g:\n",
    "    print(i)"
   ]
  },
  {
   "cell_type": "code",
   "execution_count": 185,
   "id": "dc086286",
   "metadata": {},
   "outputs": [
    {
     "name": "stdout",
     "output_type": "stream",
     "text": [
      "'1\\n2'\n"
     ]
    }
   ],
   "source": [
    "with open(\"text.txt\", \"r\") as file:\n",
    "     print(repr(file.read(3)))"
   ]
  },
  {
   "cell_type": "code",
   "execution_count": 187,
   "id": "ce4b0d84",
   "metadata": {},
   "outputs": [
    {
     "name": "stdout",
     "output_type": "stream",
     "text": [
      "'1'\n"
     ]
    }
   ],
   "source": [
    "with open(\"text.txt\", \"r\") as file:\n",
    "     print(repr(file.read(1)))"
   ]
  },
  {
   "cell_type": "code",
   "execution_count": 188,
   "id": "0ba4cb91",
   "metadata": {},
   "outputs": [
    {
     "name": "stdout",
     "output_type": "stream",
     "text": [
      "'1\\n22\\n33'\n"
     ]
    }
   ],
   "source": [
    "with open(\"text.txt\", \"r\") as file:\n",
    "     print(repr(file.read(7)))"
   ]
  },
  {
   "cell_type": "code",
   "execution_count": 189,
   "id": "4555a274",
   "metadata": {},
   "outputs": [
    {
     "name": "stdout",
     "output_type": "stream",
     "text": [
      "'1\\n22\\n333\\n'\n"
     ]
    }
   ],
   "source": [
    "with open(\"text.txt\", \"r\") as file:\n",
    "     print(repr(file.read(9)))"
   ]
  },
  {
   "cell_type": "code",
   "execution_count": null,
   "id": "192a0d4c",
   "metadata": {},
   "outputs": [],
   "source": []
  }
 ],
 "metadata": {
  "kernelspec": {
   "display_name": "Python 3 (ipykernel)",
   "language": "python",
   "name": "python3"
  },
  "language_info": {
   "codemirror_mode": {
    "name": "ipython",
    "version": 3
   },
   "file_extension": ".py",
   "mimetype": "text/x-python",
   "name": "python",
   "nbconvert_exporter": "python",
   "pygments_lexer": "ipython3",
   "version": "3.9.1"
  }
 },
 "nbformat": 4,
 "nbformat_minor": 5
}
