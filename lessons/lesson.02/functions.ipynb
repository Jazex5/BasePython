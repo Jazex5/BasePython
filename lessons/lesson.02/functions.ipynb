{
 "cells": [
  {
   "cell_type": "code",
   "execution_count": 1,
   "id": "postal-bridge",
   "metadata": {},
   "outputs": [
    {
     "name": "stdout",
     "output_type": "stream",
     "text": [
      "{}\n"
     ]
    }
   ],
   "source": [
    "d = {}\n",
    "print(d)"
   ]
  },
  {
   "cell_type": "code",
   "execution_count": 2,
   "id": "reduced-advantage",
   "metadata": {},
   "outputs": [
    {
     "data": {
      "text/plain": [
       "False"
      ]
     },
     "execution_count": 2,
     "metadata": {},
     "output_type": "execute_result"
    }
   ],
   "source": [
    "bool(d)"
   ]
  },
  {
   "cell_type": "code",
   "execution_count": 3,
   "id": "former-comment",
   "metadata": {},
   "outputs": [],
   "source": [
    "d['foo'] = 'bar'"
   ]
  },
  {
   "cell_type": "code",
   "execution_count": 4,
   "id": "awful-campbell",
   "metadata": {},
   "outputs": [
    {
     "data": {
      "text/plain": [
       "{'foo': 'bar'}"
      ]
     },
     "execution_count": 4,
     "metadata": {},
     "output_type": "execute_result"
    }
   ],
   "source": [
    "d"
   ]
  },
  {
   "cell_type": "code",
   "execution_count": 5,
   "id": "fiscal-walter",
   "metadata": {},
   "outputs": [
    {
     "data": {
      "text/plain": [
       "True"
      ]
     },
     "execution_count": 5,
     "metadata": {},
     "output_type": "execute_result"
    }
   ],
   "source": [
    "bool(d)"
   ]
  },
  {
   "cell_type": "code",
   "execution_count": 6,
   "id": "legitimate-snake",
   "metadata": {},
   "outputs": [
    {
     "data": {
      "text/plain": [
       "False"
      ]
     },
     "execution_count": 6,
     "metadata": {},
     "output_type": "execute_result"
    }
   ],
   "source": [
    "bool([])"
   ]
  },
  {
   "cell_type": "code",
   "execution_count": 7,
   "id": "particular-mills",
   "metadata": {},
   "outputs": [
    {
     "data": {
      "text/plain": [
       "True"
      ]
     },
     "execution_count": 7,
     "metadata": {},
     "output_type": "execute_result"
    }
   ],
   "source": [
    "bool([None])"
   ]
  },
  {
   "cell_type": "code",
   "execution_count": 8,
   "id": "formed-chemical",
   "metadata": {},
   "outputs": [
    {
     "ename": "TypeError",
     "evalue": "unhashable type: 'list'",
     "output_type": "error",
     "traceback": [
      "\u001b[0;31m---------------------------------------------------------------------------\u001b[0m",
      "\u001b[0;31mTypeError\u001b[0m                                 Traceback (most recent call last)",
      "\u001b[0;32m<ipython-input-8-86a20a65a777>\u001b[0m in \u001b[0;36m<module>\u001b[0;34m\u001b[0m\n\u001b[1;32m      1\u001b[0m \u001b[0mmy_list\u001b[0m \u001b[0;34m=\u001b[0m \u001b[0;34m[\u001b[0m\u001b[0;34m]\u001b[0m\u001b[0;34m\u001b[0m\u001b[0;34m\u001b[0m\u001b[0m\n\u001b[0;32m----> 2\u001b[0;31m \u001b[0md\u001b[0m\u001b[0;34m[\u001b[0m\u001b[0mmy_list\u001b[0m\u001b[0;34m]\u001b[0m \u001b[0;34m=\u001b[0m \u001b[0;34m'abc'\u001b[0m\u001b[0;34m\u001b[0m\u001b[0;34m\u001b[0m\u001b[0m\n\u001b[0m",
      "\u001b[0;31mTypeError\u001b[0m: unhashable type: 'list'"
     ]
    }
   ],
   "source": [
    "my_list = []\n",
    "d[my_list] = 'abc'"
   ]
  },
  {
   "cell_type": "code",
   "execution_count": 9,
   "id": "verbal-tulsa",
   "metadata": {},
   "outputs": [],
   "source": [
    "my_list.append(42)"
   ]
  },
  {
   "cell_type": "code",
   "execution_count": 10,
   "id": "developmental-outside",
   "metadata": {},
   "outputs": [
    {
     "data": {
      "text/plain": [
       "[42]"
      ]
     },
     "execution_count": 10,
     "metadata": {},
     "output_type": "execute_result"
    }
   ],
   "source": [
    "my_list"
   ]
  },
  {
   "cell_type": "code",
   "execution_count": 11,
   "id": "loved-digit",
   "metadata": {},
   "outputs": [
    {
     "ename": "TypeError",
     "evalue": "unhashable type: 'list'",
     "output_type": "error",
     "traceback": [
      "\u001b[0;31m---------------------------------------------------------------------------\u001b[0m",
      "\u001b[0;31mTypeError\u001b[0m                                 Traceback (most recent call last)",
      "\u001b[0;32m<ipython-input-11-774556c32ab8>\u001b[0m in \u001b[0;36m<module>\u001b[0;34m\u001b[0m\n\u001b[0;32m----> 1\u001b[0;31m \u001b[0md\u001b[0m\u001b[0;34m[\u001b[0m\u001b[0;34m(\u001b[0m\u001b[0;36m4\u001b[0m\u001b[0;34m,\u001b[0m \u001b[0;36m1\u001b[0m\u001b[0;34m,\u001b[0m \u001b[0;36m2\u001b[0m\u001b[0;34m,\u001b[0m \u001b[0;36m3\u001b[0m\u001b[0;34m,\u001b[0m \u001b[0;34m[\u001b[0m\u001b[0;34m]\u001b[0m\u001b[0;34m)\u001b[0m\u001b[0;34m]\u001b[0m \u001b[0;34m=\u001b[0m \u001b[0;36m123\u001b[0m\u001b[0;34m\u001b[0m\u001b[0;34m\u001b[0m\u001b[0m\n\u001b[0m",
      "\u001b[0;31mTypeError\u001b[0m: unhashable type: 'list'"
     ]
    }
   ],
   "source": [
    "d[(4, 1, 2, 3, [])] = 123"
   ]
  },
  {
   "cell_type": "code",
   "execution_count": 12,
   "id": "aquatic-collection",
   "metadata": {},
   "outputs": [
    {
     "data": {
      "text/plain": [
       "{'foo': 'bar'}"
      ]
     },
     "execution_count": 12,
     "metadata": {},
     "output_type": "execute_result"
    }
   ],
   "source": [
    "d"
   ]
  },
  {
   "cell_type": "code",
   "execution_count": 13,
   "id": "fluid-pressing",
   "metadata": {},
   "outputs": [],
   "source": [
    "d[()] = '123'"
   ]
  },
  {
   "cell_type": "code",
   "execution_count": 14,
   "id": "figured-bennett",
   "metadata": {},
   "outputs": [
    {
     "data": {
      "text/plain": [
       "{'foo': 'bar', (): '123'}"
      ]
     },
     "execution_count": 14,
     "metadata": {},
     "output_type": "execute_result"
    }
   ],
   "source": [
    "d"
   ]
  },
  {
   "cell_type": "code",
   "execution_count": 15,
   "id": "structured-response",
   "metadata": {},
   "outputs": [],
   "source": [
    "d[()] = 'abc'"
   ]
  },
  {
   "cell_type": "code",
   "execution_count": 16,
   "id": "falling-serum",
   "metadata": {},
   "outputs": [
    {
     "data": {
      "text/plain": [
       "{'foo': 'bar', (): 'abc'}"
      ]
     },
     "execution_count": 16,
     "metadata": {},
     "output_type": "execute_result"
    }
   ],
   "source": [
    "d"
   ]
  },
  {
   "cell_type": "code",
   "execution_count": 17,
   "id": "viral-edwards",
   "metadata": {},
   "outputs": [
    {
     "data": {
      "text/plain": [
       "{'foo': 'bar', (): 'abc', (1, 2): '1', (3, 4): '2'}"
      ]
     },
     "execution_count": 17,
     "metadata": {},
     "output_type": "execute_result"
    }
   ],
   "source": [
    "d[(1, 2)] = '1'\n",
    "d[(3, 4)] = '2'\n",
    "\n",
    "d"
   ]
  },
  {
   "cell_type": "code",
   "execution_count": 18,
   "id": "champion-bundle",
   "metadata": {},
   "outputs": [
    {
     "data": {
      "text/plain": [
       "False"
      ]
     },
     "execution_count": 18,
     "metadata": {},
     "output_type": "execute_result"
    }
   ],
   "source": [
    "bool('')"
   ]
  },
  {
   "cell_type": "code",
   "execution_count": 19,
   "id": "according-geology",
   "metadata": {},
   "outputs": [
    {
     "data": {
      "text/plain": [
       "{'foo': 'bar', (): 'abc', (1, 2): (255, 0, 100), (3, 4): '2'}"
      ]
     },
     "execution_count": 19,
     "metadata": {},
     "output_type": "execute_result"
    }
   ],
   "source": [
    "x = 1\n",
    "y = 2\n",
    "\n",
    "d[(x, y)] = (255, 0, 100)\n",
    "\n",
    "d"
   ]
  },
  {
   "cell_type": "code",
   "execution_count": 20,
   "id": "listed-vienna",
   "metadata": {},
   "outputs": [],
   "source": [
    "d['dict'] = {'spam': 'eggs'}"
   ]
  },
  {
   "cell_type": "code",
   "execution_count": 21,
   "id": "skilled-speaker",
   "metadata": {},
   "outputs": [
    {
     "data": {
      "text/plain": [
       "{'foo': 'bar',\n",
       " (): 'abc',\n",
       " (1, 2): (255, 0, 100),\n",
       " (3, 4): '2',\n",
       " 'dict': {'spam': 'eggs'}}"
      ]
     },
     "execution_count": 21,
     "metadata": {},
     "output_type": "execute_result"
    }
   ],
   "source": [
    "d"
   ]
  },
  {
   "cell_type": "code",
   "execution_count": 22,
   "id": "acute-mozambique",
   "metadata": {},
   "outputs": [],
   "source": [
    "d['extra'] = {'foobar': 'spameggs'}"
   ]
  },
  {
   "cell_type": "code",
   "execution_count": 23,
   "id": "middle-glasgow",
   "metadata": {},
   "outputs": [
    {
     "data": {
      "text/plain": [
       "{'foo': 'bar',\n",
       " (): 'abc',\n",
       " (1, 2): (255, 0, 100),\n",
       " (3, 4): '2',\n",
       " 'dict': {'spam': 'eggs'},\n",
       " 'extra': {'foobar': 'spameggs'}}"
      ]
     },
     "execution_count": 23,
     "metadata": {},
     "output_type": "execute_result"
    }
   ],
   "source": [
    "d"
   ]
  },
  {
   "cell_type": "code",
   "execution_count": 24,
   "id": "noticed-bradley",
   "metadata": {},
   "outputs": [
    {
     "data": {
      "text/plain": [
       "{'foobar': 'spameggs'}"
      ]
     },
     "execution_count": 24,
     "metadata": {},
     "output_type": "execute_result"
    }
   ],
   "source": [
    "d['extra']"
   ]
  },
  {
   "cell_type": "code",
   "execution_count": 25,
   "id": "demonstrated-therapist",
   "metadata": {},
   "outputs": [],
   "source": [
    "d = d['extra']"
   ]
  },
  {
   "cell_type": "code",
   "execution_count": 26,
   "id": "permanent-synthetic",
   "metadata": {},
   "outputs": [],
   "source": [
    "d = {'foo': 'bar',\n",
    " (): 'abc',\n",
    " (1, 2): (255, 0, 100),\n",
    " (3, 4): '2',\n",
    " 'dict': {'spam': 'eggs'},\n",
    " 'extra': {'foobar': 'spameggs'}}"
   ]
  },
  {
   "cell_type": "code",
   "execution_count": 27,
   "id": "alleged-jacksonville",
   "metadata": {},
   "outputs": [],
   "source": [
    "d_extra = d['extra']\n"
   ]
  },
  {
   "cell_type": "code",
   "execution_count": 28,
   "id": "accessible-transformation",
   "metadata": {},
   "outputs": [
    {
     "data": {
      "text/plain": [
       "{'foobar': 'spameggs'}"
      ]
     },
     "execution_count": 28,
     "metadata": {},
     "output_type": "execute_result"
    }
   ],
   "source": [
    "d_extra"
   ]
  },
  {
   "cell_type": "code",
   "execution_count": 29,
   "id": "theoretical-flexibility",
   "metadata": {},
   "outputs": [
    {
     "data": {
      "text/plain": [
       "True"
      ]
     },
     "execution_count": 29,
     "metadata": {},
     "output_type": "execute_result"
    }
   ],
   "source": [
    "d['extra'] is d_extra"
   ]
  },
  {
   "cell_type": "code",
   "execution_count": 30,
   "id": "corporate-logging",
   "metadata": {},
   "outputs": [],
   "source": [
    "d_extra[1] = '1'"
   ]
  },
  {
   "cell_type": "code",
   "execution_count": 31,
   "id": "critical-fruit",
   "metadata": {},
   "outputs": [
    {
     "data": {
      "text/plain": [
       "{'foobar': 'spameggs', 1: '1'}"
      ]
     },
     "execution_count": 31,
     "metadata": {},
     "output_type": "execute_result"
    }
   ],
   "source": [
    "d_extra"
   ]
  },
  {
   "cell_type": "code",
   "execution_count": 32,
   "id": "basic-relevance",
   "metadata": {},
   "outputs": [
    {
     "data": {
      "text/plain": [
       "{'foo': 'bar',\n",
       " (): 'abc',\n",
       " (1, 2): (255, 0, 100),\n",
       " (3, 4): '2',\n",
       " 'dict': {'spam': 'eggs'},\n",
       " 'extra': {'foobar': 'spameggs', 1: '1'}}"
      ]
     },
     "execution_count": 32,
     "metadata": {},
     "output_type": "execute_result"
    }
   ],
   "source": [
    "d"
   ]
  },
  {
   "cell_type": "code",
   "execution_count": 33,
   "id": "czech-chance",
   "metadata": {},
   "outputs": [
    {
     "data": {
      "text/plain": [
       "'bar'"
      ]
     },
     "execution_count": 33,
     "metadata": {},
     "output_type": "execute_result"
    }
   ],
   "source": [
    "d['foo']"
   ]
  },
  {
   "cell_type": "code",
   "execution_count": 34,
   "id": "color-enough",
   "metadata": {},
   "outputs": [],
   "source": [
    "d['foo'] = 'barbar'"
   ]
  },
  {
   "cell_type": "code",
   "execution_count": 35,
   "id": "meaningful-neutral",
   "metadata": {},
   "outputs": [
    {
     "data": {
      "text/plain": [
       "'barbar'"
      ]
     },
     "execution_count": 35,
     "metadata": {},
     "output_type": "execute_result"
    }
   ],
   "source": [
    "d['foo']"
   ]
  },
  {
   "cell_type": "code",
   "execution_count": 36,
   "id": "improved-republic",
   "metadata": {},
   "outputs": [
    {
     "data": {
      "text/plain": [
       "{'foo': 'barbar',\n",
       " (): 'abc',\n",
       " (1, 2): (255, 0, 100),\n",
       " (3, 4): '2',\n",
       " 'dict': {'spam': 'eggs'},\n",
       " 'extra': {'foobar': 'spameggs', 1: '1'}}"
      ]
     },
     "execution_count": 36,
     "metadata": {},
     "output_type": "execute_result"
    }
   ],
   "source": [
    "d"
   ]
  },
  {
   "cell_type": "code",
   "execution_count": 38,
   "id": "dramatic-terrorist",
   "metadata": {},
   "outputs": [
    {
     "name": "stdout",
     "output_type": "stream",
     "text": [
      "foo barbar\n",
      "() abc\n",
      "(1, 2) (255, 0, 100)\n",
      "(3, 4) 2\n",
      "dict {'spam': 'eggs'}\n",
      "extra {'foobar': 'spameggs', 1: '1'}\n"
     ]
    }
   ],
   "source": [
    "for key in d:\n",
    "    print(key, d[key])\n",
    "    "
   ]
  },
  {
   "cell_type": "code",
   "execution_count": 39,
   "id": "tribal-crash",
   "metadata": {},
   "outputs": [
    {
     "name": "stdout",
     "output_type": "stream",
     "text": [
      "True\n",
      "False\n"
     ]
    }
   ],
   "source": [
    "d2 = {'foo': 'bar'}\n",
    "d2_2 = dict(d2)\n",
    "\n",
    "print(d2 == d2_2)\n",
    "print(d2 is d2_2)"
   ]
  },
  {
   "cell_type": "code",
   "execution_count": 40,
   "id": "ancient-attachment",
   "metadata": {},
   "outputs": [
    {
     "name": "stdout",
     "output_type": "stream",
     "text": [
      "{'foo': 'bar'}\n",
      "True\n"
     ]
    }
   ],
   "source": [
    "d2_3 = dict(foo='bar')\n",
    "print(d2_3)\n",
    "print(d2 == d2_2 == d2_3)"
   ]
  },
  {
   "cell_type": "code",
   "execution_count": 41,
   "id": "alternative-margin",
   "metadata": {},
   "outputs": [],
   "source": [
    "s1 = set((1, 2, 3))\n"
   ]
  },
  {
   "cell_type": "code",
   "execution_count": 42,
   "id": "basic-device",
   "metadata": {},
   "outputs": [
    {
     "data": {
      "text/plain": [
       "{1, 2, 3}"
      ]
     },
     "execution_count": 42,
     "metadata": {},
     "output_type": "execute_result"
    }
   ],
   "source": [
    "s1"
   ]
  },
  {
   "cell_type": "code",
   "execution_count": 44,
   "id": "blind-nurse",
   "metadata": {},
   "outputs": [],
   "source": [
    "s2 = {3, 1, 2}"
   ]
  },
  {
   "cell_type": "code",
   "execution_count": 45,
   "id": "fuzzy-adoption",
   "metadata": {},
   "outputs": [
    {
     "data": {
      "text/plain": [
       "{1, 2, 3}"
      ]
     },
     "execution_count": 45,
     "metadata": {},
     "output_type": "execute_result"
    }
   ],
   "source": [
    "s2"
   ]
  },
  {
   "cell_type": "code",
   "execution_count": 46,
   "id": "selected-trace",
   "metadata": {},
   "outputs": [],
   "source": [
    "s2.add(4)"
   ]
  },
  {
   "cell_type": "code",
   "execution_count": 47,
   "id": "ordinary-charles",
   "metadata": {},
   "outputs": [
    {
     "data": {
      "text/plain": [
       "{1, 2, 3}"
      ]
     },
     "execution_count": 47,
     "metadata": {},
     "output_type": "execute_result"
    }
   ],
   "source": [
    "s1"
   ]
  },
  {
   "cell_type": "code",
   "execution_count": 48,
   "id": "violent-grocery",
   "metadata": {},
   "outputs": [
    {
     "data": {
      "text/plain": [
       "{1, 2, 3, 4}"
      ]
     },
     "execution_count": 48,
     "metadata": {},
     "output_type": "execute_result"
    }
   ],
   "source": [
    "s2"
   ]
  },
  {
   "cell_type": "code",
   "execution_count": 51,
   "id": "funded-replication",
   "metadata": {},
   "outputs": [],
   "source": [
    "s2.add(('foo', 'bar'))"
   ]
  },
  {
   "cell_type": "code",
   "execution_count": 52,
   "id": "expanded-missile",
   "metadata": {},
   "outputs": [
    {
     "data": {
      "text/plain": [
       "{('foo', 'bar'), 1, 2, 3, 4}"
      ]
     },
     "execution_count": 52,
     "metadata": {},
     "output_type": "execute_result"
    }
   ],
   "source": [
    "s2"
   ]
  },
  {
   "cell_type": "code",
   "execution_count": 53,
   "id": "choice-vacuum",
   "metadata": {},
   "outputs": [],
   "source": [
    "s2.add(3)"
   ]
  },
  {
   "cell_type": "code",
   "execution_count": 54,
   "id": "starting-potential",
   "metadata": {},
   "outputs": [
    {
     "data": {
      "text/plain": [
       "{('foo', 'bar'), 1, 2, 3, 4}"
      ]
     },
     "execution_count": 54,
     "metadata": {},
     "output_type": "execute_result"
    }
   ],
   "source": [
    "s2"
   ]
  },
  {
   "cell_type": "code",
   "execution_count": 55,
   "id": "guilty-vegetation",
   "metadata": {},
   "outputs": [
    {
     "ename": "TypeError",
     "evalue": "unhashable type: 'list'",
     "output_type": "error",
     "traceback": [
      "\u001b[0;31m---------------------------------------------------------------------------\u001b[0m",
      "\u001b[0;31mTypeError\u001b[0m                                 Traceback (most recent call last)",
      "\u001b[0;32m<ipython-input-55-7d7736436095>\u001b[0m in \u001b[0;36m<module>\u001b[0;34m\u001b[0m\n\u001b[0;32m----> 1\u001b[0;31m \u001b[0ms2\u001b[0m\u001b[0;34m.\u001b[0m\u001b[0madd\u001b[0m\u001b[0;34m(\u001b[0m\u001b[0;34m[\u001b[0m\u001b[0;34m]\u001b[0m\u001b[0;34m)\u001b[0m\u001b[0;34m\u001b[0m\u001b[0;34m\u001b[0m\u001b[0m\n\u001b[0m",
      "\u001b[0;31mTypeError\u001b[0m: unhashable type: 'list'"
     ]
    }
   ],
   "source": [
    "s2.add([])"
   ]
  },
  {
   "cell_type": "code",
   "execution_count": 56,
   "id": "sexual-venezuela",
   "metadata": {},
   "outputs": [],
   "source": [
    "s2.remove(1)"
   ]
  },
  {
   "cell_type": "code",
   "execution_count": 57,
   "id": "further-township",
   "metadata": {},
   "outputs": [
    {
     "data": {
      "text/plain": [
       "{('foo', 'bar'), 2, 3, 4}"
      ]
     },
     "execution_count": 57,
     "metadata": {},
     "output_type": "execute_result"
    }
   ],
   "source": [
    "s2"
   ]
  },
  {
   "cell_type": "code",
   "execution_count": 58,
   "id": "floating-spelling",
   "metadata": {},
   "outputs": [],
   "source": [
    "s2.add(1)"
   ]
  },
  {
   "cell_type": "code",
   "execution_count": 59,
   "id": "processed-morgan",
   "metadata": {},
   "outputs": [
    {
     "data": {
      "text/plain": [
       "{('foo', 'bar'), 1, 2, 3, 4}"
      ]
     },
     "execution_count": 59,
     "metadata": {},
     "output_type": "execute_result"
    }
   ],
   "source": [
    "s2"
   ]
  },
  {
   "cell_type": "code",
   "execution_count": 60,
   "id": "liberal-fighter",
   "metadata": {},
   "outputs": [
    {
     "data": {
      "text/plain": [
       "{('foo', 'bar'), 1, 2, 3, 4, 'spam and eggs'}"
      ]
     },
     "execution_count": 60,
     "metadata": {},
     "output_type": "execute_result"
    }
   ],
   "source": [
    "s3 = s2\n",
    "s3.add('spam and eggs')\n",
    "s3"
   ]
  },
  {
   "cell_type": "code",
   "execution_count": 61,
   "id": "focal-canadian",
   "metadata": {},
   "outputs": [
    {
     "data": {
      "text/plain": [
       "{('foo', 'bar'), 1, 2, 3, 4, 'spam and eggs'}"
      ]
     },
     "execution_count": 61,
     "metadata": {},
     "output_type": "execute_result"
    }
   ],
   "source": [
    "s2"
   ]
  },
  {
   "cell_type": "code",
   "execution_count": 62,
   "id": "regulated-oxygen",
   "metadata": {},
   "outputs": [
    {
     "data": {
      "text/plain": [
       "True"
      ]
     },
     "execution_count": 62,
     "metadata": {},
     "output_type": "execute_result"
    }
   ],
   "source": [
    "s3 is s2"
   ]
  },
  {
   "cell_type": "code",
   "execution_count": 63,
   "id": "expensive-david",
   "metadata": {},
   "outputs": [
    {
     "name": "stdout",
     "output_type": "stream",
     "text": [
      "True\n",
      "False\n"
     ]
    }
   ],
   "source": [
    "s3 = set(s2)\n",
    "print(s2 == s3)\n",
    "print(s2 is s3)"
   ]
  },
  {
   "cell_type": "code",
   "execution_count": 64,
   "id": "framed-strength",
   "metadata": {},
   "outputs": [
    {
     "data": {
      "text/plain": [
       "({('foo', 'bar'), 1, 2, 3, 4, 'spam and eggs'},\n",
       " {('foo', 'bar'), 1, 2, 3, 4, 'spam and eggs'})"
      ]
     },
     "execution_count": 64,
     "metadata": {},
     "output_type": "execute_result"
    }
   ],
   "source": [
    "s2, s3"
   ]
  },
  {
   "cell_type": "code",
   "execution_count": 65,
   "id": "critical-crown",
   "metadata": {},
   "outputs": [
    {
     "data": {
      "text/plain": [
       "({('foo', 'bar'), 1, 2, 3, 4, 42, 'spam and eggs'},\n",
       " {('foo', 'bar'), (), 1, 2, 3, 4, 'spam and eggs'})"
      ]
     },
     "execution_count": 65,
     "metadata": {},
     "output_type": "execute_result"
    }
   ],
   "source": [
    "s2.add(42)\n",
    "s3.add(())\n",
    "s2, s3"
   ]
  },
  {
   "cell_type": "code",
   "execution_count": 66,
   "id": "former-angel",
   "metadata": {},
   "outputs": [
    {
     "data": {
      "text/plain": [
       "{1, 2, 3}"
      ]
     },
     "execution_count": 66,
     "metadata": {},
     "output_type": "execute_result"
    }
   ],
   "source": [
    "list_of_data_to_process = [1, 2, 3, 1, 3, 2, 3]\n",
    "set_of_data = set(list_of_data_to_process)\n",
    "\n",
    "set_of_data"
   ]
  },
  {
   "cell_type": "code",
   "execution_count": 67,
   "id": "separate-stone",
   "metadata": {},
   "outputs": [],
   "source": [
    "def my_func():\n",
    "    pass"
   ]
  },
  {
   "cell_type": "code",
   "execution_count": 68,
   "id": "explicit-contemporary",
   "metadata": {},
   "outputs": [],
   "source": [
    "my_func()"
   ]
  },
  {
   "cell_type": "code",
   "execution_count": 69,
   "id": "least-interstate",
   "metadata": {},
   "outputs": [
    {
     "data": {
      "text/plain": [
       "{1, 2, 3}"
      ]
     },
     "execution_count": 69,
     "metadata": {},
     "output_type": "execute_result"
    }
   ],
   "source": [
    "s1"
   ]
  },
  {
   "cell_type": "code",
   "execution_count": 70,
   "id": "attempted-alliance",
   "metadata": {},
   "outputs": [
    {
     "data": {
      "text/plain": [
       "{('foo', 'bar'), 1, 2, 3, 4, 42, 'spam and eggs'}"
      ]
     },
     "execution_count": 70,
     "metadata": {},
     "output_type": "execute_result"
    }
   ],
   "source": [
    "s2"
   ]
  },
  {
   "cell_type": "code",
   "execution_count": 71,
   "id": "improved-permission",
   "metadata": {},
   "outputs": [
    {
     "data": {
      "text/plain": [
       "{('foo', 'bar'), (), 1, 2, 3, 4, 'spam and eggs'}"
      ]
     },
     "execution_count": 71,
     "metadata": {},
     "output_type": "execute_result"
    }
   ],
   "source": [
    "s3"
   ]
  },
  {
   "cell_type": "code",
   "execution_count": 72,
   "id": "labeled-guidance",
   "metadata": {},
   "outputs": [
    {
     "data": {
      "text/plain": [
       "{42}"
      ]
     },
     "execution_count": 72,
     "metadata": {},
     "output_type": "execute_result"
    }
   ],
   "source": [
    "s2 - s3"
   ]
  },
  {
   "cell_type": "code",
   "execution_count": 73,
   "id": "african-florist",
   "metadata": {},
   "outputs": [
    {
     "data": {
      "text/plain": [
       "{('foo', 'bar'), 4, 42, 'spam and eggs'}"
      ]
     },
     "execution_count": 73,
     "metadata": {},
     "output_type": "execute_result"
    }
   ],
   "source": [
    "s2 - s1"
   ]
  },
  {
   "cell_type": "code",
   "execution_count": 74,
   "id": "derived-proportion",
   "metadata": {},
   "outputs": [
    {
     "data": {
      "text/plain": [
       "set()"
      ]
     },
     "execution_count": 74,
     "metadata": {},
     "output_type": "execute_result"
    }
   ],
   "source": [
    "s1.difference(s2)"
   ]
  },
  {
   "cell_type": "code",
   "execution_count": 75,
   "id": "suitable-oliver",
   "metadata": {},
   "outputs": [
    {
     "data": {
      "text/plain": [
       "{()}"
      ]
     },
     "execution_count": 75,
     "metadata": {},
     "output_type": "execute_result"
    }
   ],
   "source": [
    "s3 - s2"
   ]
  },
  {
   "cell_type": "code",
   "execution_count": 76,
   "id": "signed-studio",
   "metadata": {},
   "outputs": [
    {
     "data": {
      "text/plain": [
       "{()}"
      ]
     },
     "execution_count": 76,
     "metadata": {},
     "output_type": "execute_result"
    }
   ],
   "source": [
    "s3.difference(s2)"
   ]
  },
  {
   "cell_type": "code",
   "execution_count": 77,
   "id": "prescribed-ozone",
   "metadata": {},
   "outputs": [
    {
     "data": {
      "text/plain": [
       "{('foo', 'bar'), (), 1, 2, 3, 4, 42, 'spam and eggs'}"
      ]
     },
     "execution_count": 77,
     "metadata": {},
     "output_type": "execute_result"
    }
   ],
   "source": [
    "s2 | s3"
   ]
  },
  {
   "cell_type": "code",
   "execution_count": 78,
   "id": "stable-berry",
   "metadata": {},
   "outputs": [
    {
     "data": {
      "text/plain": [
       "{('foo', 'bar'), 1, 2, 3, 4, 42, 'spam and eggs'}"
      ]
     },
     "execution_count": 78,
     "metadata": {},
     "output_type": "execute_result"
    }
   ],
   "source": [
    "s1 | s2"
   ]
  },
  {
   "cell_type": "code",
   "execution_count": 79,
   "id": "quarterly-making",
   "metadata": {},
   "outputs": [
    {
     "data": {
      "text/plain": [
       "{('foo', 'bar'), 1, 2, 3, 4, 42, 'spam and eggs'}"
      ]
     },
     "execution_count": 79,
     "metadata": {},
     "output_type": "execute_result"
    }
   ],
   "source": [
    "s2"
   ]
  },
  {
   "cell_type": "code",
   "execution_count": 80,
   "id": "awful-segment",
   "metadata": {},
   "outputs": [
    {
     "data": {
      "text/plain": [
       "True"
      ]
     },
     "execution_count": 80,
     "metadata": {},
     "output_type": "execute_result"
    }
   ],
   "source": [
    "1 in s1"
   ]
  },
  {
   "cell_type": "code",
   "execution_count": 81,
   "id": "appointed-nancy",
   "metadata": {},
   "outputs": [
    {
     "data": {
      "text/plain": [
       "True"
      ]
     },
     "execution_count": 81,
     "metadata": {},
     "output_type": "execute_result"
    }
   ],
   "source": [
    "42 in s2"
   ]
  },
  {
   "cell_type": "code",
   "execution_count": 82,
   "id": "finnish-press",
   "metadata": {},
   "outputs": [
    {
     "data": {
      "text/plain": [
       "False"
      ]
     },
     "execution_count": 82,
     "metadata": {},
     "output_type": "execute_result"
    }
   ],
   "source": [
    "42 in s1"
   ]
  },
  {
   "cell_type": "code",
   "execution_count": 83,
   "id": "damaged-emperor",
   "metadata": {},
   "outputs": [
    {
     "data": {
      "text/plain": [
       "True"
      ]
     },
     "execution_count": 83,
     "metadata": {},
     "output_type": "execute_result"
    }
   ],
   "source": [
    "s1.issubset(s2)"
   ]
  },
  {
   "cell_type": "code",
   "execution_count": 84,
   "id": "blind-brunswick",
   "metadata": {},
   "outputs": [
    {
     "data": {
      "text/plain": [
       "False"
      ]
     },
     "execution_count": 84,
     "metadata": {},
     "output_type": "execute_result"
    }
   ],
   "source": [
    "s3.issubset(s2)"
   ]
  },
  {
   "cell_type": "code",
   "execution_count": 85,
   "id": "automatic-premium",
   "metadata": {},
   "outputs": [
    {
     "data": {
      "text/plain": [
       "True"
      ]
     },
     "execution_count": 85,
     "metadata": {},
     "output_type": "execute_result"
    }
   ],
   "source": [
    "s2.issuperset(s1)"
   ]
  },
  {
   "cell_type": "code",
   "execution_count": 86,
   "id": "signal-tracker",
   "metadata": {},
   "outputs": [
    {
     "data": {
      "text/plain": [
       "{('foo', 'bar'), 1, 2, 3, 4, 'spam and eggs'}"
      ]
     },
     "execution_count": 86,
     "metadata": {},
     "output_type": "execute_result"
    }
   ],
   "source": [
    "s2 & s3"
   ]
  },
  {
   "cell_type": "code",
   "execution_count": 87,
   "id": "offshore-ultimate",
   "metadata": {},
   "outputs": [
    {
     "data": {
      "text/plain": [
       "{1, 2, 3}"
      ]
     },
     "execution_count": 87,
     "metadata": {},
     "output_type": "execute_result"
    }
   ],
   "source": [
    "s1 & s2"
   ]
  },
  {
   "cell_type": "code",
   "execution_count": 88,
   "id": "optional-logan",
   "metadata": {},
   "outputs": [
    {
     "data": {
      "text/plain": [
       "{(), 42}"
      ]
     },
     "execution_count": 88,
     "metadata": {},
     "output_type": "execute_result"
    }
   ],
   "source": [
    "s2 ^ s3"
   ]
  },
  {
   "cell_type": "code",
   "execution_count": 89,
   "id": "suspended-application",
   "metadata": {},
   "outputs": [],
   "source": [
    "my_func()"
   ]
  },
  {
   "cell_type": "code",
   "execution_count": 90,
   "id": "funny-henry",
   "metadata": {},
   "outputs": [
    {
     "name": "stdout",
     "output_type": "stream",
     "text": [
      "None\n"
     ]
    }
   ],
   "source": [
    "res = my_func()\n",
    "print(res)"
   ]
  },
  {
   "cell_type": "code",
   "execution_count": 91,
   "id": "hairy-bidding",
   "metadata": {},
   "outputs": [
    {
     "data": {
      "text/plain": [
       "42"
      ]
     },
     "execution_count": 91,
     "metadata": {},
     "output_type": "execute_result"
    }
   ],
   "source": [
    "def my_func():\n",
    "    return 42\n",
    "\n",
    "my_func()"
   ]
  },
  {
   "cell_type": "code",
   "execution_count": 92,
   "id": "valued-questionnaire",
   "metadata": {},
   "outputs": [],
   "source": [
    "def my_func():\n",
    "    return my_func"
   ]
  },
  {
   "cell_type": "code",
   "execution_count": 93,
   "id": "tough-grill",
   "metadata": {},
   "outputs": [
    {
     "data": {
      "text/plain": [
       "<function __main__.my_func()>"
      ]
     },
     "execution_count": 93,
     "metadata": {},
     "output_type": "execute_result"
    }
   ],
   "source": [
    "my_func()"
   ]
  },
  {
   "cell_type": "code",
   "execution_count": 94,
   "id": "aggressive-sympathy",
   "metadata": {},
   "outputs": [
    {
     "data": {
      "text/plain": [
       "<function __main__.my_func()>"
      ]
     },
     "execution_count": 94,
     "metadata": {},
     "output_type": "execute_result"
    }
   ],
   "source": [
    "my_func"
   ]
  },
  {
   "cell_type": "code",
   "execution_count": 95,
   "id": "hydraulic-cloud",
   "metadata": {},
   "outputs": [
    {
     "data": {
      "text/plain": [
       "True"
      ]
     },
     "execution_count": 95,
     "metadata": {},
     "output_type": "execute_result"
    }
   ],
   "source": [
    "my_func is my_func()"
   ]
  },
  {
   "cell_type": "code",
   "execution_count": 96,
   "id": "german-journey",
   "metadata": {},
   "outputs": [],
   "source": [
    "def square_nums(list_of_numbers):\n",
    "    list_of_squares = []\n",
    "    for num in list_of_numbers:\n",
    "        print('processing value', num)\n",
    "        list_of_squares.append(num ** 3)\n",
    "\n",
    "    return list_of_squares"
   ]
  },
  {
   "cell_type": "code",
   "execution_count": 97,
   "id": "comic-freedom",
   "metadata": {},
   "outputs": [
    {
     "data": {
      "text/plain": [
       "[]"
      ]
     },
     "execution_count": 97,
     "metadata": {},
     "output_type": "execute_result"
    }
   ],
   "source": [
    "square_nums([])"
   ]
  },
  {
   "cell_type": "code",
   "execution_count": 98,
   "id": "registered-cliff",
   "metadata": {},
   "outputs": [
    {
     "name": "stdout",
     "output_type": "stream",
     "text": [
      "processing value 1\n",
      "processing value 2\n",
      "processing value 3\n",
      "processing value 4\n",
      "processing value 5\n",
      "processing value 6\n"
     ]
    },
    {
     "data": {
      "text/plain": [
       "[1, 8, 27, 64, 125, 216]"
      ]
     },
     "execution_count": 98,
     "metadata": {},
     "output_type": "execute_result"
    }
   ],
   "source": [
    "square_nums([1, 2, 3, 4, 5, 6])"
   ]
  },
  {
   "cell_type": "code",
   "execution_count": 99,
   "id": "sharp-program",
   "metadata": {},
   "outputs": [],
   "source": [
    "def square_nums(list_of_numbers):\n",
    "    return [num ** 2 for num in list_of_numbers]"
   ]
  },
  {
   "cell_type": "code",
   "execution_count": 100,
   "id": "documented-setting",
   "metadata": {},
   "outputs": [
    {
     "data": {
      "text/plain": [
       "[]"
      ]
     },
     "execution_count": 100,
     "metadata": {},
     "output_type": "execute_result"
    }
   ],
   "source": [
    "square_nums([])"
   ]
  },
  {
   "cell_type": "code",
   "execution_count": 102,
   "id": "seven-heating",
   "metadata": {},
   "outputs": [
    {
     "data": {
      "text/plain": [
       "[1, 4, 9, 16, 25, 36, 49, 64, 81, 100, 121, 144, 169, 196]"
      ]
     },
     "execution_count": 102,
     "metadata": {},
     "output_type": "execute_result"
    }
   ],
   "source": [
    "square_nums(range(1, 15))"
   ]
  },
  {
   "cell_type": "code",
   "execution_count": 103,
   "id": "round-contents",
   "metadata": {},
   "outputs": [
    {
     "data": {
      "text/plain": [
       "{5: '5', 6: '6', 7: '7', 8: '8', 9: '9'}"
      ]
     },
     "execution_count": 103,
     "metadata": {},
     "output_type": "execute_result"
    }
   ],
   "source": [
    "{i: str(i) for i in range(5, 10)}"
   ]
  },
  {
   "cell_type": "code",
   "execution_count": 104,
   "id": "compatible-width",
   "metadata": {},
   "outputs": [
    {
     "data": {
      "text/plain": [
       "{5, 6, 7, 8, 9}"
      ]
     },
     "execution_count": 104,
     "metadata": {},
     "output_type": "execute_result"
    }
   ],
   "source": [
    "{i for i in range(5, 10)}"
   ]
  },
  {
   "cell_type": "code",
   "execution_count": 107,
   "id": "copyrighted-toyota",
   "metadata": {},
   "outputs": [],
   "source": [
    "my_list = [1, 8, 27, 64, 125, 216]"
   ]
  },
  {
   "cell_type": "code",
   "execution_count": 108,
   "id": "neural-jacksonville",
   "metadata": {},
   "outputs": [
    {
     "data": {
      "text/plain": [
       "[1, 8, 27, 64, 125, 216]"
      ]
     },
     "execution_count": 108,
     "metadata": {},
     "output_type": "execute_result"
    }
   ],
   "source": [
    "my_list"
   ]
  },
  {
   "cell_type": "code",
   "execution_count": 109,
   "id": "sunset-shanghai",
   "metadata": {},
   "outputs": [
    {
     "data": {
      "text/plain": [
       "<generator object <genexpr> at 0x103635a50>"
      ]
     },
     "execution_count": 109,
     "metadata": {},
     "output_type": "execute_result"
    }
   ],
   "source": [
    "(i for i in my_list)"
   ]
  },
  {
   "cell_type": "code",
   "execution_count": 110,
   "id": "signed-aspect",
   "metadata": {},
   "outputs": [],
   "source": [
    "def process_numbers(list_of_numbers):\n",
    "    for number in list_of_numbers:\n",
    "        print(\"process number\", number)\n",
    "        yield number ** 10"
   ]
  },
  {
   "cell_type": "code",
   "execution_count": 112,
   "id": "sonic-intensity",
   "metadata": {},
   "outputs": [
    {
     "data": {
      "text/plain": [
       "<generator object process_numbers at 0x103635270>"
      ]
     },
     "execution_count": 112,
     "metadata": {},
     "output_type": "execute_result"
    }
   ],
   "source": [
    "process_numbers([1, 2, 5])"
   ]
  },
  {
   "cell_type": "code",
   "execution_count": 113,
   "id": "incorporated-monroe",
   "metadata": {},
   "outputs": [],
   "source": [
    "g = process_numbers(range(100))"
   ]
  },
  {
   "cell_type": "code",
   "execution_count": 114,
   "id": "sweet-atlanta",
   "metadata": {},
   "outputs": [
    {
     "data": {
      "text/plain": [
       "59049"
      ]
     },
     "execution_count": 114,
     "metadata": {},
     "output_type": "execute_result"
    }
   ],
   "source": [
    "3 ** 10"
   ]
  },
  {
   "cell_type": "code",
   "execution_count": 115,
   "id": "potential-twelve",
   "metadata": {},
   "outputs": [
    {
     "data": {
      "text/plain": [
       "1048576"
      ]
     },
     "execution_count": 115,
     "metadata": {},
     "output_type": "execute_result"
    }
   ],
   "source": [
    "4 ** 10"
   ]
  },
  {
   "cell_type": "code",
   "execution_count": 116,
   "id": "conceptual-cutting",
   "metadata": {},
   "outputs": [
    {
     "name": "stdout",
     "output_type": "stream",
     "text": [
      "process number 0\n",
      "result: 0\n",
      "process number 1\n",
      "result: 1\n",
      "process number 2\n",
      "result: 1024\n",
      "process number 3\n",
      "result: 59049\n",
      "process number 4\n",
      "result: 1048576\n"
     ]
    }
   ],
   "source": [
    "for num in g:\n",
    "    print('result:', num)\n",
    "    if num > 500_000:\n",
    "        break"
   ]
  },
  {
   "cell_type": "code",
   "execution_count": 117,
   "id": "aging-liechtenstein",
   "metadata": {},
   "outputs": [
    {
     "data": {
      "text/plain": [
       "<generator object <genexpr> at 0x103635f20>"
      ]
     },
     "execution_count": 117,
     "metadata": {},
     "output_type": "execute_result"
    }
   ],
   "source": [
    "(num ** 7 for num in range(100))"
   ]
  },
  {
   "cell_type": "code",
   "execution_count": 118,
   "id": "sudden-invitation",
   "metadata": {},
   "outputs": [
    {
     "name": "stdout",
     "output_type": "stream",
     "text": [
      "i 0\n",
      "i 1\n",
      "i 128\n",
      "i 2187\n",
      "i 16384\n",
      "i 78125\n",
      "i 279936\n",
      "i 823543\n",
      "i 2097152\n"
     ]
    }
   ],
   "source": [
    "for i in (num ** 7 for num in range(100)):\n",
    "    print('i', i)\n",
    "    if i > 2_000_000:\n",
    "        break"
   ]
  },
  {
   "cell_type": "code",
   "execution_count": 119,
   "id": "stuffed-prototype",
   "metadata": {},
   "outputs": [
    {
     "data": {
      "text/plain": [
       "<generator object process_numbers at 0x103635b30>"
      ]
     },
     "execution_count": 119,
     "metadata": {},
     "output_type": "execute_result"
    }
   ],
   "source": [
    "g"
   ]
  },
  {
   "cell_type": "code",
   "execution_count": 120,
   "id": "loaded-industry",
   "metadata": {},
   "outputs": [
    {
     "name": "stdout",
     "output_type": "stream",
     "text": [
      "process number 5\n"
     ]
    },
    {
     "data": {
      "text/plain": [
       "9765625"
      ]
     },
     "execution_count": 120,
     "metadata": {},
     "output_type": "execute_result"
    }
   ],
   "source": [
    "next(g)"
   ]
  },
  {
   "cell_type": "code",
   "execution_count": 121,
   "id": "statutory-terry",
   "metadata": {},
   "outputs": [
    {
     "name": "stdout",
     "output_type": "stream",
     "text": [
      "process number 6\n"
     ]
    },
    {
     "data": {
      "text/plain": [
       "60466176"
      ]
     },
     "execution_count": 121,
     "metadata": {},
     "output_type": "execute_result"
    }
   ],
   "source": [
    "next(g)"
   ]
  },
  {
   "cell_type": "code",
   "execution_count": 122,
   "id": "nearby-politics",
   "metadata": {},
   "outputs": [
    {
     "name": "stdout",
     "output_type": "stream",
     "text": [
      "process number 7\n"
     ]
    },
    {
     "data": {
      "text/plain": [
       "282475249"
      ]
     },
     "execution_count": 122,
     "metadata": {},
     "output_type": "execute_result"
    }
   ],
   "source": [
    "next(g)"
   ]
  },
  {
   "cell_type": "code",
   "execution_count": 123,
   "id": "indirect-divide",
   "metadata": {},
   "outputs": [
    {
     "data": {
      "text/plain": [
       "[1,\n",
       " 3,\n",
       " 5,\n",
       " 7,\n",
       " 9,\n",
       " 11,\n",
       " 13,\n",
       " 15,\n",
       " 17,\n",
       " 19,\n",
       " 21,\n",
       " 23,\n",
       " 25,\n",
       " 27,\n",
       " 29,\n",
       " 31,\n",
       " 33,\n",
       " 35,\n",
       " 37,\n",
       " 39,\n",
       " 41,\n",
       " 43,\n",
       " 45,\n",
       " 47,\n",
       " 49,\n",
       " 51,\n",
       " 53,\n",
       " 55,\n",
       " 57,\n",
       " 59,\n",
       " 61,\n",
       " 63,\n",
       " 65,\n",
       " 67,\n",
       " 69,\n",
       " 71,\n",
       " 73,\n",
       " 75,\n",
       " 77,\n",
       " 79,\n",
       " 81,\n",
       " 83,\n",
       " 85,\n",
       " 87,\n",
       " 89,\n",
       " 91,\n",
       " 93,\n",
       " 95,\n",
       " 97,\n",
       " 99]"
      ]
     },
     "execution_count": 123,
     "metadata": {},
     "output_type": "execute_result"
    }
   ],
   "source": [
    "[i for i in range(100) if i % 2 != 0]"
   ]
  },
  {
   "cell_type": "code",
   "execution_count": 124,
   "id": "forty-buyer",
   "metadata": {},
   "outputs": [
    {
     "name": "stdout",
     "output_type": "stream",
     "text": [
      "0\n",
      "1\n",
      "2\n"
     ]
    }
   ],
   "source": [
    "for elem in (i for i in range(3)):\n",
    "    print(elem)"
   ]
  },
  {
   "cell_type": "code",
   "execution_count": 125,
   "id": "offshore-arrow",
   "metadata": {},
   "outputs": [],
   "source": [
    "g = (i for i in range(3))"
   ]
  },
  {
   "cell_type": "code",
   "execution_count": 126,
   "id": "municipal-relay",
   "metadata": {},
   "outputs": [
    {
     "data": {
      "text/plain": [
       "0"
      ]
     },
     "execution_count": 126,
     "metadata": {},
     "output_type": "execute_result"
    }
   ],
   "source": [
    "next(g)"
   ]
  },
  {
   "cell_type": "code",
   "execution_count": 127,
   "id": "middle-arizona",
   "metadata": {},
   "outputs": [
    {
     "data": {
      "text/plain": [
       "1"
      ]
     },
     "execution_count": 127,
     "metadata": {},
     "output_type": "execute_result"
    }
   ],
   "source": [
    "next(g)"
   ]
  },
  {
   "cell_type": "code",
   "execution_count": 128,
   "id": "fifty-alarm",
   "metadata": {},
   "outputs": [
    {
     "data": {
      "text/plain": [
       "2"
      ]
     },
     "execution_count": 128,
     "metadata": {},
     "output_type": "execute_result"
    }
   ],
   "source": [
    "next(g)"
   ]
  },
  {
   "cell_type": "code",
   "execution_count": 129,
   "id": "colonial-newton",
   "metadata": {},
   "outputs": [
    {
     "ename": "StopIteration",
     "evalue": "",
     "output_type": "error",
     "traceback": [
      "\u001b[0;31m---------------------------------------------------------------------------\u001b[0m",
      "\u001b[0;31mStopIteration\u001b[0m                             Traceback (most recent call last)",
      "\u001b[0;32m<ipython-input-129-e734f8aca5ac>\u001b[0m in \u001b[0;36m<module>\u001b[0;34m\u001b[0m\n\u001b[0;32m----> 1\u001b[0;31m \u001b[0mnext\u001b[0m\u001b[0;34m(\u001b[0m\u001b[0mg\u001b[0m\u001b[0;34m)\u001b[0m\u001b[0;34m\u001b[0m\u001b[0;34m\u001b[0m\u001b[0m\n\u001b[0m",
      "\u001b[0;31mStopIteration\u001b[0m: "
     ]
    }
   ],
   "source": [
    "next(g)"
   ]
  },
  {
   "cell_type": "code",
   "execution_count": 130,
   "id": "unlikely-bermuda",
   "metadata": {},
   "outputs": [],
   "source": [
    "def process_nums(list_of_nums):\n",
    "    for num in list_of_nums:\n",
    "        print('process num', num)\n",
    "        yield (num, num ** 5)\n",
    "        print('after yield')"
   ]
  },
  {
   "cell_type": "code",
   "execution_count": 131,
   "id": "median-scientist",
   "metadata": {},
   "outputs": [],
   "source": [
    "g = process_nums(range(1, 3))"
   ]
  },
  {
   "cell_type": "code",
   "execution_count": 132,
   "id": "polish-township",
   "metadata": {},
   "outputs": [
    {
     "name": "stdout",
     "output_type": "stream",
     "text": [
      "process num 1\n"
     ]
    },
    {
     "data": {
      "text/plain": [
       "(1, 1)"
      ]
     },
     "execution_count": 132,
     "metadata": {},
     "output_type": "execute_result"
    }
   ],
   "source": [
    "next(g)"
   ]
  },
  {
   "cell_type": "code",
   "execution_count": 133,
   "id": "polished-funeral",
   "metadata": {},
   "outputs": [
    {
     "name": "stdout",
     "output_type": "stream",
     "text": [
      "after yield\n",
      "process num 2\n"
     ]
    },
    {
     "data": {
      "text/plain": [
       "(2, 32)"
      ]
     },
     "execution_count": 133,
     "metadata": {},
     "output_type": "execute_result"
    }
   ],
   "source": [
    "next(g)"
   ]
  },
  {
   "cell_type": "code",
   "execution_count": 134,
   "id": "historic-mountain",
   "metadata": {},
   "outputs": [
    {
     "name": "stdout",
     "output_type": "stream",
     "text": [
      "after yield\n"
     ]
    },
    {
     "ename": "StopIteration",
     "evalue": "",
     "output_type": "error",
     "traceback": [
      "\u001b[0;31m---------------------------------------------------------------------------\u001b[0m",
      "\u001b[0;31mStopIteration\u001b[0m                             Traceback (most recent call last)",
      "\u001b[0;32m<ipython-input-134-e734f8aca5ac>\u001b[0m in \u001b[0;36m<module>\u001b[0;34m\u001b[0m\n\u001b[0;32m----> 1\u001b[0;31m \u001b[0mnext\u001b[0m\u001b[0;34m(\u001b[0m\u001b[0mg\u001b[0m\u001b[0;34m)\u001b[0m\u001b[0;34m\u001b[0m\u001b[0;34m\u001b[0m\u001b[0m\n\u001b[0m",
      "\u001b[0;31mStopIteration\u001b[0m: "
     ]
    }
   ],
   "source": [
    "next(g)"
   ]
  },
  {
   "cell_type": "code",
   "execution_count": 135,
   "id": "devoted-subsection",
   "metadata": {},
   "outputs": [],
   "source": [
    "from time import time"
   ]
  },
  {
   "cell_type": "code",
   "execution_count": 136,
   "id": "textile-belize",
   "metadata": {},
   "outputs": [
    {
     "data": {
      "text/plain": [
       "1614967921.605136"
      ]
     },
     "execution_count": 136,
     "metadata": {},
     "output_type": "execute_result"
    }
   ],
   "source": [
    "time()"
   ]
  },
  {
   "cell_type": "code",
   "execution_count": 137,
   "id": "meaning-polls",
   "metadata": {},
   "outputs": [
    {
     "data": {
      "text/plain": [
       "1614967928.3283808"
      ]
     },
     "execution_count": 137,
     "metadata": {},
     "output_type": "execute_result"
    }
   ],
   "source": [
    "time()"
   ]
  },
  {
   "cell_type": "code",
   "execution_count": 138,
   "id": "sweet-specific",
   "metadata": {},
   "outputs": [
    {
     "data": {
      "text/plain": [
       "1614967981.765722"
      ]
     },
     "execution_count": 138,
     "metadata": {},
     "output_type": "execute_result"
    }
   ],
   "source": [
    "time()"
   ]
  },
  {
   "cell_type": "code",
   "execution_count": 139,
   "id": "accessible-housing",
   "metadata": {},
   "outputs": [],
   "source": [
    "def square_nums(nums):\n",
    "    start = time()\n",
    "    result = [num ** 2 for num in nums]\n",
    "    end = time()\n",
    "    print('time to complete:', end - start)\n",
    "    return result"
   ]
  },
  {
   "cell_type": "code",
   "execution_count": 140,
   "id": "entire-blade",
   "metadata": {},
   "outputs": [
    {
     "name": "stdout",
     "output_type": "stream",
     "text": [
      "time to complete: 3.0994415283203125e-06\n"
     ]
    },
    {
     "data": {
      "text/plain": [
       "[1, 4, 9]"
      ]
     },
     "execution_count": 140,
     "metadata": {},
     "output_type": "execute_result"
    }
   ],
   "source": [
    "square_nums([1, 2, 3])"
   ]
  },
  {
   "cell_type": "code",
   "execution_count": 141,
   "id": "raised-direction",
   "metadata": {},
   "outputs": [
    {
     "name": "stdout",
     "output_type": "stream",
     "text": [
      "time to complete: 4.76837158203125e-06\n"
     ]
    },
    {
     "data": {
      "text/plain": [
       "[25, 36, 49, 64]"
      ]
     },
     "execution_count": 141,
     "metadata": {},
     "output_type": "execute_result"
    }
   ],
   "source": [
    "square_nums(nums=[5, 6, 7, 8])"
   ]
  },
  {
   "cell_type": "code",
   "execution_count": 142,
   "id": "special-alarm",
   "metadata": {},
   "outputs": [],
   "source": [
    "def demo_func(*args, **kwargs):\n",
    "    print('args:', args)\n",
    "    print('kwargs:', kwargs)\n"
   ]
  },
  {
   "cell_type": "code",
   "execution_count": 143,
   "id": "dense-albania",
   "metadata": {},
   "outputs": [
    {
     "name": "stdout",
     "output_type": "stream",
     "text": [
      "args: ()\n",
      "kwargs: {}\n"
     ]
    }
   ],
   "source": [
    "demo_func()"
   ]
  },
  {
   "cell_type": "code",
   "execution_count": 144,
   "id": "sweet-preparation",
   "metadata": {},
   "outputs": [
    {
     "name": "stdout",
     "output_type": "stream",
     "text": [
      "args: (1, 2, 3)\n",
      "kwargs: {}\n"
     ]
    }
   ],
   "source": [
    "demo_func(1, 2, 3)"
   ]
  },
  {
   "cell_type": "code",
   "execution_count": 145,
   "id": "assigned-curve",
   "metadata": {},
   "outputs": [
    {
     "name": "stdout",
     "output_type": "stream",
     "text": [
      "args: ([1, 2, 3],)\n",
      "kwargs: {}\n"
     ]
    }
   ],
   "source": [
    "demo_func([1, 2, 3])"
   ]
  },
  {
   "cell_type": "code",
   "execution_count": 146,
   "id": "conceptual-prison",
   "metadata": {},
   "outputs": [
    {
     "name": "stdout",
     "output_type": "stream",
     "text": [
      "args: (1, 2, 3)\n",
      "kwargs: {'foo': 'bar', 'spam': 'eggs'}\n"
     ]
    }
   ],
   "source": [
    "demo_func(1, 2, 3, foo='bar', spam='eggs')"
   ]
  },
  {
   "cell_type": "code",
   "execution_count": 147,
   "id": "abstract-camel",
   "metadata": {},
   "outputs": [],
   "source": [
    "def square_nums(*nums):\n",
    "    return [i ** 2 for i in nums]"
   ]
  },
  {
   "cell_type": "code",
   "execution_count": 148,
   "id": "incoming-exhibition",
   "metadata": {},
   "outputs": [
    {
     "data": {
      "text/plain": [
       "[1, 4, 9]"
      ]
     },
     "execution_count": 148,
     "metadata": {},
     "output_type": "execute_result"
    }
   ],
   "source": [
    "square_nums(1, 2, 3)"
   ]
  },
  {
   "cell_type": "code",
   "execution_count": 149,
   "id": "celtic-andrews",
   "metadata": {},
   "outputs": [
    {
     "data": {
      "text/plain": [
       "[0, 1, 4, 9, 16, 25, 36, 49, 64, 81]"
      ]
     },
     "execution_count": 149,
     "metadata": {},
     "output_type": "execute_result"
    }
   ],
   "source": [
    "square_nums(*range(10))"
   ]
  },
  {
   "cell_type": "code",
   "execution_count": 150,
   "id": "amateur-windows",
   "metadata": {},
   "outputs": [
    {
     "data": {
      "text/plain": [
       "[0, 1, 2, 3, 4, 5, 6, 7, 8, 9]"
      ]
     },
     "execution_count": 150,
     "metadata": {},
     "output_type": "execute_result"
    }
   ],
   "source": [
    "[i for i in range(10)]"
   ]
  },
  {
   "cell_type": "code",
   "execution_count": 151,
   "id": "pending-worcester",
   "metadata": {},
   "outputs": [
    {
     "data": {
      "text/plain": [
       "[0, 1, 4, 9, 16, 25, 36, 49, 64, 81]"
      ]
     },
     "execution_count": 151,
     "metadata": {},
     "output_type": "execute_result"
    }
   ],
   "source": [
    "square_nums(0, 1, 2, 3, 4, 5, 6, 7, 8, 9)"
   ]
  },
  {
   "cell_type": "code",
   "execution_count": 156,
   "id": "level-reference",
   "metadata": {},
   "outputs": [],
   "source": [
    "def time_func(func):\n",
    "    def inner(*args, **kwargs):\n",
    "        print('processing with args', args, 'and kwargs', kwargs)\n",
    "        start = time()\n",
    "        result = func(*args, **kwargs)\n",
    "        end = time()\n",
    "        print('processed data with func', func, 'in', end - start)\n",
    "        return result\n",
    "    \n",
    "    return inner"
   ]
  },
  {
   "cell_type": "code",
   "execution_count": 157,
   "id": "junior-series",
   "metadata": {},
   "outputs": [],
   "source": [
    "f = time_func(square_nums)"
   ]
  },
  {
   "cell_type": "code",
   "execution_count": 158,
   "id": "tropical-strand",
   "metadata": {},
   "outputs": [
    {
     "data": {
      "text/plain": [
       "<function __main__.time_func.<locals>.inner(*args, **kwargs)>"
      ]
     },
     "execution_count": 158,
     "metadata": {},
     "output_type": "execute_result"
    }
   ],
   "source": [
    "f"
   ]
  },
  {
   "cell_type": "code",
   "execution_count": 159,
   "id": "homeless-utilization",
   "metadata": {},
   "outputs": [
    {
     "name": "stdout",
     "output_type": "stream",
     "text": [
      "processing with args (0, 1, 2, 3, 4, 5, 6, 7, 8, 9) and kwargs {}\n",
      "processed data with func <function square_nums at 0x1035e6430> in 1.0967254638671875e-05\n"
     ]
    },
    {
     "data": {
      "text/plain": [
       "[0, 1, 4, 9, 16, 25, 36, 49, 64, 81]"
      ]
     },
     "execution_count": 159,
     "metadata": {},
     "output_type": "execute_result"
    }
   ],
   "source": [
    "f(*range(10))"
   ]
  },
  {
   "cell_type": "code",
   "execution_count": 160,
   "id": "convertible-swedish",
   "metadata": {},
   "outputs": [],
   "source": [
    "@time_func\n",
    "def process_numbers(list_of_numbers, e=2):\n",
    "    return [i ** e for i in list_of_numbers]"
   ]
  },
  {
   "cell_type": "code",
   "execution_count": 161,
   "id": "center-outline",
   "metadata": {},
   "outputs": [
    {
     "name": "stdout",
     "output_type": "stream",
     "text": [
      "processing with args (range(2, 7), 9) and kwargs {}\n",
      "processed data with func <function process_numbers at 0x10355e4c0> in 8.106231689453125e-06\n"
     ]
    },
    {
     "data": {
      "text/plain": [
       "[512, 19683, 262144, 1953125, 10077696]"
      ]
     },
     "execution_count": 161,
     "metadata": {},
     "output_type": "execute_result"
    }
   ],
   "source": [
    "process_numbers(range(2, 7), 9)"
   ]
  },
  {
   "cell_type": "code",
   "execution_count": 162,
   "id": "australian-living",
   "metadata": {},
   "outputs": [
    {
     "name": "stdout",
     "output_type": "stream",
     "text": [
      "processing with args (range(2, 7),) and kwargs {'e': 9}\n",
      "processed data with func <function process_numbers at 0x10355e4c0> in 6.9141387939453125e-06\n"
     ]
    },
    {
     "data": {
      "text/plain": [
       "[512, 19683, 262144, 1953125, 10077696]"
      ]
     },
     "execution_count": 162,
     "metadata": {},
     "output_type": "execute_result"
    }
   ],
   "source": [
    "process_numbers(range(2, 7), e=9)"
   ]
  },
  {
   "cell_type": "code",
   "execution_count": 163,
   "id": "rotary-shaft",
   "metadata": {},
   "outputs": [],
   "source": [
    "from functools import wraps"
   ]
  },
  {
   "cell_type": "code",
   "execution_count": 164,
   "id": "demonstrated-spray",
   "metadata": {},
   "outputs": [],
   "source": [
    "def pretty_result(sep='-', count=10):\n",
    "    def decorator(func):\n",
    "        @wraps(func)\n",
    "        def inner(*args, **kwargs):\n",
    "            print(sep * count)\n",
    "            print('func:', func, 'args:', args, 'kwargs:', kwargs)\n",
    "            res = func(*args, **kwargs)\n",
    "            print('result:', res)\n",
    "            print(sep * count)\n",
    "            return res\n",
    "        \n",
    "        return inner\n",
    "    return decorator"
   ]
  },
  {
   "cell_type": "code",
   "execution_count": 166,
   "id": "closing-quilt",
   "metadata": {},
   "outputs": [],
   "source": [
    "@pretty_result(sep='*', count=20)\n",
    "def process_numbers(list_of_numbers, e=2):\n",
    "    return [i ** e for i in list_of_numbers]"
   ]
  },
  {
   "cell_type": "code",
   "execution_count": 167,
   "id": "outstanding-lease",
   "metadata": {},
   "outputs": [
    {
     "name": "stdout",
     "output_type": "stream",
     "text": [
      "********************\n",
      "func: <function process_numbers at 0x10355e4c0> args: (range(8, 15),) kwargs: {'e': 13}\n",
      "result: [549755813888, 2541865828329, 10000000000000, 34522712143931, 106993205379072, 302875106592253, 793714773254144]\n",
      "********************\n"
     ]
    },
    {
     "data": {
      "text/plain": [
       "[549755813888,\n",
       " 2541865828329,\n",
       " 10000000000000,\n",
       " 34522712143931,\n",
       " 106993205379072,\n",
       " 302875106592253,\n",
       " 793714773254144]"
      ]
     },
     "execution_count": 167,
     "metadata": {},
     "output_type": "execute_result"
    }
   ],
   "source": [
    "process_numbers(range(8, 15), e=13)"
   ]
  },
  {
   "cell_type": "code",
   "execution_count": 168,
   "id": "aging-button",
   "metadata": {},
   "outputs": [
    {
     "data": {
      "text/plain": [
       "<function __main__.process_numbers(list_of_numbers, e=2)>"
      ]
     },
     "execution_count": 168,
     "metadata": {},
     "output_type": "execute_result"
    }
   ],
   "source": [
    "process_numbers"
   ]
  },
  {
   "cell_type": "code",
   "execution_count": 169,
   "id": "pressing-essay",
   "metadata": {},
   "outputs": [
    {
     "data": {
      "text/plain": [
       "<map at 0x10363e430>"
      ]
     },
     "execution_count": 169,
     "metadata": {},
     "output_type": "execute_result"
    }
   ],
   "source": [
    "map(lambda x: x ** 2, [1, 3, 5, 7])"
   ]
  },
  {
   "cell_type": "code",
   "execution_count": 170,
   "id": "alleged-yukon",
   "metadata": {},
   "outputs": [],
   "source": [
    "g = map(lambda x: x ** 2, [1, 3, 5, 7])"
   ]
  },
  {
   "cell_type": "code",
   "execution_count": 171,
   "id": "abroad-estate",
   "metadata": {},
   "outputs": [
    {
     "data": {
      "text/plain": [
       "1"
      ]
     },
     "execution_count": 171,
     "metadata": {},
     "output_type": "execute_result"
    }
   ],
   "source": [
    "next(g)"
   ]
  },
  {
   "cell_type": "code",
   "execution_count": 172,
   "id": "continuous-affair",
   "metadata": {},
   "outputs": [
    {
     "data": {
      "text/plain": [
       "9"
      ]
     },
     "execution_count": 172,
     "metadata": {},
     "output_type": "execute_result"
    }
   ],
   "source": [
    "next(g)"
   ]
  },
  {
   "cell_type": "code",
   "execution_count": 173,
   "id": "christian-appendix",
   "metadata": {},
   "outputs": [
    {
     "name": "stdout",
     "output_type": "stream",
     "text": [
      "********************\n",
      "func: <function process_numbers at 0x10355e4c0> args: (range(1, 3),) kwargs: {}\n",
      "result: [1, 4]\n",
      "********************\n",
      "********************\n",
      "func: <function process_numbers at 0x10355e4c0> args: (range(4, 8),) kwargs: {}\n",
      "result: [16, 25, 36, 49]\n",
      "********************\n"
     ]
    },
    {
     "data": {
      "text/plain": [
       "[[1, 4], [16, 25, 36, 49]]"
      ]
     },
     "execution_count": 173,
     "metadata": {},
     "output_type": "execute_result"
    }
   ],
   "source": [
    "list(map(process_numbers, [range(1, 3), range(4, 8)]))"
   ]
  },
  {
   "cell_type": "code",
   "execution_count": 174,
   "id": "neutral-implement",
   "metadata": {},
   "outputs": [
    {
     "data": {
      "text/plain": [
       "<filter at 0x10363e610>"
      ]
     },
     "execution_count": 174,
     "metadata": {},
     "output_type": "execute_result"
    }
   ],
   "source": [
    "filter(lambda x: x % 2 != 0, range(1, 15))"
   ]
  },
  {
   "cell_type": "code",
   "execution_count": 175,
   "id": "liable-breakdown",
   "metadata": {},
   "outputs": [
    {
     "data": {
      "text/plain": [
       "[1, 3, 5, 7, 9, 11, 13]"
      ]
     },
     "execution_count": 175,
     "metadata": {},
     "output_type": "execute_result"
    }
   ],
   "source": [
    "list(filter(lambda x: x % 2 != 0, range(1, 15)))"
   ]
  },
  {
   "cell_type": "code",
   "execution_count": 176,
   "id": "distributed-number",
   "metadata": {},
   "outputs": [],
   "source": [
    "l = lambda x: x % 2 != 0"
   ]
  },
  {
   "cell_type": "code",
   "execution_count": 177,
   "id": "tropical-negotiation",
   "metadata": {},
   "outputs": [
    {
     "data": {
      "text/plain": [
       "<function __main__.<lambda>(x)>"
      ]
     },
     "execution_count": 177,
     "metadata": {},
     "output_type": "execute_result"
    }
   ],
   "source": [
    "l"
   ]
  },
  {
   "cell_type": "code",
   "execution_count": 178,
   "id": "broadband-hypothetical",
   "metadata": {},
   "outputs": [],
   "source": [
    "def is_odd(x):\n",
    "    return x % 2 != 0"
   ]
  },
  {
   "cell_type": "code",
   "execution_count": 179,
   "id": "steady-jacob",
   "metadata": {},
   "outputs": [
    {
     "data": {
      "text/plain": [
       "<function __main__.is_odd(x)>"
      ]
     },
     "execution_count": 179,
     "metadata": {},
     "output_type": "execute_result"
    }
   ],
   "source": [
    "is_odd"
   ]
  },
  {
   "cell_type": "code",
   "execution_count": 180,
   "id": "legendary-movement",
   "metadata": {},
   "outputs": [
    {
     "data": {
      "text/plain": [
       "True"
      ]
     },
     "execution_count": 180,
     "metadata": {},
     "output_type": "execute_result"
    }
   ],
   "source": [
    "l(11)"
   ]
  },
  {
   "cell_type": "code",
   "execution_count": 181,
   "id": "dangerous-municipality",
   "metadata": {},
   "outputs": [
    {
     "data": {
      "text/plain": [
       "True"
      ]
     },
     "execution_count": 181,
     "metadata": {},
     "output_type": "execute_result"
    }
   ],
   "source": [
    "is_odd(11)"
   ]
  },
  {
   "cell_type": "code",
   "execution_count": 182,
   "id": "nearby-printer",
   "metadata": {},
   "outputs": [],
   "source": [
    "def process_number_new(numbers, max_value=10_000):\n",
    "    for num in numbers:\n",
    "        if num > max_value:\n",
    "            return\n",
    "        yield num ** 5"
   ]
  },
  {
   "cell_type": "code",
   "execution_count": 183,
   "id": "excited-technique",
   "metadata": {},
   "outputs": [
    {
     "data": {
      "text/plain": [
       "[0, 1, 32, 243, 1024, 3125, 7776, 16807, 32768, 59049]"
      ]
     },
     "execution_count": 183,
     "metadata": {},
     "output_type": "execute_result"
    }
   ],
   "source": [
    "list(process_number_new(range(10)))"
   ]
  },
  {
   "cell_type": "code",
   "execution_count": 184,
   "id": "looking-vietnam",
   "metadata": {},
   "outputs": [
    {
     "data": {
      "text/plain": [
       "[99900039992000799968, 99950009999000049999, 100000000000000000000]"
      ]
     },
     "execution_count": 184,
     "metadata": {},
     "output_type": "execute_result"
    }
   ],
   "source": [
    "list(process_number_new(range(9998, 11_000)))"
   ]
  },
  {
   "cell_type": "code",
   "execution_count": 186,
   "id": "cutting-delaware",
   "metadata": {},
   "outputs": [],
   "source": [
    "def my_map(func, list_of_values):\n",
    "    return (func(value) for value in list_of_values)"
   ]
  },
  {
   "cell_type": "code",
   "execution_count": 187,
   "id": "operating-malta",
   "metadata": {},
   "outputs": [
    {
     "data": {
      "text/plain": [
       "<generator object my_map.<locals>.<genexpr> at 0x103654270>"
      ]
     },
     "execution_count": 187,
     "metadata": {},
     "output_type": "execute_result"
    }
   ],
   "source": [
    "my_map(process_numbers, [range(1, 3), range(4, 8)])"
   ]
  },
  {
   "cell_type": "code",
   "execution_count": 188,
   "id": "thick-extra",
   "metadata": {},
   "outputs": [
    {
     "name": "stdout",
     "output_type": "stream",
     "text": [
      "********************\n",
      "func: <function process_numbers at 0x10355e4c0> args: (range(1, 3),) kwargs: {}\n",
      "result: [1, 4]\n",
      "********************\n",
      "********************\n",
      "func: <function process_numbers at 0x10355e4c0> args: (range(4, 8),) kwargs: {}\n",
      "result: [16, 25, 36, 49]\n",
      "********************\n"
     ]
    },
    {
     "data": {
      "text/plain": [
       "[[1, 4], [16, 25, 36, 49]]"
      ]
     },
     "execution_count": 188,
     "metadata": {},
     "output_type": "execute_result"
    }
   ],
   "source": [
    "list(my_map(process_numbers, [range(1, 3), range(4, 8)]))"
   ]
  },
  {
   "cell_type": "code",
   "execution_count": 190,
   "id": "combined-abuse",
   "metadata": {},
   "outputs": [],
   "source": [
    "def my_filter(check_func, list_of_values):\n",
    "    return (check_func(value) for value in list_of_values)"
   ]
  },
  {
   "cell_type": "code",
   "execution_count": 191,
   "id": "honest-round",
   "metadata": {},
   "outputs": [
    {
     "data": {
      "text/plain": [
       "<generator object my_filter.<locals>.<genexpr> at 0x103654580>"
      ]
     },
     "execution_count": 191,
     "metadata": {},
     "output_type": "execute_result"
    }
   ],
   "source": [
    "my_filter(is_odd, range(1, 16))"
   ]
  },
  {
   "cell_type": "code",
   "execution_count": 192,
   "id": "hydraulic-syracuse",
   "metadata": {},
   "outputs": [
    {
     "data": {
      "text/plain": [
       "[True,\n",
       " False,\n",
       " True,\n",
       " False,\n",
       " True,\n",
       " False,\n",
       " True,\n",
       " False,\n",
       " True,\n",
       " False,\n",
       " True,\n",
       " False,\n",
       " True,\n",
       " False,\n",
       " True]"
      ]
     },
     "execution_count": 192,
     "metadata": {},
     "output_type": "execute_result"
    }
   ],
   "source": [
    "list(my_filter(is_odd, range(1, 16)))"
   ]
  },
  {
   "cell_type": "code",
   "execution_count": 193,
   "id": "detected-march",
   "metadata": {},
   "outputs": [],
   "source": [
    "def my_filter(check_func, list_of_values):\n",
    "    return (value for value in list_of_values if check_func(value))"
   ]
  },
  {
   "cell_type": "code",
   "execution_count": 194,
   "id": "sized-plymouth",
   "metadata": {},
   "outputs": [
    {
     "data": {
      "text/plain": [
       "[1, 3, 5, 7, 9, 11, 13, 15]"
      ]
     },
     "execution_count": 194,
     "metadata": {},
     "output_type": "execute_result"
    }
   ],
   "source": [
    "list(my_filter(is_odd, range(1, 16)))"
   ]
  },
  {
   "cell_type": "code",
   "execution_count": 195,
   "id": "legislative-budapest",
   "metadata": {},
   "outputs": [
    {
     "data": {
      "text/plain": [
       "[1, 3, 5, 7, 9, 11, 13]"
      ]
     },
     "execution_count": 195,
     "metadata": {},
     "output_type": "execute_result"
    }
   ],
   "source": [
    "list(filter(lambda x: x % 2 != 0, range(1, 15)))"
   ]
  },
  {
   "cell_type": "code",
   "execution_count": 196,
   "id": "closing-puzzle",
   "metadata": {},
   "outputs": [
    {
     "name": "stdout",
     "output_type": "stream",
     "text": [
      "********************\n",
      "func: <function process_numbers at 0x10355e4c0> args: (range(1, 3),) kwargs: {}\n",
      "result: [1, 4]\n",
      "********************\n",
      "********************\n",
      "func: <function process_numbers at 0x10355e4c0> args: (range(4, 8),) kwargs: {}\n",
      "result: [16, 25, 36, 49]\n",
      "********************\n"
     ]
    },
    {
     "data": {
      "text/plain": [
       "[[1, 4], [16, 25, 36, 49]]"
      ]
     },
     "execution_count": 196,
     "metadata": {},
     "output_type": "execute_result"
    }
   ],
   "source": [
    "list(map(process_numbers, [range(1, 3), range(4, 8)]))"
   ]
  },
  {
   "cell_type": "code",
   "execution_count": 197,
   "id": "changed-mason",
   "metadata": {},
   "outputs": [
    {
     "name": "stdout",
     "output_type": "stream",
     "text": [
      "********************\n",
      "func: <function process_numbers at 0x10355e4c0> args: (range(1, 3),) kwargs: {}\n",
      "result: [1, 4]\n",
      "********************\n",
      "********************\n",
      "func: <function process_numbers at 0x10355e4c0> args: (range(4, 8),) kwargs: {}\n",
      "result: [16, 25, 36, 49]\n",
      "********************\n"
     ]
    },
    {
     "data": {
      "text/plain": [
       "[[1, 4], [16, 25, 36, 49]]"
      ]
     },
     "execution_count": 197,
     "metadata": {},
     "output_type": "execute_result"
    }
   ],
   "source": [
    "list(my_map(process_numbers, [range(1, 3), range(4, 8)]))"
   ]
  },
  {
   "cell_type": "code",
   "execution_count": null,
   "id": "spatial-manitoba",
   "metadata": {},
   "outputs": [],
   "source": []
  }
 ],
 "metadata": {
  "kernelspec": {
   "display_name": "Python 3",
   "language": "python",
   "name": "python3"
  },
  "language_info": {
   "codemirror_mode": {
    "name": "ipython",
    "version": 3
   },
   "file_extension": ".py",
   "mimetype": "text/x-python",
   "name": "python",
   "nbconvert_exporter": "python",
   "pygments_lexer": "ipython3",
   "version": "3.9.1"
  }
 },
 "nbformat": 4,
 "nbformat_minor": 5
}
