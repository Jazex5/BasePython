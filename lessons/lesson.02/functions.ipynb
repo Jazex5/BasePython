{
 "cells": [
  {
   "cell_type": "code",
   "execution_count": 1,
   "id": "146d9cbc",
   "metadata": {},
   "outputs": [],
   "source": [
    "def just_print_hello():\n",
    "    print(\"hello\")"
   ]
  },
  {
   "cell_type": "code",
   "execution_count": 2,
   "id": "9c58ef74",
   "metadata": {},
   "outputs": [
    {
     "name": "stdout",
     "output_type": "stream",
     "text": [
      "hello\n"
     ]
    }
   ],
   "source": [
    "just_print_hello()"
   ]
  },
  {
   "cell_type": "code",
   "execution_count": 3,
   "id": "2ded210e",
   "metadata": {},
   "outputs": [
    {
     "data": {
      "text/plain": [
       "<function __main__.just_print_hello()>"
      ]
     },
     "execution_count": 3,
     "metadata": {},
     "output_type": "execute_result"
    }
   ],
   "source": [
    "just_print_hello"
   ]
  },
  {
   "cell_type": "code",
   "execution_count": 4,
   "id": "cf355191",
   "metadata": {},
   "outputs": [
    {
     "name": "stdout",
     "output_type": "stream",
     "text": [
      "Created function\n"
     ]
    }
   ],
   "source": [
    "def just_print_hello():\n",
    "    print(\"hello\")\n",
    "    print(\"hello again\")\n",
    "    res = 1 + 2\n",
    "    print(\"1 + 2 =\", res)\n",
    "\n",
    "print(\"Created function\")"
   ]
  },
  {
   "cell_type": "code",
   "execution_count": 5,
   "id": "d87f853b",
   "metadata": {},
   "outputs": [
    {
     "name": "stdout",
     "output_type": "stream",
     "text": [
      "hello\n",
      "hello again\n",
      "1 + 2 = 3\n"
     ]
    }
   ],
   "source": [
    "just_print_hello()"
   ]
  },
  {
   "cell_type": "code",
   "execution_count": 6,
   "id": "b84595f8",
   "metadata": {},
   "outputs": [
    {
     "name": "stdout",
     "output_type": "stream",
     "text": [
      "Hello John\n"
     ]
    }
   ],
   "source": [
    "name = \"John\"\n",
    "\n",
    "\n",
    "def greet():\n",
    "    print(\"Hello\", name)\n",
    "\n",
    "\n",
    "greet()"
   ]
  },
  {
   "cell_type": "code",
   "execution_count": 8,
   "id": "efb85840",
   "metadata": {},
   "outputs": [
    {
     "name": "stdout",
     "output_type": "stream",
     "text": [
      "Hello Sam\n"
     ]
    }
   ],
   "source": [
    "def greet(name):\n",
    "    print(\"Hello\", name)\n",
    "    \n",
    "\n",
    "greet(\"Sam\")"
   ]
  },
  {
   "cell_type": "code",
   "execution_count": 9,
   "id": "60ea2df1",
   "metadata": {},
   "outputs": [
    {
     "name": "stdout",
     "output_type": "stream",
     "text": [
      "John\n"
     ]
    }
   ],
   "source": [
    "print(name)"
   ]
  },
  {
   "cell_type": "code",
   "execution_count": 10,
   "id": "b4824f19",
   "metadata": {},
   "outputs": [
    {
     "ename": "TypeError",
     "evalue": "greet() missing 1 required positional argument: 'name'",
     "output_type": "error",
     "traceback": [
      "\u001b[0;31m---------------------------------------------------------------------------\u001b[0m",
      "\u001b[0;31mTypeError\u001b[0m                                 Traceback (most recent call last)",
      "\u001b[0;32m<ipython-input-10-db845682bfe7>\u001b[0m in \u001b[0;36m<module>\u001b[0;34m\u001b[0m\n\u001b[0;32m----> 1\u001b[0;31m \u001b[0mgreet\u001b[0m\u001b[0;34m(\u001b[0m\u001b[0;34m)\u001b[0m\u001b[0;34m\u001b[0m\u001b[0;34m\u001b[0m\u001b[0m\n\u001b[0m",
      "\u001b[0;31mTypeError\u001b[0m: greet() missing 1 required positional argument: 'name'"
     ]
    }
   ],
   "source": [
    "greet()"
   ]
  },
  {
   "cell_type": "code",
   "execution_count": 11,
   "id": "d80f7823",
   "metadata": {},
   "outputs": [
    {
     "name": "stdout",
     "output_type": "stream",
     "text": [
      "Hello None\n"
     ]
    }
   ],
   "source": [
    "greet(None)"
   ]
  },
  {
   "cell_type": "code",
   "execution_count": 12,
   "id": "0b82b7d1",
   "metadata": {},
   "outputs": [
    {
     "name": "stdout",
     "output_type": "stream",
     "text": [
      "Hello World\n",
      "Hello Ann\n",
      "John\n"
     ]
    }
   ],
   "source": [
    "def greet(name):\n",
    "    if name is None:\n",
    "        name = \"World\"\n",
    "    print(\"Hello\", name)\n",
    "    \n",
    "\n",
    "greet(None)\n",
    "greet(\"Ann\")\n",
    "print(name)"
   ]
  },
  {
   "cell_type": "code",
   "execution_count": 13,
   "id": "10b9c286",
   "metadata": {},
   "outputs": [
    {
     "name": "stdout",
     "output_type": "stream",
     "text": [
      "Hello World\n"
     ]
    }
   ],
   "source": [
    "def greet(name=\"World\"):\n",
    "    print(\"Hello\", name)\n",
    "    \n",
    "    \n",
    "greet()"
   ]
  },
  {
   "cell_type": "code",
   "execution_count": 14,
   "id": "37087668",
   "metadata": {},
   "outputs": [
    {
     "name": "stdout",
     "output_type": "stream",
     "text": [
      "Hello Nick\n"
     ]
    }
   ],
   "source": [
    "greet(\"Nick\")"
   ]
  },
  {
   "cell_type": "code",
   "execution_count": 15,
   "id": "340366f4",
   "metadata": {},
   "outputs": [
    {
     "name": "stdout",
     "output_type": "stream",
     "text": [
      "Hello None\n"
     ]
    }
   ],
   "source": [
    "greet(None)"
   ]
  },
  {
   "cell_type": "code",
   "execution_count": 17,
   "id": "e25c6d0a",
   "metadata": {},
   "outputs": [],
   "source": [
    "def only_odds(list_of_numbers):\n",
    "    for num in list_of_numbers:\n",
    "        print(num)"
   ]
  },
  {
   "cell_type": "code",
   "execution_count": 18,
   "id": "a3131068",
   "metadata": {},
   "outputs": [
    {
     "name": "stdout",
     "output_type": "stream",
     "text": [
      "1\n",
      "2\n",
      "3\n",
      "4\n",
      "5\n"
     ]
    }
   ],
   "source": [
    "only_odds([1, 2, 3, 4, 5])"
   ]
  },
  {
   "cell_type": "code",
   "execution_count": 19,
   "id": "c8389903",
   "metadata": {},
   "outputs": [
    {
     "name": "stdout",
     "output_type": "stream",
     "text": [
      "a\n",
      "b\n",
      "c\n",
      "d\n",
      "e\n",
      "f\n"
     ]
    }
   ],
   "source": [
    "only_odds(\"abcdef\")"
   ]
  },
  {
   "cell_type": "code",
   "execution_count": 20,
   "id": "1112ec9c",
   "metadata": {},
   "outputs": [],
   "source": [
    "def only_odds(list_of_numbers):\n",
    "    list_of_odds = []\n",
    "    for num in list_of_numbers:\n",
    "        if num % 2 != 0:\n",
    "            list_of_odds.append(num)\n",
    "    return list_of_odds"
   ]
  },
  {
   "cell_type": "code",
   "execution_count": 21,
   "id": "16c70f13",
   "metadata": {},
   "outputs": [
    {
     "name": "stdout",
     "output_type": "stream",
     "text": [
      "[1, 3, 5, 7, 9]\n"
     ]
    }
   ],
   "source": [
    "odds = only_odds([1, 2, 3, 4, 5, 6, 7, 8, 9])\n",
    "print(odds)"
   ]
  },
  {
   "cell_type": "code",
   "execution_count": 22,
   "id": "1c5cb07c",
   "metadata": {},
   "outputs": [
    {
     "name": "stdout",
     "output_type": "stream",
     "text": [
      "Hello James\n",
      "Result: None\n"
     ]
    }
   ],
   "source": [
    "res = greet(\"James\")\n",
    "print(\"Result:\", res)"
   ]
  },
  {
   "cell_type": "code",
   "execution_count": 23,
   "id": "3162194a",
   "metadata": {},
   "outputs": [
    {
     "name": "stdout",
     "output_type": "stream",
     "text": [
      "None\n"
     ]
    }
   ],
   "source": [
    "def empty_func():\n",
    "    pass\n",
    "\n",
    "empty_func()\n",
    "print(empty_func())"
   ]
  },
  {
   "cell_type": "code",
   "execution_count": 24,
   "id": "0ea09c75",
   "metadata": {},
   "outputs": [
    {
     "name": "stdout",
     "output_type": "stream",
     "text": [
      "None\n"
     ]
    }
   ],
   "source": [
    "def empty_func():\n",
    "    return\n",
    "\n",
    "empty_func()\n",
    "print(empty_func())"
   ]
  },
  {
   "cell_type": "code",
   "execution_count": 25,
   "id": "b253605a",
   "metadata": {},
   "outputs": [
    {
     "name": "stdout",
     "output_type": "stream",
     "text": [
      "Check num 1\n",
      "Check num 2\n",
      "Check num 3\n",
      "Check num 4\n",
      "Check num 5\n",
      "Check num 6\n",
      "Check num 7\n"
     ]
    },
    {
     "data": {
      "text/plain": [
       "7"
      ]
     },
     "execution_count": 25,
     "metadata": {},
     "output_type": "execute_result"
    }
   ],
   "source": [
    "def find_first_dividable(list_of_numbers, divider=7):\n",
    "    for num in list_of_numbers:\n",
    "        print(\"Check num\", num)\n",
    "        if num % divider == 0:\n",
    "            return num\n",
    "        \n",
    "\n",
    "find_first_dividable([1, 2, 3, 4, 5, 6, 7, 14, 21, 28])"
   ]
  },
  {
   "cell_type": "code",
   "execution_count": 26,
   "id": "976cee16",
   "metadata": {},
   "outputs": [
    {
     "name": "stdout",
     "output_type": "stream",
     "text": [
      "Check num 2\n",
      "Check num 5\n",
      "Check num 14\n"
     ]
    }
   ],
   "source": [
    "# find first number in list that divides by 7\n",
    "list_of_numbers = [2, 5, 14, 7, 21]\n",
    "divider = 7\n",
    "res = None\n",
    "for num in list_of_numbers:\n",
    "    print(\"Check num\", num)\n",
    "    if num % divider == 0:\n",
    "        res = num\n",
    "        break"
   ]
  },
  {
   "cell_type": "code",
   "execution_count": 27,
   "id": "b2d8ebc7",
   "metadata": {},
   "outputs": [
    {
     "name": "stdout",
     "output_type": "stream",
     "text": [
      "14\n"
     ]
    }
   ],
   "source": [
    "print(res)"
   ]
  },
  {
   "cell_type": "code",
   "execution_count": null,
   "id": "5b608419",
   "metadata": {},
   "outputs": [],
   "source": [
    "def init_database():\n",
    "    conn_uri = get_conn_uri()\n",
    "    conn = create_connection(conn_uri)\n",
    "    ...\n",
    "    create_schemas(conn)\n",
    "\n",
    "\n",
    "def main():\n",
    "    init_database()\n",
    "    create_superuser_if_not_exists(DEFAULT_EMAIL, DEFAULT_PASSWORD)\n",
    "    fetch_api_keys()\n",
    "    start_background_service()\n",
    "    start_web_server()"
   ]
  },
  {
   "cell_type": "code",
   "execution_count": 29,
   "id": "ccfd3eb2",
   "metadata": {},
   "outputs": [
    {
     "name": "stdout",
     "output_type": "stream",
     "text": [
      "['123', '5']\n",
      "v1 123 v2 5\n"
     ]
    }
   ],
   "source": [
    "a = \"123+5\"\n",
    "print(a.split(\"+\"))\n",
    "val1, val2 = a.split(\"+\")\n",
    "print(\"v1\", val1, \"v2\", val2)"
   ]
  },
  {
   "cell_type": "code",
   "execution_count": 30,
   "id": "82333019",
   "metadata": {},
   "outputs": [
    {
     "name": "stdout",
     "output_type": "stream",
     "text": [
      "128\n"
     ]
    }
   ],
   "source": [
    "result = int(val1) + int(val2)\n",
    "print(result)"
   ]
  },
  {
   "cell_type": "code",
   "execution_count": 32,
   "id": "0cc2dd2f",
   "metadata": {},
   "outputs": [
    {
     "name": "stdout",
     "output_type": "stream",
     "text": [
      "[2, 4, 6, 8]\n"
     ]
    }
   ],
   "source": [
    "list_of_nums = [1, 2, 3, 4, 5, 6, 7, 8, 9]\n",
    "list_of_evens = [num for num in list_of_nums if num % 2 == 0]\n",
    "print(list_of_evens)"
   ]
  },
  {
   "cell_type": "code",
   "execution_count": 33,
   "id": "046ee02f",
   "metadata": {},
   "outputs": [
    {
     "data": {
      "text/plain": [
       "range(0, 10)"
      ]
     },
     "execution_count": 33,
     "metadata": {},
     "output_type": "execute_result"
    }
   ],
   "source": [
    "range(10)"
   ]
  },
  {
   "cell_type": "code",
   "execution_count": 34,
   "id": "8077ab36",
   "metadata": {},
   "outputs": [
    {
     "data": {
      "text/plain": [
       "[0, 1, 2, 3, 4, 5, 6, 7, 8, 9]"
      ]
     },
     "execution_count": 34,
     "metadata": {},
     "output_type": "execute_result"
    }
   ],
   "source": [
    "list(range(10))"
   ]
  },
  {
   "cell_type": "code",
   "execution_count": 37,
   "id": "46d06d56",
   "metadata": {},
   "outputs": [
    {
     "name": "stdout",
     "output_type": "stream",
     "text": [
      "[0, 1, 8, 27, 64, 125, 216, 343, 512, 729]\n"
     ]
    }
   ],
   "source": [
    "list_of_cubes = [i ** 3 for i in range(10)]\n",
    "print(list_of_cubes)"
   ]
  },
  {
   "cell_type": "code",
   "execution_count": 38,
   "id": "2906f5f4",
   "metadata": {},
   "outputs": [
    {
     "name": "stdout",
     "output_type": "stream",
     "text": [
      "<generator object <genexpr> at 0x10785a970>\n"
     ]
    }
   ],
   "source": [
    "numbers_in_33 = (i ** 33 for i in range(10000))\n",
    "print(numbers_in_33)"
   ]
  },
  {
   "cell_type": "code",
   "execution_count": 39,
   "id": "e926ee15",
   "metadata": {},
   "outputs": [
    {
     "data": {
      "text/plain": [
       "0"
      ]
     },
     "execution_count": 39,
     "metadata": {},
     "output_type": "execute_result"
    }
   ],
   "source": [
    "next(numbers_in_33)"
   ]
  },
  {
   "cell_type": "code",
   "execution_count": 40,
   "id": "5ca1aa81",
   "metadata": {},
   "outputs": [
    {
     "data": {
      "text/plain": [
       "1"
      ]
     },
     "execution_count": 40,
     "metadata": {},
     "output_type": "execute_result"
    }
   ],
   "source": [
    "next(numbers_in_33)"
   ]
  },
  {
   "cell_type": "code",
   "execution_count": 41,
   "id": "f6232098",
   "metadata": {},
   "outputs": [
    {
     "data": {
      "text/plain": [
       "8589934592"
      ]
     },
     "execution_count": 41,
     "metadata": {},
     "output_type": "execute_result"
    }
   ],
   "source": [
    "next(numbers_in_33)"
   ]
  },
  {
   "cell_type": "code",
   "execution_count": 42,
   "id": "05f99e33",
   "metadata": {},
   "outputs": [
    {
     "data": {
      "text/plain": [
       "5559060566555523"
      ]
     },
     "execution_count": 42,
     "metadata": {},
     "output_type": "execute_result"
    }
   ],
   "source": [
    "next(numbers_in_33)"
   ]
  },
  {
   "cell_type": "code",
   "execution_count": 43,
   "id": "1f7c72d8",
   "metadata": {},
   "outputs": [
    {
     "name": "stdout",
     "output_type": "stream",
     "text": [
      "<generator object <genexpr> at 0x10785a970>\n"
     ]
    }
   ],
   "source": [
    "print(numbers_in_33)"
   ]
  },
  {
   "cell_type": "code",
   "execution_count": 44,
   "id": "23bc5346",
   "metadata": {},
   "outputs": [
    {
     "name": "stdout",
     "output_type": "stream",
     "text": [
      "Res: 10228002485134146241381280374109249758960280849505931520182943264767421410171229082417163676778371633\n"
     ]
    }
   ],
   "source": [
    "desired_min = 10 ** 100\n",
    "res = None\n",
    "for num in numbers_in_33:\n",
    "    if num > desired_min:\n",
    "        res = num\n",
    "        break\n",
    "        \n",
    "print(\"Res:\", res)"
   ]
  },
  {
   "cell_type": "code",
   "execution_count": 45,
   "id": "15c97cb5",
   "metadata": {},
   "outputs": [
    {
     "data": {
      "text/plain": [
       "10547299661040653885932054529712175025585978982594836429594780378599349538856271723178724964092084224"
      ]
     },
     "execution_count": 45,
     "metadata": {},
     "output_type": "execute_result"
    }
   ],
   "source": [
    "next(numbers_in_33)"
   ]
  },
  {
   "cell_type": "code",
   "execution_count": 46,
   "id": "061aec89",
   "metadata": {},
   "outputs": [
    {
     "data": {
      "text/plain": [
       "10876253472021108983682982545272805351833063665945413686533642383391651264901156537234783172607421875"
      ]
     },
     "execution_count": 46,
     "metadata": {},
     "output_type": "execute_result"
    }
   ],
   "source": [
    "next(numbers_in_33)"
   ]
  },
  {
   "cell_type": "code",
   "execution_count": 47,
   "id": "319e9fdb",
   "metadata": {},
   "outputs": [
    {
     "name": "stdout",
     "output_type": "stream",
     "text": [
      "finished without break\n"
     ]
    }
   ],
   "source": [
    "squares = (i ** 2 for i in range(5))\n",
    "for num in squares:\n",
    "    if num > 20:\n",
    "        print(\"num > 20\", num)\n",
    "        break\n",
    "else:\n",
    "    print(\"finished without break\")"
   ]
  },
  {
   "cell_type": "code",
   "execution_count": 48,
   "id": "d3ff2fc2",
   "metadata": {},
   "outputs": [
    {
     "ename": "StopIteration",
     "evalue": "",
     "output_type": "error",
     "traceback": [
      "\u001b[0;31m---------------------------------------------------------------------------\u001b[0m",
      "\u001b[0;31mStopIteration\u001b[0m                             Traceback (most recent call last)",
      "\u001b[0;32m<ipython-input-48-e7cf8d24b3b2>\u001b[0m in \u001b[0;36m<module>\u001b[0;34m\u001b[0m\n\u001b[0;32m----> 1\u001b[0;31m \u001b[0mnext\u001b[0m\u001b[0;34m(\u001b[0m\u001b[0msquares\u001b[0m\u001b[0;34m)\u001b[0m\u001b[0;34m\u001b[0m\u001b[0;34m\u001b[0m\u001b[0m\n\u001b[0m",
      "\u001b[0;31mStopIteration\u001b[0m: "
     ]
    }
   ],
   "source": [
    "next(squares)"
   ]
  },
  {
   "cell_type": "code",
   "execution_count": 50,
   "id": "c7d6d64a",
   "metadata": {},
   "outputs": [
    {
     "name": "stdout",
     "output_type": "stream",
     "text": [
      "<generator object <genexpr> at 0x1078620b0>\n",
      "num 0\n",
      "num 1\n",
      "num 2\n",
      "num 3\n",
      "num 4\n",
      "num 5\n",
      "num 6\n",
      "num 7\n",
      "num 8\n",
      "num 9\n",
      "[0, 1, 8, 27, 64, 125, 216, 343, 512, 729]\n"
     ]
    }
   ],
   "source": [
    "def make_cube(num):\n",
    "    print(\"num\", num)\n",
    "    return num ** 3\n",
    "\n",
    "\n",
    "cubes = (make_cube(i) for i in range(10))\n",
    "print(cubes)\n",
    "print(list(cubes))"
   ]
  },
  {
   "cell_type": "code",
   "execution_count": 51,
   "id": "94e57f8a",
   "metadata": {},
   "outputs": [
    {
     "name": "stdout",
     "output_type": "stream",
     "text": [
      "num 0\n",
      "0\n",
      "num 1\n",
      "1\n",
      "num 2\n",
      "8\n",
      "num 3\n",
      "num 4\n",
      "num 5\n",
      "num 6\n",
      "num 7\n",
      "num 8\n",
      "num 9\n",
      "[27, 64, 125, 216, 343, 512, 729]\n"
     ]
    }
   ],
   "source": [
    "cubes = (make_cube(i) for i in range(10))\n",
    "print(next(cubes))\n",
    "print(next(cubes))\n",
    "print(next(cubes))\n",
    "print(list(cubes))"
   ]
  },
  {
   "cell_type": "code",
   "execution_count": 53,
   "id": "0e19414f",
   "metadata": {},
   "outputs": [
    {
     "name": "stdout",
     "output_type": "stream",
     "text": [
      "<map object at 0x1076e82b0>\n",
      "num 0\n",
      "0\n",
      "num 1\n",
      "num 2\n",
      "num 3\n",
      "num 4\n",
      "num 5\n",
      "num 6\n",
      "num 7\n",
      "num 8\n",
      "num 9\n"
     ]
    },
    {
     "data": {
      "text/plain": [
       "[1, 8, 27, 64, 125, 216, 343, 512, 729]"
      ]
     },
     "execution_count": 53,
     "metadata": {},
     "output_type": "execute_result"
    }
   ],
   "source": [
    "cubes = map(make_cube, range(10))\n",
    "print(cubes)\n",
    "print(next(cubes))\n",
    "list(cubes)"
   ]
  },
  {
   "cell_type": "code",
   "execution_count": 54,
   "id": "b7ab1657",
   "metadata": {},
   "outputs": [
    {
     "name": "stdout",
     "output_type": "stream",
     "text": [
      "<generator object <genexpr> at 0x107866190>\n",
      "2\n",
      "[4, 6, 8]\n"
     ]
    }
   ],
   "source": [
    "list_of_nums = [1, 2, 3, 4, 5, 6, 7, 8, 9]\n",
    "evens = (num for num in list_of_nums if num % 2 == 0)\n",
    "print(evens)\n",
    "print(next(evens))\n",
    "print(list(evens))"
   ]
  },
  {
   "cell_type": "code",
   "execution_count": 55,
   "id": "f7507965",
   "metadata": {},
   "outputs": [
    {
     "name": "stdout",
     "output_type": "stream",
     "text": [
      "Hello\n"
     ]
    }
   ],
   "source": [
    "(lambda: print(\"Hello\"))()"
   ]
  },
  {
   "cell_type": "code",
   "execution_count": 56,
   "id": "23d8b0a0",
   "metadata": {},
   "outputs": [
    {
     "name": "stdout",
     "output_type": "stream",
     "text": [
      "<filter object at 0x1077927c0>\n",
      "0\n",
      "2\n",
      "4\n",
      "[6, 8, 10, 12]\n"
     ]
    }
   ],
   "source": [
    "evens = filter(lambda num: num % 2 == 0, range(13))\n",
    "print(evens)\n",
    "print(next(evens))\n",
    "print(next(evens))\n",
    "print(next(evens))\n",
    "print(list(evens))"
   ]
  },
  {
   "cell_type": "code",
   "execution_count": 59,
   "id": "7e110816",
   "metadata": {},
   "outputs": [
    {
     "name": "stdout",
     "output_type": "stream",
     "text": [
      "[0, 2, 4, 6, 8, 10, 12]\n"
     ]
    }
   ],
   "source": [
    "def is_even(num):\n",
    "    return num % 2 == 0\n",
    "\n",
    "evens = filter(is_even, range(13))\n",
    "print(list(evens))\n",
    " "
   ]
  },
  {
   "cell_type": "code",
   "execution_count": 60,
   "id": "f00081a6",
   "metadata": {},
   "outputs": [
    {
     "name": "stdout",
     "output_type": "stream",
     "text": [
      "process num 0\n",
      "0\n",
      "process num 1\n",
      "process num 2\n",
      "2\n",
      "process num 3\n",
      "process num 4\n",
      "4\n",
      "process num 5\n",
      "process num 6\n",
      "6\n",
      "process num 7\n",
      "process num 8\n",
      "8\n",
      "process num 9\n",
      "process num 10\n",
      "10\n"
     ]
    }
   ],
   "source": [
    "def is_even(num):\n",
    "    print(\"process num\", num)\n",
    "    return num % 2 == 0\n",
    "\n",
    "evens = filter(is_even, range(13))\n",
    "print(next(evens))\n",
    "print(next(evens))\n",
    "print(next(evens))\n",
    "print(next(evens))\n",
    "print(next(evens))\n",
    "print(next(evens))\n",
    "\n",
    " "
   ]
  },
  {
   "cell_type": "code",
   "execution_count": 61,
   "id": "3c575c81",
   "metadata": {},
   "outputs": [
    {
     "name": "stdout",
     "output_type": "stream",
     "text": [
      "[1, 2, 'data']\n",
      "[1, 2, 'data']\n"
     ]
    }
   ],
   "source": [
    "def add_user_data(data, list_of_data=[]):\n",
    "    list_of_data.append(data)\n",
    "    return list_of_data\n",
    "\n",
    "l = [1, 2]\n",
    "print(add_user_data(\"data\", l))\n",
    "print(l)"
   ]
  },
  {
   "cell_type": "code",
   "execution_count": 62,
   "id": "6f55e908",
   "metadata": {},
   "outputs": [
    {
     "name": "stdout",
     "output_type": "stream",
     "text": [
      "['data2']\n"
     ]
    }
   ],
   "source": [
    "new_data = add_user_data(\"data2\")\n",
    "print(new_data)"
   ]
  },
  {
   "cell_type": "code",
   "execution_count": 63,
   "id": "7aaea31d",
   "metadata": {},
   "outputs": [
    {
     "name": "stdout",
     "output_type": "stream",
     "text": [
      "['data2', 'user3 info']\n"
     ]
    }
   ],
   "source": [
    "new_data_again = add_user_data(\"user3 info\")\n",
    "print(new_data_again)"
   ]
  },
  {
   "cell_type": "code",
   "execution_count": 65,
   "id": "00b88467",
   "metadata": {},
   "outputs": [],
   "source": [
    "def add_user_data(data, list_of_data=None):\n",
    "    if list_of_data is None:\n",
    "        list_of_data = []\n",
    "    list_of_data.append(data)\n",
    "    return list_of_data"
   ]
  },
  {
   "cell_type": "code",
   "execution_count": 66,
   "id": "edc237ed",
   "metadata": {},
   "outputs": [
    {
     "name": "stdout",
     "output_type": "stream",
     "text": [
      "['user4 info']\n"
     ]
    }
   ],
   "source": [
    "new_data_again = add_user_data(\"user4 info\")\n",
    "print(new_data_again)"
   ]
  },
  {
   "cell_type": "code",
   "execution_count": 67,
   "id": "8bedb966",
   "metadata": {},
   "outputs": [
    {
     "name": "stdout",
     "output_type": "stream",
     "text": [
      "['user5 info']\n"
     ]
    }
   ],
   "source": [
    "new_data_again = add_user_data(\"user5 info\")\n",
    "print(new_data_again)"
   ]
  },
  {
   "cell_type": "code",
   "execution_count": 68,
   "id": "e661b4ac",
   "metadata": {},
   "outputs": [
    {
     "name": "stdout",
     "output_type": "stream",
     "text": [
      "{0: 0, 1: 1, 2: 8, 3: 27, 4: 64, 5: 125, 6: 216, 7: 343, 8: 512, 9: 729}\n"
     ]
    }
   ],
   "source": [
    "cubes = {i: i**3 for i in range(10)}\n",
    "print(cubes)"
   ]
  },
  {
   "cell_type": "code",
   "execution_count": null,
   "id": "cc837299",
   "metadata": {},
   "outputs": [],
   "source": []
  }
 ],
 "metadata": {
  "kernelspec": {
   "display_name": "Python 3",
   "language": "python",
   "name": "python3"
  },
  "language_info": {
   "codemirror_mode": {
    "name": "ipython",
    "version": 3
   },
   "file_extension": ".py",
   "mimetype": "text/x-python",
   "name": "python",
   "nbconvert_exporter": "python",
   "pygments_lexer": "ipython3",
   "version": "3.9.5"
  }
 },
 "nbformat": 4,
 "nbformat_minor": 5
}
