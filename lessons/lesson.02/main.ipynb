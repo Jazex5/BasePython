{
 "cells": [
  {
   "cell_type": "code",
   "execution_count": 1,
   "id": "51e1387c",
   "metadata": {},
   "outputs": [
    {
     "name": "stdout",
     "output_type": "stream",
     "text": [
      "hello world\n"
     ]
    }
   ],
   "source": [
    "print(\"hello world\")"
   ]
  },
  {
   "cell_type": "code",
   "execution_count": 2,
   "id": "d2573b13",
   "metadata": {},
   "outputs": [],
   "source": [
    "def show_hello():\n",
    "    print(\"hello!\")"
   ]
  },
  {
   "cell_type": "code",
   "execution_count": 3,
   "id": "6f64f35e",
   "metadata": {},
   "outputs": [
    {
     "data": {
      "text/plain": [
       "<function __main__.show_hello()>"
      ]
     },
     "execution_count": 3,
     "metadata": {},
     "output_type": "execute_result"
    }
   ],
   "source": [
    "show_hello"
   ]
  },
  {
   "cell_type": "code",
   "execution_count": 4,
   "id": "5880301a",
   "metadata": {},
   "outputs": [
    {
     "name": "stdout",
     "output_type": "stream",
     "text": [
      "hello!\n"
     ]
    }
   ],
   "source": [
    "show_hello()"
   ]
  },
  {
   "cell_type": "code",
   "execution_count": 5,
   "id": "10c6ee8b",
   "metadata": {},
   "outputs": [
    {
     "name": "stdout",
     "output_type": "stream",
     "text": [
      "hello!\n",
      "hello!\n"
     ]
    }
   ],
   "source": [
    "show_hello()\n",
    "show_hello()"
   ]
  },
  {
   "cell_type": "code",
   "execution_count": 6,
   "id": "4781f50a",
   "metadata": {},
   "outputs": [],
   "source": [
    "def print_some_sum():\n",
    "    print(\"hello sum func\")\n",
    "    result = 1 + 2\n",
    "    print(\"bye sum func\")\n",
    "    return result"
   ]
  },
  {
   "cell_type": "code",
   "execution_count": 7,
   "id": "4695ba33",
   "metadata": {},
   "outputs": [
    {
     "data": {
      "text/plain": [
       "<function __main__.print_some_sum()>"
      ]
     },
     "execution_count": 7,
     "metadata": {},
     "output_type": "execute_result"
    }
   ],
   "source": [
    "print_some_sum"
   ]
  },
  {
   "cell_type": "code",
   "execution_count": 8,
   "id": "5f50978e",
   "metadata": {},
   "outputs": [
    {
     "name": "stdout",
     "output_type": "stream",
     "text": [
      "hello sum func\n",
      "bye sum func\n"
     ]
    },
    {
     "data": {
      "text/plain": [
       "3"
      ]
     },
     "execution_count": 8,
     "metadata": {},
     "output_type": "execute_result"
    }
   ],
   "source": [
    "print_some_sum()"
   ]
  },
  {
   "cell_type": "code",
   "execution_count": 9,
   "id": "445166f5",
   "metadata": {},
   "outputs": [
    {
     "ename": "NameError",
     "evalue": "name 'result' is not defined",
     "output_type": "error",
     "traceback": [
      "\u001b[0;31m---------------------------------------------------------------------------\u001b[0m",
      "\u001b[0;31mNameError\u001b[0m                                 Traceback (most recent call last)",
      "\u001b[0;32m/var/folders/fj/49hkzfz15_zcq5jwvzbzk6fm0000gn/T/ipykernel_87173/1049141082.py\u001b[0m in \u001b[0;36m<module>\u001b[0;34m\u001b[0m\n\u001b[0;32m----> 1\u001b[0;31m \u001b[0mresult\u001b[0m\u001b[0;34m\u001b[0m\u001b[0;34m\u001b[0m\u001b[0m\n\u001b[0m",
      "\u001b[0;31mNameError\u001b[0m: name 'result' is not defined"
     ]
    }
   ],
   "source": [
    "result"
   ]
  },
  {
   "cell_type": "code",
   "execution_count": 10,
   "id": "beb3dfdd",
   "metadata": {},
   "outputs": [
    {
     "name": "stdout",
     "output_type": "stream",
     "text": [
      "hello sum func\n",
      "bye sum func\n"
     ]
    },
    {
     "data": {
      "text/plain": [
       "3"
      ]
     },
     "execution_count": 10,
     "metadata": {},
     "output_type": "execute_result"
    }
   ],
   "source": [
    "print_some_sum()"
   ]
  },
  {
   "cell_type": "code",
   "execution_count": 11,
   "id": "747713d8",
   "metadata": {},
   "outputs": [
    {
     "name": "stdout",
     "output_type": "stream",
     "text": [
      "hello sum func\n",
      "bye sum func\n"
     ]
    }
   ],
   "source": [
    "r = print_some_sum()"
   ]
  },
  {
   "cell_type": "code",
   "execution_count": 12,
   "id": "f09849c4",
   "metadata": {},
   "outputs": [
    {
     "data": {
      "text/plain": [
       "3"
      ]
     },
     "execution_count": 12,
     "metadata": {},
     "output_type": "execute_result"
    }
   ],
   "source": [
    "r"
   ]
  },
  {
   "cell_type": "code",
   "execution_count": 14,
   "id": "3008f716",
   "metadata": {},
   "outputs": [],
   "source": [
    "def min_func():\n",
    "    pass"
   ]
  },
  {
   "cell_type": "code",
   "execution_count": 15,
   "id": "95ae5fd8",
   "metadata": {},
   "outputs": [],
   "source": [
    "min_func()"
   ]
  },
  {
   "cell_type": "code",
   "execution_count": 16,
   "id": "aded2d4e",
   "metadata": {},
   "outputs": [
    {
     "name": "stdout",
     "output_type": "stream",
     "text": [
      "None\n"
     ]
    }
   ],
   "source": [
    "print(min_func())"
   ]
  },
  {
   "cell_type": "code",
   "execution_count": 17,
   "id": "7272f2ab",
   "metadata": {},
   "outputs": [],
   "source": [
    "None"
   ]
  },
  {
   "cell_type": "code",
   "execution_count": 18,
   "id": "75b2c551",
   "metadata": {},
   "outputs": [
    {
     "name": "stdout",
     "output_type": "stream",
     "text": [
      "None\n"
     ]
    }
   ],
   "source": [
    "print(None)"
   ]
  },
  {
   "cell_type": "code",
   "execution_count": 19,
   "id": "d5195d02",
   "metadata": {},
   "outputs": [
    {
     "data": {
      "text/plain": [
       "NoneType"
      ]
     },
     "execution_count": 19,
     "metadata": {},
     "output_type": "execute_result"
    }
   ],
   "source": [
    "type(None)"
   ]
  },
  {
   "cell_type": "code",
   "execution_count": 20,
   "id": "74a15677",
   "metadata": {},
   "outputs": [],
   "source": [
    "def hello(name):\n",
    "    print(\"Hello\", name)"
   ]
  },
  {
   "cell_type": "code",
   "execution_count": 21,
   "id": "43b03f7a",
   "metadata": {},
   "outputs": [
    {
     "name": "stdout",
     "output_type": "stream",
     "text": [
      "Hello world\n"
     ]
    }
   ],
   "source": [
    "hello(\"world\")"
   ]
  },
  {
   "cell_type": "code",
   "execution_count": 22,
   "id": "15309708",
   "metadata": {},
   "outputs": [
    {
     "name": "stdout",
     "output_type": "stream",
     "text": [
      "Hello Suren\n"
     ]
    }
   ],
   "source": [
    "hello(\"Suren\")"
   ]
  },
  {
   "cell_type": "code",
   "execution_count": 23,
   "id": "dc66e54d",
   "metadata": {},
   "outputs": [
    {
     "name": "stdout",
     "output_type": "stream",
     "text": [
      "Hello OTUS\n"
     ]
    }
   ],
   "source": [
    "hello(\"OTUS\")"
   ]
  },
  {
   "cell_type": "code",
   "execution_count": 24,
   "id": "2580d08f",
   "metadata": {},
   "outputs": [
    {
     "name": "stdout",
     "output_type": "stream",
     "text": [
      "Hello {1, 2, 3}\n"
     ]
    }
   ],
   "source": [
    "hello({1, 2, 3})"
   ]
  },
  {
   "cell_type": "code",
   "execution_count": 25,
   "id": "1e1d3fc5",
   "metadata": {},
   "outputs": [
    {
     "name": "stdout",
     "output_type": "stream",
     "text": [
      "Hello {'one': 1}\n"
     ]
    }
   ],
   "source": [
    "hello({\"one\": 1})"
   ]
  },
  {
   "cell_type": "code",
   "execution_count": 26,
   "id": "3c03efd3",
   "metadata": {},
   "outputs": [
    {
     "name": "stdout",
     "output_type": "stream",
     "text": [
      "1 2 3\n"
     ]
    }
   ],
   "source": [
    "print(1, 2, 3)"
   ]
  },
  {
   "cell_type": "code",
   "execution_count": 27,
   "id": "d56510ad",
   "metadata": {},
   "outputs": [
    {
     "name": "stdout",
     "output_type": "stream",
     "text": [
      "1 2 3\n"
     ]
    }
   ],
   "source": [
    "print(1,2,3)"
   ]
  },
  {
   "cell_type": "code",
   "execution_count": 28,
   "id": "d5998284",
   "metadata": {},
   "outputs": [
    {
     "name": "stdout",
     "output_type": "stream",
     "text": [
      "spam eggs\n"
     ]
    }
   ],
   "source": [
    "print(\"spam\",\"eggs\")"
   ]
  },
  {
   "cell_type": "code",
   "execution_count": 29,
   "id": "d84a192e",
   "metadata": {},
   "outputs": [
    {
     "name": "stdout",
     "output_type": "stream",
     "text": [
      "Help on built-in function print in module builtins:\n",
      "\n",
      "print(...)\n",
      "    print(value, ..., sep=' ', end='\\n', file=sys.stdout, flush=False)\n",
      "    \n",
      "    Prints the values to a stream, or to sys.stdout by default.\n",
      "    Optional keyword arguments:\n",
      "    file:  a file-like object (stream); defaults to the current sys.stdout.\n",
      "    sep:   string inserted between values, default a space.\n",
      "    end:   string appended after the last value, default a newline.\n",
      "    flush: whether to forcibly flush the stream.\n",
      "\n"
     ]
    }
   ],
   "source": [
    "help(print)"
   ]
  },
  {
   "cell_type": "code",
   "execution_count": 30,
   "id": "1c647885",
   "metadata": {},
   "outputs": [
    {
     "name": "stdout",
     "output_type": "stream",
     "text": [
      "1|2|3\n"
     ]
    }
   ],
   "source": [
    "print(1, 2, 3, sep=\"|\")"
   ]
  },
  {
   "cell_type": "code",
   "execution_count": 31,
   "id": "13d959d6",
   "metadata": {},
   "outputs": [],
   "source": [
    "def new_func():\n",
    "    print(\"lalal\")"
   ]
  },
  {
   "cell_type": "code",
   "execution_count": 32,
   "id": "d64b1430",
   "metadata": {},
   "outputs": [
    {
     "name": "stdout",
     "output_type": "stream",
     "text": [
      "lalal\n"
     ]
    }
   ],
   "source": [
    "new_func()"
   ]
  },
  {
   "cell_type": "code",
   "execution_count": 33,
   "id": "81cbf935",
   "metadata": {},
   "outputs": [
    {
     "name": "stdout",
     "output_type": "stream",
     "text": [
      "lalal\n",
      "None\n"
     ]
    }
   ],
   "source": [
    "print(new_func())"
   ]
  },
  {
   "cell_type": "code",
   "execution_count": 34,
   "id": "fc3a50af",
   "metadata": {},
   "outputs": [],
   "source": [
    "def new_func():\n",
    "    pass\n",
    "    pass\n",
    "    pass\n",
    "    pass\n",
    "    print(\"do nothing\")\n",
    "    pass\n",
    "    pass"
   ]
  },
  {
   "cell_type": "code",
   "execution_count": 35,
   "id": "e7be8ddb",
   "metadata": {},
   "outputs": [
    {
     "name": "stdout",
     "output_type": "stream",
     "text": [
      "do nothing\n"
     ]
    }
   ],
   "source": [
    "new_func()"
   ]
  },
  {
   "cell_type": "code",
   "execution_count": 36,
   "id": "025b5977",
   "metadata": {},
   "outputs": [
    {
     "name": "stdout",
     "output_type": "stream",
     "text": [
      "Help on function new_func in module __main__:\n",
      "\n",
      "new_func()\n",
      "\n"
     ]
    }
   ],
   "source": [
    "help(new_func)"
   ]
  },
  {
   "cell_type": "code",
   "execution_count": 37,
   "id": "10c3090f",
   "metadata": {},
   "outputs": [],
   "source": [
    "def documented_func():\n",
    "    \"\"\"\n",
    "    This func is documented\n",
    "    But it does nothing!\n",
    "    \n",
    "    usage: documented_func()\n",
    "    check help (this text): help(documented_func)\n",
    "    \"\"\""
   ]
  },
  {
   "cell_type": "code",
   "execution_count": 38,
   "id": "0e8c9da6",
   "metadata": {},
   "outputs": [
    {
     "data": {
      "text/plain": [
       "<function __main__.documented_func()>"
      ]
     },
     "execution_count": 38,
     "metadata": {},
     "output_type": "execute_result"
    }
   ],
   "source": [
    "documented_func"
   ]
  },
  {
   "cell_type": "code",
   "execution_count": 39,
   "id": "516e4fe0",
   "metadata": {},
   "outputs": [],
   "source": [
    "documented_func()"
   ]
  },
  {
   "cell_type": "code",
   "execution_count": 40,
   "id": "ebd1e3b7",
   "metadata": {},
   "outputs": [
    {
     "name": "stdout",
     "output_type": "stream",
     "text": [
      "None\n"
     ]
    }
   ],
   "source": [
    "print(documented_func())"
   ]
  },
  {
   "cell_type": "code",
   "execution_count": 41,
   "id": "a7bdc31d",
   "metadata": {},
   "outputs": [
    {
     "name": "stdout",
     "output_type": "stream",
     "text": [
      "Help on function documented_func in module __main__:\n",
      "\n",
      "documented_func()\n",
      "    This func is documented\n",
      "    But it does nothing!\n",
      "    \n",
      "    usage: documented_func()\n",
      "    check help (this text): help(documented_func)\n",
      "\n"
     ]
    }
   ],
   "source": [
    "help(documented_func)"
   ]
  },
  {
   "cell_type": "code",
   "execution_count": 42,
   "id": "74c955af",
   "metadata": {},
   "outputs": [],
   "source": [
    "def get_sum(a, b):\n",
    "    \"\"\"\n",
    "    This func sums a and b\n",
    "    \"\"\"\n",
    "    return a + b"
   ]
  },
  {
   "cell_type": "code",
   "execution_count": 43,
   "id": "a66f6369",
   "metadata": {},
   "outputs": [
    {
     "name": "stdout",
     "output_type": "stream",
     "text": [
      "Help on function get_sum in module __main__:\n",
      "\n",
      "get_sum(a, b)\n",
      "    This func sums a and b\n",
      "\n"
     ]
    }
   ],
   "source": [
    "help(get_sum)"
   ]
  },
  {
   "cell_type": "code",
   "execution_count": 44,
   "id": "a95025a1",
   "metadata": {},
   "outputs": [
    {
     "data": {
      "text/plain": [
       "6"
      ]
     },
     "execution_count": 44,
     "metadata": {},
     "output_type": "execute_result"
    }
   ],
   "source": [
    "get_sum(1, 5)"
   ]
  },
  {
   "cell_type": "code",
   "execution_count": 45,
   "id": "634ea192",
   "metadata": {},
   "outputs": [],
   "source": [
    "my_list = list(range(10))"
   ]
  },
  {
   "cell_type": "code",
   "execution_count": 46,
   "id": "ffbe9636",
   "metadata": {},
   "outputs": [
    {
     "data": {
      "text/plain": [
       "[0, 1, 2, 3, 4, 5, 6, 7, 8, 9]"
      ]
     },
     "execution_count": 46,
     "metadata": {},
     "output_type": "execute_result"
    }
   ],
   "source": [
    "my_list"
   ]
  },
  {
   "cell_type": "code",
   "execution_count": 47,
   "id": "4ef4d260",
   "metadata": {},
   "outputs": [
    {
     "data": {
      "text/plain": [
       "[0, 1, 2, 3, 4, 5, 6, 7, 8, 9, 10]"
      ]
     },
     "execution_count": 47,
     "metadata": {},
     "output_type": "execute_result"
    }
   ],
   "source": [
    "my_list.append(10)\n",
    "my_list"
   ]
  },
  {
   "cell_type": "code",
   "execution_count": 48,
   "id": "401c05e3",
   "metadata": {},
   "outputs": [
    {
     "name": "stdout",
     "output_type": "stream",
     "text": [
      "Help on built-in function append:\n",
      "\n",
      "append(object, /) method of builtins.list instance\n",
      "    Append object to the end of the list.\n",
      "\n"
     ]
    }
   ],
   "source": [
    "help(my_list.append)"
   ]
  },
  {
   "cell_type": "code",
   "execution_count": 49,
   "id": "32b2fdb7",
   "metadata": {},
   "outputs": [
    {
     "data": {
      "text/plain": [
       "9"
      ]
     },
     "execution_count": 49,
     "metadata": {},
     "output_type": "execute_result"
    }
   ],
   "source": [
    "get_sum(4, 5)"
   ]
  },
  {
   "cell_type": "code",
   "execution_count": 50,
   "id": "b7035a57",
   "metadata": {},
   "outputs": [
    {
     "data": {
      "text/plain": [
       "5"
      ]
     },
     "execution_count": 50,
     "metadata": {},
     "output_type": "execute_result"
    }
   ],
   "source": [
    "get_sum(a=3, b=2)"
   ]
  },
  {
   "cell_type": "code",
   "execution_count": 51,
   "id": "db29c525",
   "metadata": {},
   "outputs": [
    {
     "data": {
      "text/plain": [
       "11"
      ]
     },
     "execution_count": 51,
     "metadata": {},
     "output_type": "execute_result"
    }
   ],
   "source": [
    "get_sum(b=8, a=3)"
   ]
  },
  {
   "cell_type": "code",
   "execution_count": 52,
   "id": "66433155",
   "metadata": {},
   "outputs": [],
   "source": [
    "def hello_world(name=\"world\"):\n",
    "    print(\"Hello\", name)"
   ]
  },
  {
   "cell_type": "code",
   "execution_count": 53,
   "id": "fe1f0d33",
   "metadata": {},
   "outputs": [
    {
     "data": {
      "text/plain": [
       "<function __main__.hello_world(name='world')>"
      ]
     },
     "execution_count": 53,
     "metadata": {},
     "output_type": "execute_result"
    }
   ],
   "source": [
    "hello_world"
   ]
  },
  {
   "cell_type": "code",
   "execution_count": 54,
   "id": "c8a872dc",
   "metadata": {},
   "outputs": [
    {
     "name": "stdout",
     "output_type": "stream",
     "text": [
      "Help on function hello_world in module __main__:\n",
      "\n",
      "hello_world(name='world')\n",
      "\n"
     ]
    }
   ],
   "source": [
    "help(hello_world)"
   ]
  },
  {
   "cell_type": "code",
   "execution_count": 55,
   "id": "820c4add",
   "metadata": {},
   "outputs": [
    {
     "name": "stdout",
     "output_type": "stream",
     "text": [
      "Hello world\n"
     ]
    }
   ],
   "source": [
    "hello_world()"
   ]
  },
  {
   "cell_type": "code",
   "execution_count": 56,
   "id": "128431ab",
   "metadata": {},
   "outputs": [
    {
     "name": "stdout",
     "output_type": "stream",
     "text": [
      "Hello Suren\n"
     ]
    }
   ],
   "source": [
    "hello_world(\"Suren\")"
   ]
  },
  {
   "cell_type": "code",
   "execution_count": 57,
   "id": "d55bf5c1",
   "metadata": {},
   "outputs": [
    {
     "name": "stdout",
     "output_type": "stream",
     "text": [
      "Hello OTUS\n"
     ]
    }
   ],
   "source": [
    "hello_world(name=\"OTUS\")"
   ]
  },
  {
   "cell_type": "code",
   "execution_count": 58,
   "id": "e6e75438",
   "metadata": {},
   "outputs": [
    {
     "name": "stdout",
     "output_type": "stream",
     "text": [
      "Hello world\n"
     ]
    }
   ],
   "source": [
    "hello_world()"
   ]
  },
  {
   "cell_type": "code",
   "execution_count": 59,
   "id": "946e8caf",
   "metadata": {},
   "outputs": [
    {
     "name": "stdout",
     "output_type": "stream",
     "text": [
      "Hello None\n"
     ]
    }
   ],
   "source": [
    "hello_world(None)"
   ]
  },
  {
   "cell_type": "code",
   "execution_count": 60,
   "id": "c607c395",
   "metadata": {},
   "outputs": [
    {
     "name": "stdout",
     "output_type": "stream",
     "text": [
      "Hello world\n"
     ]
    }
   ],
   "source": [
    "hello_world()"
   ]
  },
  {
   "cell_type": "code",
   "execution_count": 61,
   "id": "0ccc6423",
   "metadata": {},
   "outputs": [],
   "source": [
    "def hello_world(name=None):\n",
    "    if name is None:\n",
    "        name = \"world\"\n",
    "    print(\"Hello\", name)"
   ]
  },
  {
   "cell_type": "code",
   "execution_count": 62,
   "id": "9f49cefa",
   "metadata": {},
   "outputs": [
    {
     "name": "stdout",
     "output_type": "stream",
     "text": [
      "Hello world\n"
     ]
    }
   ],
   "source": [
    "hello_world()"
   ]
  },
  {
   "cell_type": "code",
   "execution_count": 63,
   "id": "7ba818ea",
   "metadata": {},
   "outputs": [
    {
     "name": "stdout",
     "output_type": "stream",
     "text": [
      "Hello Suren\n"
     ]
    }
   ],
   "source": [
    "hello_world(\"Suren\")"
   ]
  },
  {
   "cell_type": "code",
   "execution_count": 64,
   "id": "6fec3959",
   "metadata": {},
   "outputs": [
    {
     "name": "stdout",
     "output_type": "stream",
     "text": [
      "Hello world\n"
     ]
    }
   ],
   "source": [
    "hello_world(None)"
   ]
  },
  {
   "cell_type": "code",
   "execution_count": 65,
   "id": "4568be07",
   "metadata": {},
   "outputs": [
    {
     "name": "stdout",
     "output_type": "stream",
     "text": [
      "['Москва', 'Анапа', 'Сочи', 'Санкт-Петербург']\n"
     ]
    }
   ],
   "source": [
    "cities = [\"Москва\", \"Анапа\", \"Сочи\", \"Санкт-Петербург\"]\n",
    "print(cities)"
   ]
  },
  {
   "cell_type": "code",
   "execution_count": 66,
   "id": "4c4250de",
   "metadata": {},
   "outputs": [
    {
     "name": "stdout",
     "output_type": "stream",
     "text": [
      "Москва\n",
      "Анапа\n",
      "Сочи\n",
      "Санкт-Петербург\n"
     ]
    }
   ],
   "source": [
    "for city in cities:\n",
    "    print(city)"
   ]
  },
  {
   "cell_type": "code",
   "execution_count": 68,
   "id": "e796d4b3",
   "metadata": {},
   "outputs": [
    {
     "name": "stdout",
     "output_type": "stream",
     "text": [
      "[[1, 2, 3, 4], [3, 4, 5, 6], [15, 13, 11, 9, 7, 5]]\n"
     ]
    }
   ],
   "source": [
    "lists_of_lists = [\n",
    "    list(range(1, 5)), \n",
    "    list(range(3, 7)), \n",
    "    list(range(15, 3, -2)),\n",
    "]\n",
    "print(lists_of_lists)"
   ]
  },
  {
   "cell_type": "code",
   "execution_count": 69,
   "id": "783a91b9",
   "metadata": {},
   "outputs": [
    {
     "name": "stdout",
     "output_type": "stream",
     "text": [
      "[1, 2, 3, 4]\n",
      "[3, 4, 5, 6]\n",
      "[15, 13, 11, 9, 7, 5]\n"
     ]
    }
   ],
   "source": [
    "for item in lists_of_lists:\n",
    "    print(item)"
   ]
  },
  {
   "cell_type": "code",
   "execution_count": 70,
   "id": "08bd450a",
   "metadata": {},
   "outputs": [
    {
     "name": "stdout",
     "output_type": "stream",
     "text": [
      "1\n",
      "2\n",
      "3\n",
      "4\n",
      "3\n",
      "4\n",
      "5\n",
      "6\n",
      "15\n",
      "13\n",
      "11\n",
      "9\n",
      "7\n",
      "5\n"
     ]
    }
   ],
   "source": [
    "for list_of_numbers in lists_of_lists:\n",
    "    for num in list_of_numbers:\n",
    "        print(num)"
   ]
  },
  {
   "cell_type": "code",
   "execution_count": 71,
   "id": "ba3dbac8",
   "metadata": {},
   "outputs": [
    {
     "data": {
      "text/plain": [
       "['Москва', 'Анапа', 'Сочи', 'Санкт-Петербург']"
      ]
     },
     "execution_count": 71,
     "metadata": {},
     "output_type": "execute_result"
    }
   ],
   "source": [
    "cities"
   ]
  },
  {
   "cell_type": "code",
   "execution_count": 72,
   "id": "ec5468cb",
   "metadata": {},
   "outputs": [
    {
     "name": "stdout",
     "output_type": "stream",
     "text": [
      "process city Москва\n",
      "go next iteration..\n",
      "process city Анапа\n",
      "go next iteration..\n",
      "process city Сочи\n",
      "go next iteration..\n",
      "process city Санкт-Петербург\n",
      "go next iteration..\n"
     ]
    }
   ],
   "source": [
    "for city in cities:\n",
    "    print(\"process city\", city)\n",
    "    print(\"go next iteration..\")"
   ]
  },
  {
   "cell_type": "code",
   "execution_count": 73,
   "id": "6bb5b8cc",
   "metadata": {},
   "outputs": [
    {
     "name": "stdout",
     "output_type": "stream",
     "text": [
      "process city Москва\n",
      "go next iteration..\n",
      "process city Анапа\n",
      "go next iteration..\n",
      "process city Сочи\n",
      "found city < 5 Сочи\n"
     ]
    }
   ],
   "source": [
    "for city in cities:\n",
    "    print(\"process city\", city)\n",
    "    if len(city) < 5:\n",
    "        print(\"found city < 5\", city)\n",
    "        break\n",
    "    print(\"go next iteration..\")"
   ]
  },
  {
   "cell_type": "code",
   "execution_count": 75,
   "id": "1774d91c",
   "metadata": {},
   "outputs": [
    {
     "name": "stdout",
     "output_type": "stream",
     "text": [
      "process list [1, 2, 3, 4]\n",
      "1\n",
      "2\n",
      "3\n",
      "4\n",
      "process list [3, 4, 5, 6]\n",
      "3\n",
      "4\n",
      "5\n",
      "6\n",
      "process list [15, 13, 11, 9, 7, 5]\n",
      "15\n"
     ]
    }
   ],
   "source": [
    "for list_of_numbers in lists_of_lists:\n",
    "    print(\"process list\", list_of_numbers)\n",
    "    for num in list_of_numbers:\n",
    "        print(num)\n",
    "        if num > 10:\n",
    "            break"
   ]
  },
  {
   "cell_type": "code",
   "execution_count": 77,
   "id": "0eaa7fab",
   "metadata": {},
   "outputs": [
    {
     "name": "stdout",
     "output_type": "stream",
     "text": [
      "process list [1, 2, 3, 4]\n",
      "1\n",
      "2\n",
      "3\n",
      "4\n",
      "process list [3, 4, 5, 6]\n",
      "3\n",
      "4\n",
      "5\n",
      "process list [15, 13, 11, 9, 7, 5]\n",
      "15\n",
      "13\n",
      "11\n",
      "9\n",
      "7\n",
      "5\n"
     ]
    }
   ],
   "source": [
    "for list_of_numbers in lists_of_lists:\n",
    "    print(\"process list\", list_of_numbers)\n",
    "    for num in list_of_numbers:\n",
    "        print(num)\n",
    "        if num == 5:\n",
    "            break"
   ]
  },
  {
   "cell_type": "code",
   "execution_count": 78,
   "id": "0ce61575",
   "metadata": {},
   "outputs": [],
   "source": [
    "def new_sequence_with(element, seq=[]):\n",
    "    seq.append(element)\n",
    "    return seq"
   ]
  },
  {
   "cell_type": "code",
   "execution_count": 79,
   "id": "bd5b7e87",
   "metadata": {},
   "outputs": [
    {
     "data": {
      "text/plain": [
       "[123, 456]"
      ]
     },
     "execution_count": 79,
     "metadata": {},
     "output_type": "execute_result"
    }
   ],
   "source": [
    "new_sequence_with(456, [123])"
   ]
  },
  {
   "cell_type": "code",
   "execution_count": 80,
   "id": "e7b15f45",
   "metadata": {},
   "outputs": [
    {
     "data": {
      "text/plain": [
       "['spam', 'eggs']"
      ]
     },
     "execution_count": 80,
     "metadata": {},
     "output_type": "execute_result"
    }
   ],
   "source": [
    "new_sequence_with(\"eggs\", [\"spam\"])"
   ]
  },
  {
   "cell_type": "code",
   "execution_count": 81,
   "id": "ff05d68d",
   "metadata": {},
   "outputs": [
    {
     "data": {
      "text/plain": [
       "['buzz']"
      ]
     },
     "execution_count": 81,
     "metadata": {},
     "output_type": "execute_result"
    }
   ],
   "source": [
    "new_sequence_with(\"buzz\")"
   ]
  },
  {
   "cell_type": "code",
   "execution_count": 82,
   "id": "deff70ac",
   "metadata": {},
   "outputs": [
    {
     "data": {
      "text/plain": [
       "['buzz', 'foo']"
      ]
     },
     "execution_count": 82,
     "metadata": {},
     "output_type": "execute_result"
    }
   ],
   "source": [
    "new_sequence_with(\"foo\")"
   ]
  },
  {
   "cell_type": "code",
   "execution_count": 83,
   "id": "0a4275cb",
   "metadata": {},
   "outputs": [
    {
     "data": {
      "text/plain": [
       "['buzz', 'foo', 'bar']"
      ]
     },
     "execution_count": 83,
     "metadata": {},
     "output_type": "execute_result"
    }
   ],
   "source": [
    "new_sequence_with(\"bar\")"
   ]
  },
  {
   "cell_type": "code",
   "execution_count": 84,
   "id": "17885022",
   "metadata": {},
   "outputs": [],
   "source": [
    "def new_seq_with(element, seq=None):\n",
    "    if seq is None:\n",
    "        seq = []\n",
    "    seq.append(element)\n",
    "    return seq"
   ]
  },
  {
   "cell_type": "code",
   "execution_count": 85,
   "id": "b1a9bcd7",
   "metadata": {},
   "outputs": [
    {
     "data": {
      "text/plain": [
       "[123, 456]"
      ]
     },
     "execution_count": 85,
     "metadata": {},
     "output_type": "execute_result"
    }
   ],
   "source": [
    "new_sequence_with(456, [123])"
   ]
  },
  {
   "cell_type": "code",
   "execution_count": 86,
   "id": "2802be9a",
   "metadata": {},
   "outputs": [
    {
     "data": {
      "text/plain": [
       "[123, 456]"
      ]
     },
     "execution_count": 86,
     "metadata": {},
     "output_type": "execute_result"
    }
   ],
   "source": [
    "new_seq_with(456, [123])"
   ]
  },
  {
   "cell_type": "code",
   "execution_count": 87,
   "id": "32680075",
   "metadata": {},
   "outputs": [
    {
     "data": {
      "text/plain": [
       "['qwe']"
      ]
     },
     "execution_count": 87,
     "metadata": {},
     "output_type": "execute_result"
    }
   ],
   "source": [
    "new_seq_with(\"qwe\")"
   ]
  },
  {
   "cell_type": "code",
   "execution_count": 88,
   "id": "0e089768",
   "metadata": {},
   "outputs": [
    {
     "data": {
      "text/plain": [
       "['foobar']"
      ]
     },
     "execution_count": 88,
     "metadata": {},
     "output_type": "execute_result"
    }
   ],
   "source": [
    "new_seq_with(\"foobar\")"
   ]
  },
  {
   "cell_type": "code",
   "execution_count": 89,
   "id": "b4fe863d",
   "metadata": {},
   "outputs": [
    {
     "data": {
      "text/plain": [
       "['abc', 'qwe']"
      ]
     },
     "execution_count": 89,
     "metadata": {},
     "output_type": "execute_result"
    }
   ],
   "source": [
    "new_seq_with(\"qwe\", [\"abc\"])"
   ]
  },
  {
   "cell_type": "code",
   "execution_count": 90,
   "id": "10fa3c68",
   "metadata": {},
   "outputs": [
    {
     "data": {
      "text/plain": [
       "[0, 1, 2, 3, 4, 5, 6, 7, 8, 9]"
      ]
     },
     "execution_count": 90,
     "metadata": {},
     "output_type": "execute_result"
    }
   ],
   "source": [
    "list(range(10))"
   ]
  },
  {
   "cell_type": "code",
   "execution_count": 92,
   "id": "dfb01164",
   "metadata": {},
   "outputs": [
    {
     "data": {
      "text/plain": [
       "['0', '1', '2', '3', '4', '5', '6', '7', '8', '9']"
      ]
     },
     "execution_count": 92,
     "metadata": {},
     "output_type": "execute_result"
    }
   ],
   "source": [
    "l_nums = list(range(10))\n",
    "l_strs = []\n",
    "for num in l_nums:\n",
    "    l_strs.append(str(num))\n",
    "\n",
    "l_strs"
   ]
  },
  {
   "cell_type": "code",
   "execution_count": 93,
   "id": "04179c18",
   "metadata": {},
   "outputs": [
    {
     "data": {
      "text/plain": [
       "[0, 1, 2, 3, 4, 5, 6, 7, 8, 9]"
      ]
     },
     "execution_count": 93,
     "metadata": {},
     "output_type": "execute_result"
    }
   ],
   "source": [
    "[i for i in range(10)]"
   ]
  },
  {
   "cell_type": "code",
   "execution_count": 94,
   "id": "cf0724d7",
   "metadata": {},
   "outputs": [
    {
     "data": {
      "text/plain": [
       "['0', '1', '2', '3', '4', '5', '6', '7', '8', '9']"
      ]
     },
     "execution_count": 94,
     "metadata": {},
     "output_type": "execute_result"
    }
   ],
   "source": [
    "[str(i) for i in range(10)]"
   ]
  },
  {
   "cell_type": "code",
   "execution_count": 95,
   "id": "02594354",
   "metadata": {},
   "outputs": [
    {
     "data": {
      "text/plain": [
       "['0', '2', '4', '6', '8']"
      ]
     },
     "execution_count": 95,
     "metadata": {},
     "output_type": "execute_result"
    }
   ],
   "source": [
    "[str(i) for i in range(10) if i % 2 == 0]"
   ]
  },
  {
   "cell_type": "code",
   "execution_count": 96,
   "id": "066641f6",
   "metadata": {},
   "outputs": [
    {
     "data": {
      "text/plain": [
       "[0, 2, 4, 6, 8]"
      ]
     },
     "execution_count": 96,
     "metadata": {},
     "output_type": "execute_result"
    }
   ],
   "source": [
    "list(range(0, 10, 2))"
   ]
  },
  {
   "cell_type": "code",
   "execution_count": 98,
   "id": "2aa3023f",
   "metadata": {},
   "outputs": [
    {
     "data": {
      "text/plain": [
       "['0', '2', '4', '6', '8']"
      ]
     },
     "execution_count": 98,
     "metadata": {},
     "output_type": "execute_result"
    }
   ],
   "source": [
    "[str(i) for i in range(10) if i % 2 == 0]"
   ]
  },
  {
   "cell_type": "code",
   "execution_count": 100,
   "id": "55846672",
   "metadata": {},
   "outputs": [
    {
     "data": {
      "text/plain": [
       "'Сочи'"
      ]
     },
     "execution_count": 100,
     "metadata": {},
     "output_type": "execute_result"
    }
   ],
   "source": [
    "city"
   ]
  },
  {
   "cell_type": "code",
   "execution_count": 101,
   "id": "64642430",
   "metadata": {},
   "outputs": [
    {
     "data": {
      "text/plain": [
       "'Vasya'"
      ]
     },
     "execution_count": 101,
     "metadata": {},
     "output_type": "execute_result"
    }
   ],
   "source": [
    "name = \"Vasya\" if city == \"Сочи\" else \"Petya\"\n",
    "name"
   ]
  },
  {
   "cell_type": "code",
   "execution_count": 102,
   "id": "3a8f1979",
   "metadata": {},
   "outputs": [
    {
     "data": {
      "text/plain": [
       "['0', 1, '2', 3, '4', 5, '6', 7, '8', 9]"
      ]
     },
     "execution_count": 102,
     "metadata": {},
     "output_type": "execute_result"
    }
   ],
   "source": [
    "[str(i) if i % 2 == 0 else i for i in range(10)]"
   ]
  },
  {
   "cell_type": "code",
   "execution_count": 103,
   "id": "c9aac5c3",
   "metadata": {},
   "outputs": [
    {
     "data": {
      "text/plain": [
       "[0, 1, 4, 27, 16, 125, 36, 343, 64, 729]"
      ]
     },
     "execution_count": 103,
     "metadata": {},
     "output_type": "execute_result"
    }
   ],
   "source": [
    "[i ** 2 if i % 2 == 0 else i ** 3 for i in range(10)]"
   ]
  },
  {
   "cell_type": "code",
   "execution_count": 104,
   "id": "3dbe6e62",
   "metadata": {},
   "outputs": [
    {
     "data": {
      "text/plain": [
       "{0: '0',\n",
       " 1: '1',\n",
       " 2: '2',\n",
       " 3: '3',\n",
       " 4: '4',\n",
       " 5: '5',\n",
       " 6: '6',\n",
       " 7: '7',\n",
       " 8: '8',\n",
       " 9: '9'}"
      ]
     },
     "execution_count": 104,
     "metadata": {},
     "output_type": "execute_result"
    }
   ],
   "source": [
    "{i: str(i) for i in range(10)}"
   ]
  },
  {
   "cell_type": "code",
   "execution_count": 106,
   "id": "4f8ee0f6",
   "metadata": {},
   "outputs": [
    {
     "data": {
      "text/plain": [
       "<generator object <genexpr> at 0x103cb0ac0>"
      ]
     },
     "execution_count": 106,
     "metadata": {},
     "output_type": "execute_result"
    }
   ],
   "source": [
    "(i for i in range(10))"
   ]
  },
  {
   "cell_type": "code",
   "execution_count": 107,
   "id": "8404dcbd",
   "metadata": {},
   "outputs": [
    {
     "data": {
      "text/plain": [
       "(0, 1, 2, 3, 4, 5, 6, 7, 8, 9)"
      ]
     },
     "execution_count": 107,
     "metadata": {},
     "output_type": "execute_result"
    }
   ],
   "source": [
    "tuple(i for i in range(10))"
   ]
  },
  {
   "cell_type": "code",
   "execution_count": 108,
   "id": "07f4d657",
   "metadata": {},
   "outputs": [],
   "source": [
    "def demo_process_all_numbers(*numbers):\n",
    "    for number in numbers:\n",
    "        print(number)"
   ]
  },
  {
   "cell_type": "code",
   "execution_count": 109,
   "id": "dd561552",
   "metadata": {},
   "outputs": [],
   "source": [
    "demo_process_all_numbers()"
   ]
  },
  {
   "cell_type": "code",
   "execution_count": 110,
   "id": "9a18bc49",
   "metadata": {},
   "outputs": [
    {
     "name": "stdout",
     "output_type": "stream",
     "text": [
      "1\n",
      "2\n"
     ]
    }
   ],
   "source": [
    "demo_process_all_numbers(1, 2)"
   ]
  },
  {
   "cell_type": "code",
   "execution_count": 111,
   "id": "1a0da49d",
   "metadata": {},
   "outputs": [
    {
     "name": "stdout",
     "output_type": "stream",
     "text": [
      "1\n"
     ]
    }
   ],
   "source": [
    "demo_process_all_numbers(1)"
   ]
  },
  {
   "cell_type": "code",
   "execution_count": 112,
   "id": "c60b82fe",
   "metadata": {},
   "outputs": [],
   "source": [
    "def power_numbers(*numbers, power=2):\n",
    "    return [number ** power for number in numbers]"
   ]
  },
  {
   "cell_type": "code",
   "execution_count": 113,
   "id": "9188c7a3",
   "metadata": {},
   "outputs": [
    {
     "data": {
      "text/plain": [
       "[1, 4]"
      ]
     },
     "execution_count": 113,
     "metadata": {},
     "output_type": "execute_result"
    }
   ],
   "source": [
    "power_numbers(1, 2)"
   ]
  },
  {
   "cell_type": "code",
   "execution_count": 114,
   "id": "dca9cc47",
   "metadata": {},
   "outputs": [
    {
     "data": {
      "text/plain": [
       "[4, 9, 25]"
      ]
     },
     "execution_count": 114,
     "metadata": {},
     "output_type": "execute_result"
    }
   ],
   "source": [
    "power_numbers(2, 3, 5)"
   ]
  },
  {
   "cell_type": "code",
   "execution_count": 115,
   "id": "3218d67f",
   "metadata": {},
   "outputs": [
    {
     "data": {
      "text/plain": [
       "[8, 27, 125]"
      ]
     },
     "execution_count": 115,
     "metadata": {},
     "output_type": "execute_result"
    }
   ],
   "source": [
    "power_numbers(2, 3, 5, power=3)"
   ]
  },
  {
   "cell_type": "code",
   "execution_count": 116,
   "id": "16670fc1",
   "metadata": {},
   "outputs": [
    {
     "data": {
      "text/plain": [
       "[]"
      ]
     },
     "execution_count": 116,
     "metadata": {},
     "output_type": "execute_result"
    }
   ],
   "source": [
    "power_numbers()"
   ]
  },
  {
   "cell_type": "code",
   "execution_count": 117,
   "id": "f51faf0e",
   "metadata": {},
   "outputs": [
    {
     "data": {
      "text/plain": [
       "[4]"
      ]
     },
     "execution_count": 117,
     "metadata": {},
     "output_type": "execute_result"
    }
   ],
   "source": [
    "power_numbers(2)"
   ]
  },
  {
   "cell_type": "code",
   "execution_count": 118,
   "id": "99c6658a",
   "metadata": {},
   "outputs": [
    {
     "data": {
      "text/plain": [
       "[0,\n",
       " 1,\n",
       " 2,\n",
       " 3,\n",
       " 4,\n",
       " 5,\n",
       " 6,\n",
       " 7,\n",
       " 8,\n",
       " 9,\n",
       " 10,\n",
       " 11,\n",
       " 12,\n",
       " 13,\n",
       " 14,\n",
       " 15,\n",
       " 16,\n",
       " 17,\n",
       " 18,\n",
       " 19,\n",
       " 20,\n",
       " 21,\n",
       " 22,\n",
       " 23,\n",
       " 24,\n",
       " 25,\n",
       " 26,\n",
       " 27,\n",
       " 28,\n",
       " 29,\n",
       " 30,\n",
       " 31,\n",
       " 32,\n",
       " 33,\n",
       " 34,\n",
       " 35,\n",
       " 36,\n",
       " 37,\n",
       " 38,\n",
       " 39,\n",
       " 40,\n",
       " 41,\n",
       " 42,\n",
       " 43,\n",
       " 44,\n",
       " 45,\n",
       " 46,\n",
       " 47,\n",
       " 48,\n",
       " 49,\n",
       " 50,\n",
       " 51,\n",
       " 52,\n",
       " 53,\n",
       " 54,\n",
       " 55,\n",
       " 56,\n",
       " 57,\n",
       " 58,\n",
       " 59,\n",
       " 60,\n",
       " 61,\n",
       " 62,\n",
       " 63,\n",
       " 64,\n",
       " 65,\n",
       " 66,\n",
       " 67,\n",
       " 68,\n",
       " 69,\n",
       " 70,\n",
       " 71,\n",
       " 72,\n",
       " 73,\n",
       " 74,\n",
       " 75,\n",
       " 76,\n",
       " 77,\n",
       " 78,\n",
       " 79,\n",
       " 80,\n",
       " 81,\n",
       " 82,\n",
       " 83,\n",
       " 84,\n",
       " 85,\n",
       " 86,\n",
       " 87,\n",
       " 88,\n",
       " 89,\n",
       " 90,\n",
       " 91,\n",
       " 92,\n",
       " 93,\n",
       " 94,\n",
       " 95,\n",
       " 96,\n",
       " 97,\n",
       " 98,\n",
       " 99]"
      ]
     },
     "execution_count": 118,
     "metadata": {},
     "output_type": "execute_result"
    }
   ],
   "source": [
    "list(range(100))"
   ]
  },
  {
   "cell_type": "code",
   "execution_count": 119,
   "id": "421a76df",
   "metadata": {},
   "outputs": [
    {
     "name": "stdout",
     "output_type": "stream",
     "text": [
      "[0, 1, 2, 3, 4, 5, 6, 7, 8, 9, 10, 11, 12, 13, 14, 15, 16, 17, 18, 19, 20, 21, 22, 23, 24, 25, 26, 27, 28, 29, 30, 31, 32, 33, 34, 35, 36, 37, 38, 39, 40, 41, 42, 43, 44, 45, 46, 47, 48, 49, 50, 51, 52, 53, 54, 55, 56, 57, 58, 59, 60, 61, 62, 63, 64, 65, 66, 67, 68, 69, 70, 71, 72, 73, 74, 75, 76, 77, 78, 79, 80, 81, 82, 83, 84, 85, 86, 87, 88, 89, 90, 91, 92, 93, 94, 95, 96, 97, 98, 99]\n"
     ]
    }
   ],
   "source": [
    "print(list(range(100)))"
   ]
  },
  {
   "cell_type": "code",
   "execution_count": 121,
   "id": "1ab0c723",
   "metadata": {},
   "outputs": [
    {
     "name": "stdout",
     "output_type": "stream",
     "text": [
      "[0, 1, 4, 9, 16, 25, 36, 49, 64, 81, 100, 121, 144, 169, 196, 225, 256, 289, 324, 361, 400, 441, 484, 529, 576, 625, 676, 729, 784, 841, 900, 961, 1024, 1089, 1156, 1225, 1296, 1369, 1444, 1521, 1600, 1681, 1764, 1849, 1936, 2025, 2116, 2209, 2304, 2401, 2500, 2601, 2704, 2809, 2916, 3025, 3136, 3249, 3364, 3481, 3600, 3721, 3844, 3969, 4096, 4225, 4356, 4489, 4624, 4761, 4900, 5041, 5184, 5329, 5476, 5625, 5776, 5929, 6084, 6241, 6400, 6561, 6724, 6889, 7056, 7225, 7396, 7569, 7744, 7921, 8100, 8281, 8464, 8649, 8836, 9025, 9216, 9409, 9604, 9801]\n"
     ]
    }
   ],
   "source": [
    "print(power_numbers(*range(100)))"
   ]
  },
  {
   "cell_type": "code",
   "execution_count": 122,
   "id": "7bd50846",
   "metadata": {},
   "outputs": [
    {
     "name": "stdout",
     "output_type": "stream",
     "text": [
      "[1, 4, 9, 16, 25]\n"
     ]
    }
   ],
   "source": [
    "nums = power_numbers(1,2,3,4,5)\n",
    "print(nums)"
   ]
  },
  {
   "cell_type": "code",
   "execution_count": 123,
   "id": "847a2b1a",
   "metadata": {},
   "outputs": [
    {
     "name": "stdout",
     "output_type": "stream",
     "text": [
      "[1, 64, 729, 4096, 15625]\n"
     ]
    }
   ],
   "source": [
    "print(power_numbers(*nums, power=3))"
   ]
  },
  {
   "cell_type": "code",
   "execution_count": 124,
   "id": "e1674ff1",
   "metadata": {},
   "outputs": [
    {
     "name": "stdout",
     "output_type": "stream",
     "text": [
      "[1, 8, 27]\n"
     ]
    }
   ],
   "source": [
    "print(power_numbers(*(1,2,3), power=3))"
   ]
  },
  {
   "cell_type": "code",
   "execution_count": 125,
   "id": "69f9e20b",
   "metadata": {},
   "outputs": [],
   "source": [
    "def show_all_kwargs(**kwargs):\n",
    "    print(\"process kwargs\", kwargs, \"(show them one-by-one)\")\n",
    "    for key, value in kwargs.items():\n",
    "        print(key, value)"
   ]
  },
  {
   "cell_type": "code",
   "execution_count": 126,
   "id": "ce738e7a",
   "metadata": {},
   "outputs": [
    {
     "name": "stdout",
     "output_type": "stream",
     "text": [
      "process kwargs {} (show them one-by-one)\n"
     ]
    }
   ],
   "source": [
    "show_all_kwargs()"
   ]
  },
  {
   "cell_type": "code",
   "execution_count": 127,
   "id": "8af6a9f9",
   "metadata": {},
   "outputs": [
    {
     "name": "stdout",
     "output_type": "stream",
     "text": [
      "process kwargs {'num': 1, 'nums': [1, 2, 3], 'foo': 'bar', 'spam': 'eggs', 'data': {'key': 'value'}} (show them one-by-one)\n",
      "num 1\n",
      "nums [1, 2, 3]\n",
      "foo bar\n",
      "spam eggs\n",
      "data {'key': 'value'}\n"
     ]
    }
   ],
   "source": [
    "show_all_kwargs(num=1, nums=[1,2,3], foo=\"bar\", spam=\"eggs\", data={\"key\": \"value\"})"
   ]
  },
  {
   "cell_type": "code",
   "execution_count": 128,
   "id": "e5524cd3",
   "metadata": {},
   "outputs": [
    {
     "name": "stdout",
     "output_type": "stream",
     "text": [
      "Help on function power_numbers in module __main__:\n",
      "\n",
      "power_numbers(*numbers, power=2)\n",
      "\n"
     ]
    }
   ],
   "source": [
    "help(power_numbers)"
   ]
  },
  {
   "cell_type": "code",
   "execution_count": 129,
   "id": "3e611298",
   "metadata": {},
   "outputs": [
    {
     "data": {
      "text/plain": [
       "<function __main__.get_sum(a, b)>"
      ]
     },
     "execution_count": 129,
     "metadata": {},
     "output_type": "execute_result"
    }
   ],
   "source": [
    "get_sum"
   ]
  },
  {
   "cell_type": "code",
   "execution_count": 130,
   "id": "a3c755d5",
   "metadata": {},
   "outputs": [
    {
     "name": "stdout",
     "output_type": "stream",
     "text": [
      "Help on function get_sum in module __main__:\n",
      "\n",
      "get_sum(a, b)\n",
      "    This func sums a and b\n",
      "\n"
     ]
    }
   ],
   "source": [
    "help(get_sum)"
   ]
  },
  {
   "cell_type": "code",
   "execution_count": 131,
   "id": "d8c49249",
   "metadata": {},
   "outputs": [
    {
     "data": {
      "text/plain": [
       "3"
      ]
     },
     "execution_count": 131,
     "metadata": {},
     "output_type": "execute_result"
    }
   ],
   "source": [
    "get_sum(a=1, b=2)"
   ]
  },
  {
   "cell_type": "code",
   "execution_count": 132,
   "id": "9e8267e2",
   "metadata": {},
   "outputs": [
    {
     "name": "stdout",
     "output_type": "stream",
     "text": [
      "Help on function show_all_kwargs in module __main__:\n",
      "\n",
      "show_all_kwargs(**kwargs)\n",
      "\n"
     ]
    }
   ],
   "source": [
    "help(show_all_kwargs)"
   ]
  },
  {
   "cell_type": "code",
   "execution_count": 133,
   "id": "1e8d022a",
   "metadata": {},
   "outputs": [],
   "source": [
    "def find_first_fizzbuzz(*numbers):\n",
    "    for number in numbers:\n",
    "        if number % 5 == 0 and number % 3 == 0:\n",
    "            return \"FizzBuzz\", number\n",
    "        if number % 5 == 0:\n",
    "            return \"Fizz\", number\n",
    "        if number % 3 == 0:\n",
    "            return \"Buzz\", number"
   ]
  },
  {
   "cell_type": "code",
   "execution_count": 134,
   "id": "26307e0c",
   "metadata": {},
   "outputs": [
    {
     "data": {
      "text/plain": [
       "('Buzz', 3)"
      ]
     },
     "execution_count": 134,
     "metadata": {},
     "output_type": "execute_result"
    }
   ],
   "source": [
    "find_first_fizzbuzz(1, 2, 3)"
   ]
  },
  {
   "cell_type": "code",
   "execution_count": 135,
   "id": "8298a813",
   "metadata": {},
   "outputs": [
    {
     "data": {
      "text/plain": [
       "('Buzz', 3)"
      ]
     },
     "execution_count": 135,
     "metadata": {},
     "output_type": "execute_result"
    }
   ],
   "source": [
    "find_first_fizzbuzz(1, 2, 3, 4, 5)"
   ]
  },
  {
   "cell_type": "code",
   "execution_count": 136,
   "id": "5ecdc6ff",
   "metadata": {},
   "outputs": [
    {
     "data": {
      "text/plain": [
       "('Fizz', 5)"
      ]
     },
     "execution_count": 136,
     "metadata": {},
     "output_type": "execute_result"
    }
   ],
   "source": [
    "find_first_fizzbuzz(1, 2, 5, 3)"
   ]
  },
  {
   "cell_type": "code",
   "execution_count": 137,
   "id": "7f6a65ee",
   "metadata": {},
   "outputs": [
    {
     "data": {
      "text/plain": [
       "('FizzBuzz', 15)"
      ]
     },
     "execution_count": 137,
     "metadata": {},
     "output_type": "execute_result"
    }
   ],
   "source": [
    "find_first_fizzbuzz(1, 2, 15, 5, 3)"
   ]
  },
  {
   "cell_type": "code",
   "execution_count": 138,
   "id": "2ae66d64",
   "metadata": {},
   "outputs": [
    {
     "data": {
      "text/plain": [
       "('FizzBuzz', 0)"
      ]
     },
     "execution_count": 138,
     "metadata": {},
     "output_type": "execute_result"
    }
   ],
   "source": [
    "find_first_fizzbuzz(*range(10))"
   ]
  },
  {
   "cell_type": "code",
   "execution_count": 139,
   "id": "b1ba8e09",
   "metadata": {},
   "outputs": [],
   "source": [
    "def find_first_fizzbuzz(*numbers):\n",
    "    for number in numbers:\n",
    "        if number == 0:\n",
    "            continue\n",
    "        if number % 5 == 0 and number % 3 == 0:\n",
    "            return \"FizzBuzz\", number\n",
    "        if number % 5 == 0:\n",
    "            return \"Fizz\", number\n",
    "        if number % 3 == 0:\n",
    "            return \"Buzz\", number"
   ]
  },
  {
   "cell_type": "code",
   "execution_count": 140,
   "id": "9177640a",
   "metadata": {},
   "outputs": [],
   "source": [
    "find_first_fizzbuzz(*range(3))"
   ]
  },
  {
   "cell_type": "code",
   "execution_count": 141,
   "id": "c0f48c7a",
   "metadata": {},
   "outputs": [
    {
     "data": {
      "text/plain": [
       "('Buzz', 3)"
      ]
     },
     "execution_count": 141,
     "metadata": {},
     "output_type": "execute_result"
    }
   ],
   "source": [
    "find_first_fizzbuzz(*range(4))"
   ]
  },
  {
   "cell_type": "code",
   "execution_count": 142,
   "id": "b5c9c981",
   "metadata": {},
   "outputs": [],
   "source": [
    "def find_first_fizzbuzz_all(*numbers):\n",
    "    for number in numbers:\n",
    "        if number == 0:\n",
    "            print(\"skip 0\")\n",
    "            continue\n",
    "        if number % 5 == 0 and number % 3 == 0:\n",
    "            print(\"FizzBuzz\", number)\n",
    "        if number % 5 == 0:\n",
    "            print(\"Fizz\", number)\n",
    "        if number % 3 == 0:\n",
    "            print(\"Buzz\", number)"
   ]
  },
  {
   "cell_type": "code",
   "execution_count": 143,
   "id": "34e81ace",
   "metadata": {},
   "outputs": [],
   "source": [
    "find_first_fizzbuzz_all()"
   ]
  },
  {
   "cell_type": "code",
   "execution_count": 145,
   "id": "a76115db",
   "metadata": {},
   "outputs": [
    {
     "name": "stdout",
     "output_type": "stream",
     "text": [
      "skip 0\n",
      "Buzz 3\n",
      "Buzz 6\n",
      "Buzz 9\n",
      "Buzz 12\n",
      "FizzBuzz 15\n",
      "Fizz 15\n",
      "Buzz 15\n",
      "Buzz 18\n",
      "Buzz 21\n",
      "Buzz 24\n",
      "Buzz 27\n",
      "FizzBuzz 30\n",
      "Fizz 30\n",
      "Buzz 30\n"
     ]
    }
   ],
   "source": [
    "find_first_fizzbuzz_all(*range(0, 31, 3))"
   ]
  },
  {
   "cell_type": "code",
   "execution_count": 146,
   "id": "c087e78f",
   "metadata": {},
   "outputs": [],
   "source": [
    "def find_first_fizzbuzz_all(*numbers):\n",
    "    for number in numbers:\n",
    "        if number == 0:\n",
    "            print(\"skip 0\")\n",
    "            continue\n",
    "        if number % 5 == 0 and number % 3 == 0:\n",
    "            print(\"FizzBuzz\", number)\n",
    "        elif number % 5 == 0:\n",
    "            print(\"Fizz\", number)\n",
    "        elif number % 3 == 0:\n",
    "            print(\"Buzz\", number)"
   ]
  },
  {
   "cell_type": "code",
   "execution_count": 147,
   "id": "d71e8efe",
   "metadata": {},
   "outputs": [
    {
     "name": "stdout",
     "output_type": "stream",
     "text": [
      "skip 0\n",
      "Buzz 3\n",
      "Buzz 6\n",
      "Buzz 9\n",
      "Buzz 12\n",
      "FizzBuzz 15\n",
      "Buzz 18\n",
      "Buzz 21\n",
      "Buzz 24\n",
      "Buzz 27\n",
      "FizzBuzz 30\n"
     ]
    }
   ],
   "source": [
    "find_first_fizzbuzz_all(*range(0, 31, 3))"
   ]
  },
  {
   "cell_type": "code",
   "execution_count": 148,
   "id": "a93c6638",
   "metadata": {},
   "outputs": [],
   "source": [
    "def find_first_fizzbuzz_all(*numbers):\n",
    "    for number in numbers:\n",
    "        if number == 0:\n",
    "            print(\"skip 0\")\n",
    "        if number % 5 == 0 and number % 3 == 0:\n",
    "            print(\"FizzBuzz\", number)\n",
    "        elif number % 5 == 0:\n",
    "            print(\"Fizz\", number)\n",
    "        elif number % 3 == 0:\n",
    "            print(\"Buzz\", number)"
   ]
  },
  {
   "cell_type": "code",
   "execution_count": 149,
   "id": "414b4213",
   "metadata": {},
   "outputs": [
    {
     "name": "stdout",
     "output_type": "stream",
     "text": [
      "skip 0\n",
      "FizzBuzz 0\n",
      "Buzz 3\n",
      "Buzz 6\n",
      "Buzz 9\n",
      "Buzz 12\n",
      "FizzBuzz 15\n"
     ]
    }
   ],
   "source": [
    "find_first_fizzbuzz_all(*range(0, 16, 3))"
   ]
  },
  {
   "cell_type": "code",
   "execution_count": 150,
   "id": "4e8c230c",
   "metadata": {},
   "outputs": [],
   "source": [
    "def find_first_fizzbuzz_with_pass_on_0(*numbers):\n",
    "    for number in numbers:\n",
    "        if number == 0:\n",
    "            print(\"not skipping 0\")\n",
    "            pass\n",
    "        if number % 5 == 0 and number % 3 == 0:\n",
    "            return \"FizzBuzz\", number\n",
    "        if number % 5 == 0:\n",
    "            return \"Fizz\", number\n",
    "        if number % 3 == 0:\n",
    "            return \"Buzz\", number"
   ]
  },
  {
   "cell_type": "code",
   "execution_count": 153,
   "id": "bebabe7a",
   "metadata": {},
   "outputs": [
    {
     "data": {
      "text/plain": [
       "('Buzz', 3)"
      ]
     },
     "execution_count": 153,
     "metadata": {},
     "output_type": "execute_result"
    }
   ],
   "source": [
    "find_first_fizzbuzz(0, 1, 2, 3, 5)"
   ]
  },
  {
   "cell_type": "code",
   "execution_count": 152,
   "id": "1319ccb8",
   "metadata": {},
   "outputs": [
    {
     "name": "stdout",
     "output_type": "stream",
     "text": [
      "not skipping 0\n"
     ]
    },
    {
     "data": {
      "text/plain": [
       "('FizzBuzz', 0)"
      ]
     },
     "execution_count": 152,
     "metadata": {},
     "output_type": "execute_result"
    }
   ],
   "source": [
    "find_first_fizzbuzz_with_pass_on_0(0, 1, 2)"
   ]
  },
  {
   "cell_type": "code",
   "execution_count": 154,
   "id": "24309627",
   "metadata": {},
   "outputs": [],
   "source": [
    "def find_elem_by_key(key, **some_data):\n",
    "    print(\"find key\", repr(key), \"in data\", some_data)\n",
    "    if key in some_data:\n",
    "        print(\"key found in data, returning value\")\n",
    "        return some_data[key]\n",
    "    print(\"key not found!\")"
   ]
  },
  {
   "cell_type": "code",
   "execution_count": 155,
   "id": "fc0b2c60",
   "metadata": {},
   "outputs": [
    {
     "name": "stdout",
     "output_type": "stream",
     "text": [
      "find key 'abc' in data {}\n",
      "key not found!\n"
     ]
    }
   ],
   "source": [
    "find_elem_by_key(\"abc\")"
   ]
  },
  {
   "cell_type": "code",
   "execution_count": 156,
   "id": "e7aea071",
   "metadata": {},
   "outputs": [
    {
     "data": {
      "text/plain": [
       "{'foo': 'bar', 'data': {'another': 'dict'}}"
      ]
     },
     "execution_count": 156,
     "metadata": {},
     "output_type": "execute_result"
    }
   ],
   "source": [
    "my_data = {\n",
    "    \"foo\": \"bar\",\n",
    "    \"data\": {\"another\": \"dict\"},\n",
    "}\n",
    "my_data"
   ]
  },
  {
   "cell_type": "code",
   "execution_count": 157,
   "id": "942109d5",
   "metadata": {},
   "outputs": [
    {
     "name": "stdout",
     "output_type": "stream",
     "text": [
      "find key 'spam' in data {'foo': 'bar', 'data': {'another': 'dict'}}\n",
      "key not found!\n"
     ]
    }
   ],
   "source": [
    "find_elem_by_key(\"spam\", **my_data)"
   ]
  },
  {
   "cell_type": "code",
   "execution_count": 158,
   "id": "43044731",
   "metadata": {},
   "outputs": [
    {
     "data": {
      "text/plain": [
       "{'foo': 'bar', 'data': {'another': 'dict'}, 'spam': 'eggs'}"
      ]
     },
     "execution_count": 158,
     "metadata": {},
     "output_type": "execute_result"
    }
   ],
   "source": [
    "my_data[\"spam\"] = \"eggs\"\n",
    "my_data"
   ]
  },
  {
   "cell_type": "code",
   "execution_count": 159,
   "id": "2dab45ab",
   "metadata": {},
   "outputs": [
    {
     "name": "stdout",
     "output_type": "stream",
     "text": [
      "find key 'spam' in data {'foo': 'bar', 'data': {'another': 'dict'}, 'spam': 'eggs'}\n",
      "key found in data, returning value\n"
     ]
    },
    {
     "data": {
      "text/plain": [
       "'eggs'"
      ]
     },
     "execution_count": 159,
     "metadata": {},
     "output_type": "execute_result"
    }
   ],
   "source": [
    "find_elem_by_key(\"spam\", **my_data)"
   ]
  },
  {
   "cell_type": "code",
   "execution_count": 160,
   "id": "6f68fcab",
   "metadata": {},
   "outputs": [
    {
     "data": {
      "text/plain": [
       "{'foo': 'bar', 'data': {'another': 'dict'}, 'spam': 'eggs'}"
      ]
     },
     "execution_count": 160,
     "metadata": {},
     "output_type": "execute_result"
    }
   ],
   "source": [
    "my_data"
   ]
  },
  {
   "cell_type": "code",
   "execution_count": 161,
   "id": "d954f709",
   "metadata": {},
   "outputs": [
    {
     "data": {
      "text/plain": [
       "{'foo': 'bar', 'data': {'another': 'dict'}, 'spam': 'eggs', 'key': 'spam'}"
      ]
     },
     "execution_count": 161,
     "metadata": {},
     "output_type": "execute_result"
    }
   ],
   "source": [
    "my_data[\"key\"] = \"spam\"\n",
    "my_data"
   ]
  },
  {
   "cell_type": "code",
   "execution_count": 162,
   "id": "d61f9070",
   "metadata": {},
   "outputs": [
    {
     "name": "stdout",
     "output_type": "stream",
     "text": [
      "find key 'spam' in data {'foo': 'bar', 'data': {'another': 'dict'}, 'spam': 'eggs'}\n",
      "key found in data, returning value\n"
     ]
    },
    {
     "data": {
      "text/plain": [
       "'eggs'"
      ]
     },
     "execution_count": 162,
     "metadata": {},
     "output_type": "execute_result"
    }
   ],
   "source": [
    "find_elem_by_key(**my_data)"
   ]
  },
  {
   "cell_type": "code",
   "execution_count": 164,
   "id": "734a720f",
   "metadata": {},
   "outputs": [],
   "source": [
    "def monster(v1, v2, *args, key, **kwargs):\n",
    "    print(\"v1:\", v1)\n",
    "    print(\"v2:\", v2)\n",
    "    print(\"key:\", key)\n",
    "    print(\"args:\", args)\n",
    "    print(\"kwargs:\", kwargs)"
   ]
  },
  {
   "cell_type": "code",
   "execution_count": 165,
   "id": "d2471336",
   "metadata": {},
   "outputs": [
    {
     "name": "stdout",
     "output_type": "stream",
     "text": [
      "v1: value 1\n",
      "v2: ['value2']\n",
      "key: spam\n",
      "args: (1, 2, 10, 8, 6)\n",
      "kwargs: {'foo': 'bar', 'data': {'another': 'dict'}, 'spam': 'eggs'}\n"
     ]
    }
   ],
   "source": [
    "monster(\n",
    "    \"value 1\", \n",
    "    [\"value2\"], \n",
    "    *range(1, 3), \n",
    "    *range(10, 5, -2),\n",
    "    **my_data,\n",
    ")"
   ]
  },
  {
   "cell_type": "code",
   "execution_count": 166,
   "id": "9915c046",
   "metadata": {},
   "outputs": [
    {
     "data": {
      "text/plain": [
       "{'foo': 'bar', 'data': {'another': 'dict'}, 'spam': 'eggs', 'key': 'spam'}"
      ]
     },
     "execution_count": 166,
     "metadata": {},
     "output_type": "execute_result"
    }
   ],
   "source": [
    "my_data"
   ]
  },
  {
   "cell_type": "code",
   "execution_count": 167,
   "id": "03423b18",
   "metadata": {},
   "outputs": [
    {
     "data": {
      "text/plain": [
       "3"
      ]
     },
     "execution_count": 167,
     "metadata": {},
     "output_type": "execute_result"
    }
   ],
   "source": [
    "get_sum(a=1, b=2)"
   ]
  },
  {
   "cell_type": "code",
   "execution_count": 168,
   "id": "f07514d6",
   "metadata": {},
   "outputs": [
    {
     "data": {
      "text/plain": [
       "9"
      ]
     },
     "execution_count": 168,
     "metadata": {},
     "output_type": "execute_result"
    }
   ],
   "source": [
    "data_for_sum = {\n",
    "    \"a\": 5,\n",
    "    \"b\": 4,\n",
    "}\n",
    "get_sum(**data_for_sum)"
   ]
  },
  {
   "cell_type": "code",
   "execution_count": 169,
   "id": "261ce034",
   "metadata": {
    "scrolled": true
   },
   "outputs": [
    {
     "name": "stdout",
     "output_type": "stream",
     "text": [
      "abc\n"
     ]
    }
   ],
   "source": [
    "print(\"abc\")"
   ]
  },
  {
   "cell_type": "code",
   "execution_count": 170,
   "id": "d7fb5efe",
   "metadata": {},
   "outputs": [
    {
     "data": {
      "text/plain": [
       "'abc'"
      ]
     },
     "execution_count": 170,
     "metadata": {},
     "output_type": "execute_result"
    }
   ],
   "source": [
    "\"abc\""
   ]
  },
  {
   "cell_type": "code",
   "execution_count": 171,
   "id": "b6693c62",
   "metadata": {},
   "outputs": [
    {
     "name": "stdout",
     "output_type": "stream",
     "text": [
      "'abc'\n"
     ]
    }
   ],
   "source": [
    "print(repr(\"abc\"))"
   ]
  },
  {
   "cell_type": "code",
   "execution_count": 172,
   "id": "ac890fe7",
   "metadata": {},
   "outputs": [
    {
     "data": {
      "text/plain": [
       "\"'abc'\""
      ]
     },
     "execution_count": 172,
     "metadata": {},
     "output_type": "execute_result"
    }
   ],
   "source": [
    "repr(\"abc\")"
   ]
  },
  {
   "cell_type": "code",
   "execution_count": 173,
   "id": "589f723a",
   "metadata": {},
   "outputs": [
    {
     "data": {
      "text/plain": [
       "['0', '1', '2', '3', '4']"
      ]
     },
     "execution_count": 173,
     "metadata": {},
     "output_type": "execute_result"
    }
   ],
   "source": [
    "[str(i) for i in range(5)]"
   ]
  },
  {
   "cell_type": "code",
   "execution_count": 174,
   "id": "24cf0d77",
   "metadata": {},
   "outputs": [
    {
     "data": {
      "text/plain": [
       "map"
      ]
     },
     "execution_count": 174,
     "metadata": {},
     "output_type": "execute_result"
    }
   ],
   "source": [
    "map"
   ]
  },
  {
   "cell_type": "code",
   "execution_count": 175,
   "id": "3fecd5b5",
   "metadata": {},
   "outputs": [
    {
     "name": "stdout",
     "output_type": "stream",
     "text": [
      "Help on class map in module builtins:\n",
      "\n",
      "class map(object)\n",
      " |  map(func, *iterables) --> map object\n",
      " |  \n",
      " |  Make an iterator that computes the function using arguments from\n",
      " |  each of the iterables.  Stops when the shortest iterable is exhausted.\n",
      " |  \n",
      " |  Methods defined here:\n",
      " |  \n",
      " |  __getattribute__(self, name, /)\n",
      " |      Return getattr(self, name).\n",
      " |  \n",
      " |  __iter__(self, /)\n",
      " |      Implement iter(self).\n",
      " |  \n",
      " |  __next__(self, /)\n",
      " |      Implement next(self).\n",
      " |  \n",
      " |  __reduce__(...)\n",
      " |      Return state information for pickling.\n",
      " |  \n",
      " |  ----------------------------------------------------------------------\n",
      " |  Static methods defined here:\n",
      " |  \n",
      " |  __new__(*args, **kwargs) from builtins.type\n",
      " |      Create and return a new object.  See help(type) for accurate signature.\n",
      "\n"
     ]
    }
   ],
   "source": [
    "help(map)"
   ]
  },
  {
   "cell_type": "code",
   "execution_count": 176,
   "id": "b2962f8c",
   "metadata": {},
   "outputs": [
    {
     "data": {
      "text/plain": [
       "<map at 0x103bf2b80>"
      ]
     },
     "execution_count": 176,
     "metadata": {},
     "output_type": "execute_result"
    }
   ],
   "source": [
    "map(str, range(10))"
   ]
  },
  {
   "cell_type": "code",
   "execution_count": 177,
   "id": "9a81ed2c",
   "metadata": {},
   "outputs": [
    {
     "data": {
      "text/plain": [
       "['0', '1', '2', '3', '4', '5', '6', '7', '8', '9']"
      ]
     },
     "execution_count": 177,
     "metadata": {},
     "output_type": "execute_result"
    }
   ],
   "source": [
    "list(map(str, range(10)))"
   ]
  },
  {
   "cell_type": "code",
   "execution_count": 178,
   "id": "aee4a4ef",
   "metadata": {},
   "outputs": [
    {
     "name": "stdout",
     "output_type": "stream",
     "text": [
      "'0'\n",
      "'1'\n",
      "'2'\n",
      "'3'\n",
      "'4'\n",
      "'5'\n",
      "'6'\n",
      "'7'\n",
      "'8'\n",
      "'9'\n"
     ]
    }
   ],
   "source": [
    "for i in range(10):\n",
    "    print(repr(str(i)))"
   ]
  },
  {
   "cell_type": "code",
   "execution_count": 179,
   "id": "50bdfea4",
   "metadata": {},
   "outputs": [
    {
     "name": "stdout",
     "output_type": "stream",
     "text": [
      "'0'\n",
      "'1'\n",
      "'2'\n",
      "'3'\n",
      "'4'\n",
      "'5'\n",
      "'6'\n",
      "'7'\n",
      "'8'\n",
      "'9'\n"
     ]
    }
   ],
   "source": [
    "for i in map(str, range(10)):\n",
    "    print(repr(i))"
   ]
  },
  {
   "cell_type": "code",
   "execution_count": 180,
   "id": "84184213",
   "metadata": {},
   "outputs": [],
   "source": [
    "def square_num(num):\n",
    "    return num ** 2"
   ]
  },
  {
   "cell_type": "code",
   "execution_count": 181,
   "id": "db430406",
   "metadata": {},
   "outputs": [
    {
     "data": {
      "text/plain": [
       "4"
      ]
     },
     "execution_count": 181,
     "metadata": {},
     "output_type": "execute_result"
    }
   ],
   "source": [
    "square_num(2)"
   ]
  },
  {
   "cell_type": "code",
   "execution_count": 182,
   "id": "cb391bc9",
   "metadata": {},
   "outputs": [
    {
     "data": {
      "text/plain": [
       "25"
      ]
     },
     "execution_count": 182,
     "metadata": {},
     "output_type": "execute_result"
    }
   ],
   "source": [
    "square_num(5)"
   ]
  },
  {
   "cell_type": "code",
   "execution_count": 183,
   "id": "b0eac3d8",
   "metadata": {},
   "outputs": [
    {
     "name": "stdout",
     "output_type": "stream",
     "text": [
      "0\n",
      "1\n",
      "4\n",
      "9\n",
      "16\n",
      "25\n",
      "36\n",
      "49\n",
      "64\n",
      "81\n"
     ]
    }
   ],
   "source": [
    "for i in map(square_num, range(10)):\n",
    "    print(i)"
   ]
  },
  {
   "cell_type": "code",
   "execution_count": 184,
   "id": "5e87728b",
   "metadata": {},
   "outputs": [
    {
     "data": {
      "text/plain": [
       "'Сочи'"
      ]
     },
     "execution_count": 184,
     "metadata": {},
     "output_type": "execute_result"
    }
   ],
   "source": [
    "city"
   ]
  },
  {
   "cell_type": "code",
   "execution_count": 185,
   "id": "ef4ca081",
   "metadata": {},
   "outputs": [
    {
     "data": {
      "text/plain": [
       "['Москва', 'Анапа', 'Сочи', 'Санкт-Петербург']"
      ]
     },
     "execution_count": 185,
     "metadata": {},
     "output_type": "execute_result"
    }
   ],
   "source": [
    "cities"
   ]
  },
  {
   "cell_type": "code",
   "execution_count": 186,
   "id": "1586e953",
   "metadata": {},
   "outputs": [],
   "source": [
    "city = cities[-1]"
   ]
  },
  {
   "cell_type": "code",
   "execution_count": 187,
   "id": "8447d61e",
   "metadata": {},
   "outputs": [
    {
     "data": {
      "text/plain": [
       "'Санкт-Петербург'"
      ]
     },
     "execution_count": 187,
     "metadata": {},
     "output_type": "execute_result"
    }
   ],
   "source": [
    "city"
   ]
  },
  {
   "cell_type": "code",
   "execution_count": 188,
   "id": "5a0f0c50",
   "metadata": {},
   "outputs": [
    {
     "name": "stdout",
     "output_type": "stream",
     "text": [
      "1 2\n"
     ]
    }
   ],
   "source": [
    "a, b = 1, 2\n",
    "print(a, b)"
   ]
  },
  {
   "cell_type": "code",
   "execution_count": 189,
   "id": "2a593006",
   "metadata": {},
   "outputs": [
    {
     "name": "stdout",
     "output_type": "stream",
     "text": [
      "3 4\n"
     ]
    }
   ],
   "source": [
    "a, b = (3, 4)\n",
    "print(a, b)"
   ]
  },
  {
   "cell_type": "code",
   "execution_count": 190,
   "id": "421bfbe9",
   "metadata": {},
   "outputs": [
    {
     "name": "stdout",
     "output_type": "stream",
     "text": [
      "5 6\n"
     ]
    }
   ],
   "source": [
    "a, b = [5, 6]\n",
    "print(a, b)"
   ]
  },
  {
   "cell_type": "code",
   "execution_count": 191,
   "id": "5f01a75f",
   "metadata": {},
   "outputs": [
    {
     "name": "stdout",
     "output_type": "stream",
     "text": [
      "1 3\n"
     ]
    }
   ],
   "source": [
    "a, _, b = [1, 2, 3]\n",
    "print(a, b)"
   ]
  },
  {
   "cell_type": "code",
   "execution_count": 192,
   "id": "9550e707",
   "metadata": {},
   "outputs": [
    {
     "name": "stdout",
     "output_type": "stream",
     "text": [
      "0 6\n",
      "[1, 2, 3, 4, 5]\n"
     ]
    }
   ],
   "source": [
    "a, *others, b = range(7)\n",
    "print(a, b)\n",
    "print(others)"
   ]
  },
  {
   "cell_type": "code",
   "execution_count": 193,
   "id": "8c88de5d",
   "metadata": {},
   "outputs": [],
   "source": [
    "def get_by_key(key, **data):\n",
    "    if key in data and data[key]:\n",
    "        print(\"found not empty value\", data[key])\n",
    "        return data[key]\n",
    "    print(\"not empty value not found\")"
   ]
  },
  {
   "cell_type": "code",
   "execution_count": 194,
   "id": "d97285bd",
   "metadata": {},
   "outputs": [
    {
     "name": "stdout",
     "output_type": "stream",
     "text": [
      "found not empty value eggs\n"
     ]
    },
    {
     "data": {
      "text/plain": [
       "'eggs'"
      ]
     },
     "execution_count": 194,
     "metadata": {},
     "output_type": "execute_result"
    }
   ],
   "source": [
    "get_by_key(\"spam\", spam=\"eggs\")"
   ]
  },
  {
   "cell_type": "code",
   "execution_count": 195,
   "id": "51a3672e",
   "metadata": {},
   "outputs": [
    {
     "name": "stdout",
     "output_type": "stream",
     "text": [
      "not empty value not found\n"
     ]
    }
   ],
   "source": [
    "get_by_key(\"spam\", spam=\"\")"
   ]
  },
  {
   "cell_type": "code",
   "execution_count": 196,
   "id": "97eb90b8",
   "metadata": {},
   "outputs": [],
   "source": [
    "def get_by_key(key, **data):\n",
    "    if value := (key in data and data[key]):\n",
    "        print(\"found not empty value\", value)\n",
    "        return value\n",
    "    print(\"not empty value not found\")"
   ]
  },
  {
   "cell_type": "code",
   "execution_count": 197,
   "id": "cf5bc972",
   "metadata": {},
   "outputs": [
    {
     "name": "stdout",
     "output_type": "stream",
     "text": [
      "not empty value not found\n"
     ]
    }
   ],
   "source": [
    "get_by_key(\"spam\", spam=\"\")"
   ]
  },
  {
   "cell_type": "code",
   "execution_count": 198,
   "id": "94bfdd09",
   "metadata": {},
   "outputs": [
    {
     "name": "stdout",
     "output_type": "stream",
     "text": [
      "found not empty value foobar\n"
     ]
    },
    {
     "data": {
      "text/plain": [
       "'foobar'"
      ]
     },
     "execution_count": 198,
     "metadata": {},
     "output_type": "execute_result"
    }
   ],
   "source": [
    "get_by_key(\"spam\", spam=\"foobar\")"
   ]
  },
  {
   "cell_type": "code",
   "execution_count": null,
   "id": "1c32ba62",
   "metadata": {},
   "outputs": [],
   "source": []
  }
 ],
 "metadata": {
  "kernelspec": {
   "display_name": "Python 3 (ipykernel)",
   "language": "python",
   "name": "python3"
  },
  "language_info": {
   "codemirror_mode": {
    "name": "ipython",
    "version": 3
   },
   "file_extension": ".py",
   "mimetype": "text/x-python",
   "name": "python",
   "nbconvert_exporter": "python",
   "pygments_lexer": "ipython3",
   "version": "3.9.7"
  }
 },
 "nbformat": 4,
 "nbformat_minor": 5
}
