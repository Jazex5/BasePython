{
 "cells": [
  {
   "cell_type": "code",
   "execution_count": 1,
   "id": "4a97f88e",
   "metadata": {},
   "outputs": [],
   "source": [
    "def print_hello():\n",
    "    print(\"Hello\")"
   ]
  },
  {
   "cell_type": "code",
   "execution_count": 2,
   "id": "2cf93975",
   "metadata": {},
   "outputs": [
    {
     "data": {
      "text/plain": [
       "<function __main__.print_hello()>"
      ]
     },
     "execution_count": 2,
     "metadata": {},
     "output_type": "execute_result"
    }
   ],
   "source": [
    "print_hello"
   ]
  },
  {
   "cell_type": "code",
   "execution_count": 3,
   "id": "a6d0c14f",
   "metadata": {},
   "outputs": [
    {
     "name": "stdout",
     "output_type": "stream",
     "text": [
      "Hello\n"
     ]
    }
   ],
   "source": [
    "print_hello()"
   ]
  },
  {
   "cell_type": "code",
   "execution_count": 4,
   "id": "f71ff90c",
   "metadata": {},
   "outputs": [
    {
     "name": "stdout",
     "output_type": "stream",
     "text": [
      "Hello\n"
     ]
    }
   ],
   "source": [
    "print_hello()"
   ]
  },
  {
   "cell_type": "code",
   "execution_count": 5,
   "id": "ed7d76eb",
   "metadata": {},
   "outputs": [
    {
     "name": "stdout",
     "output_type": "stream",
     "text": [
      "Hello\n"
     ]
    }
   ],
   "source": [
    "print_hello()"
   ]
  },
  {
   "cell_type": "code",
   "execution_count": 6,
   "id": "761032f7",
   "metadata": {},
   "outputs": [],
   "source": [
    "def print_sum_1_and_2():\n",
    "    print(\"Hello, sum\")\n",
    "    result = 1 + 2\n",
    "    print(\"Sum result:\", result)"
   ]
  },
  {
   "cell_type": "code",
   "execution_count": 7,
   "id": "5f6aa5bd",
   "metadata": {},
   "outputs": [
    {
     "ename": "NameError",
     "evalue": "name 'result' is not defined",
     "output_type": "error",
     "traceback": [
      "\u001b[0;31m---------------------------------------------------------------------------\u001b[0m",
      "\u001b[0;31mNameError\u001b[0m                                 Traceback (most recent call last)",
      "\u001b[0;32m/var/folders/fj/49hkzfz15_zcq5jwvzbzk6fm0000gn/T/ipykernel_3187/1049141082.py\u001b[0m in \u001b[0;36m<module>\u001b[0;34m\u001b[0m\n\u001b[0;32m----> 1\u001b[0;31m \u001b[0mresult\u001b[0m\u001b[0;34m\u001b[0m\u001b[0;34m\u001b[0m\u001b[0m\n\u001b[0m",
      "\u001b[0;31mNameError\u001b[0m: name 'result' is not defined"
     ]
    }
   ],
   "source": [
    "result"
   ]
  },
  {
   "cell_type": "code",
   "execution_count": 8,
   "id": "e08ee288",
   "metadata": {},
   "outputs": [
    {
     "name": "stdout",
     "output_type": "stream",
     "text": [
      "Hello, sum\n",
      "Sum result: 3\n"
     ]
    }
   ],
   "source": [
    "print_sum_1_and_2()"
   ]
  },
  {
   "cell_type": "code",
   "execution_count": 9,
   "id": "92b11a9a",
   "metadata": {},
   "outputs": [],
   "source": [
    "def min_func(): \n",
    "    pass"
   ]
  },
  {
   "cell_type": "code",
   "execution_count": 10,
   "id": "e2025caf",
   "metadata": {},
   "outputs": [],
   "source": [
    "min_func()"
   ]
  },
  {
   "cell_type": "code",
   "execution_count": 11,
   "id": "7bb8a151",
   "metadata": {},
   "outputs": [
    {
     "name": "stdout",
     "output_type": "stream",
     "text": [
      "Result None\n"
     ]
    }
   ],
   "source": [
    "res = min_func()\n",
    "print(\"Result\", res)"
   ]
  },
  {
   "cell_type": "code",
   "execution_count": 12,
   "id": "24ae46d2",
   "metadata": {},
   "outputs": [
    {
     "name": "stdout",
     "output_type": "stream",
     "text": [
      "None\n"
     ]
    }
   ],
   "source": [
    "def min_func2():\n",
    "    return None\n",
    "\n",
    "print(min_func2())"
   ]
  },
  {
   "cell_type": "code",
   "execution_count": 13,
   "id": "47a320ac",
   "metadata": {},
   "outputs": [
    {
     "name": "stdout",
     "output_type": "stream",
     "text": [
      "None\n"
     ]
    }
   ],
   "source": [
    "def min_func3():\n",
    "    return\n",
    "\n",
    "print(min_func3())"
   ]
  },
  {
   "cell_type": "code",
   "execution_count": 14,
   "id": "f2a20535",
   "metadata": {},
   "outputs": [
    {
     "data": {
      "text/plain": [
       "42"
      ]
     },
     "execution_count": 14,
     "metadata": {},
     "output_type": "execute_result"
    }
   ],
   "source": [
    "def get_42():\n",
    "    return 42\n",
    "\n",
    "get_42()"
   ]
  },
  {
   "cell_type": "code",
   "execution_count": 15,
   "id": "78171649",
   "metadata": {},
   "outputs": [],
   "source": [
    "def hello(name):\n",
    "    print(\"Hello\", name)"
   ]
  },
  {
   "cell_type": "code",
   "execution_count": 16,
   "id": "08c9d740",
   "metadata": {},
   "outputs": [
    {
     "ename": "TypeError",
     "evalue": "hello() missing 1 required positional argument: 'name'",
     "output_type": "error",
     "traceback": [
      "\u001b[0;31m---------------------------------------------------------------------------\u001b[0m",
      "\u001b[0;31mTypeError\u001b[0m                                 Traceback (most recent call last)",
      "\u001b[0;32m/var/folders/fj/49hkzfz15_zcq5jwvzbzk6fm0000gn/T/ipykernel_3187/2674044599.py\u001b[0m in \u001b[0;36m<module>\u001b[0;34m\u001b[0m\n\u001b[0;32m----> 1\u001b[0;31m \u001b[0mhello\u001b[0m\u001b[0;34m(\u001b[0m\u001b[0;34m)\u001b[0m\u001b[0;34m\u001b[0m\u001b[0;34m\u001b[0m\u001b[0m\n\u001b[0m",
      "\u001b[0;31mTypeError\u001b[0m: hello() missing 1 required positional argument: 'name'"
     ]
    }
   ],
   "source": [
    "hello()"
   ]
  },
  {
   "cell_type": "code",
   "execution_count": 17,
   "id": "2468aa67",
   "metadata": {},
   "outputs": [
    {
     "name": "stdout",
     "output_type": "stream",
     "text": [
      "Hello John\n"
     ]
    }
   ],
   "source": [
    "hello(\"John\")"
   ]
  },
  {
   "cell_type": "code",
   "execution_count": 18,
   "id": "57593e7d",
   "metadata": {},
   "outputs": [],
   "source": [
    "def hello_world(name=None):\n",
    "    if name is None:\n",
    "        name = \"World\"\n",
    "    print(\"Hello\", name)"
   ]
  },
  {
   "cell_type": "code",
   "execution_count": 19,
   "id": "0777fe29",
   "metadata": {},
   "outputs": [
    {
     "name": "stdout",
     "output_type": "stream",
     "text": [
      "Hello World\n"
     ]
    }
   ],
   "source": [
    "hello_world()"
   ]
  },
  {
   "cell_type": "code",
   "execution_count": 20,
   "id": "3db84207",
   "metadata": {},
   "outputs": [
    {
     "name": "stdout",
     "output_type": "stream",
     "text": [
      "Hello John\n"
     ]
    }
   ],
   "source": [
    "hello_world(\"John\")"
   ]
  },
  {
   "cell_type": "code",
   "execution_count": 21,
   "id": "bcfa2a94",
   "metadata": {},
   "outputs": [
    {
     "name": "stdout",
     "output_type": "stream",
     "text": [
      "Hello World\n"
     ]
    }
   ],
   "source": [
    "hello_world(None)"
   ]
  },
  {
   "cell_type": "code",
   "execution_count": 22,
   "id": "32c1fc16",
   "metadata": {},
   "outputs": [],
   "source": [
    "def hello_john(name='John'):\n",
    "    print(\"Hello\", name)"
   ]
  },
  {
   "cell_type": "code",
   "execution_count": 23,
   "id": "91be5967",
   "metadata": {},
   "outputs": [
    {
     "name": "stdout",
     "output_type": "stream",
     "text": [
      "Hello John\n"
     ]
    }
   ],
   "source": [
    "hello_john()"
   ]
  },
  {
   "cell_type": "code",
   "execution_count": 24,
   "id": "022febd6",
   "metadata": {},
   "outputs": [
    {
     "data": {
      "text/plain": [
       "2"
      ]
     },
     "execution_count": 24,
     "metadata": {},
     "output_type": "execute_result"
    }
   ],
   "source": [
    "True + 1 + False"
   ]
  },
  {
   "cell_type": "code",
   "execution_count": 25,
   "id": "bc9e3ba1",
   "metadata": {},
   "outputs": [
    {
     "data": {
      "text/plain": [
       "1"
      ]
     },
     "execution_count": 25,
     "metadata": {},
     "output_type": "execute_result"
    }
   ],
   "source": [
    "int(True)"
   ]
  },
  {
   "cell_type": "code",
   "execution_count": 26,
   "id": "32a0ae03",
   "metadata": {},
   "outputs": [
    {
     "data": {
      "text/plain": [
       "0"
      ]
     },
     "execution_count": 26,
     "metadata": {},
     "output_type": "execute_result"
    }
   ],
   "source": [
    "int(False)"
   ]
  },
  {
   "cell_type": "code",
   "execution_count": 27,
   "id": "6c499c4a",
   "metadata": {},
   "outputs": [
    {
     "data": {
      "text/plain": [
       "bool"
      ]
     },
     "execution_count": 27,
     "metadata": {},
     "output_type": "execute_result"
    }
   ],
   "source": [
    "type(True)"
   ]
  },
  {
   "cell_type": "code",
   "execution_count": 28,
   "id": "7ba813e0",
   "metadata": {},
   "outputs": [
    {
     "data": {
      "text/plain": [
       "bool"
      ]
     },
     "execution_count": 28,
     "metadata": {},
     "output_type": "execute_result"
    }
   ],
   "source": [
    "type(False)"
   ]
  },
  {
   "cell_type": "code",
   "execution_count": 29,
   "id": "f80bddcb",
   "metadata": {},
   "outputs": [
    {
     "data": {
      "text/plain": [
       "True"
      ]
     },
     "execution_count": 29,
     "metadata": {},
     "output_type": "execute_result"
    }
   ],
   "source": [
    "isinstance(\"hello\", str)"
   ]
  },
  {
   "cell_type": "code",
   "execution_count": 30,
   "id": "e2e35f60",
   "metadata": {},
   "outputs": [
    {
     "data": {
      "text/plain": [
       "True"
      ]
     },
     "execution_count": 30,
     "metadata": {},
     "output_type": "execute_result"
    }
   ],
   "source": [
    "isinstance(123, int)"
   ]
  },
  {
   "cell_type": "code",
   "execution_count": 31,
   "id": "c73a26f8",
   "metadata": {},
   "outputs": [
    {
     "data": {
      "text/plain": [
       "False"
      ]
     },
     "execution_count": 31,
     "metadata": {},
     "output_type": "execute_result"
    }
   ],
   "source": [
    "isinstance(\"qwe\", int)"
   ]
  },
  {
   "cell_type": "code",
   "execution_count": 32,
   "id": "70efb257",
   "metadata": {},
   "outputs": [
    {
     "data": {
      "text/plain": [
       "True"
      ]
     },
     "execution_count": 32,
     "metadata": {},
     "output_type": "execute_result"
    }
   ],
   "source": [
    "isinstance(True, int)"
   ]
  },
  {
   "cell_type": "code",
   "execution_count": 33,
   "id": "29ef5a57",
   "metadata": {},
   "outputs": [],
   "source": [
    "def print_all_elems(list_of_items):\n",
    "    for elem in list_of_items:\n",
    "        print(elem)"
   ]
  },
  {
   "cell_type": "code",
   "execution_count": 34,
   "id": "06df1146",
   "metadata": {},
   "outputs": [
    {
     "name": "stdout",
     "output_type": "stream",
     "text": [
      "1\n",
      "2\n",
      "3\n",
      "4\n",
      "5\n",
      "8765\n",
      "21324\n",
      "53\n"
     ]
    }
   ],
   "source": [
    "print_all_elems([1,2,3,4,5,8765,21324,53])"
   ]
  },
  {
   "cell_type": "code",
   "execution_count": 35,
   "id": "a960e28c",
   "metadata": {},
   "outputs": [
    {
     "name": "stdout",
     "output_type": "stream",
     "text": [
      "asd\n",
      "True\n",
      "123\n",
      "0.213\n",
      "None\n"
     ]
    }
   ],
   "source": [
    "print_all_elems([\"asd\", True, 123, 0.213, None])"
   ]
  },
  {
   "cell_type": "code",
   "execution_count": 36,
   "id": "4439ba76",
   "metadata": {},
   "outputs": [
    {
     "name": "stdout",
     "output_type": "stream",
     "text": [
      "a\n",
      "b\n",
      "c\n",
      "d\n",
      "e\n",
      "f\n",
      "g\n"
     ]
    }
   ],
   "source": [
    "print_all_elems(\"abcdefg\")"
   ]
  },
  {
   "cell_type": "code",
   "execution_count": 37,
   "id": "093c7508",
   "metadata": {},
   "outputs": [],
   "source": [
    "def add_not_present_elems(new_elems, list_of_elems=[]):\n",
    "    for elem in new_elems:\n",
    "        if elem not in list_of_elems:\n",
    "            list_of_elems.append(elem)\n",
    "    \n",
    "    return list_of_elems"
   ]
  },
  {
   "cell_type": "code",
   "execution_count": 38,
   "id": "23df9c4c",
   "metadata": {},
   "outputs": [
    {
     "name": "stdout",
     "output_type": "stream",
     "text": [
      "['qwe', 123, 456]\n",
      "['qwe', 123, 456]\n"
     ]
    }
   ],
   "source": [
    "elems = [\"qwe\", 123]\n",
    "new_elems = [123, 456]\n",
    "res = add_not_present_elems(new_elems, elems)\n",
    "print(res)\n",
    "print(elems)"
   ]
  },
  {
   "cell_type": "code",
   "execution_count": 39,
   "id": "1a6bbf5c",
   "metadata": {},
   "outputs": [
    {
     "data": {
      "text/plain": [
       "True"
      ]
     },
     "execution_count": 39,
     "metadata": {},
     "output_type": "execute_result"
    }
   ],
   "source": [
    "res is elems"
   ]
  },
  {
   "cell_type": "code",
   "execution_count": 40,
   "id": "5e652f94",
   "metadata": {},
   "outputs": [
    {
     "data": {
      "text/plain": [
       "True"
      ]
     },
     "execution_count": 40,
     "metadata": {},
     "output_type": "execute_result"
    }
   ],
   "source": [
    "res is not new_elems"
   ]
  },
  {
   "cell_type": "code",
   "execution_count": 41,
   "id": "9cfdc12a",
   "metadata": {},
   "outputs": [],
   "source": [
    "res = add_not_present_elems([\"abc\", \"qwe\"])"
   ]
  },
  {
   "cell_type": "code",
   "execution_count": 42,
   "id": "4fd859a1",
   "metadata": {},
   "outputs": [
    {
     "name": "stdout",
     "output_type": "stream",
     "text": [
      "['abc', 'qwe']\n"
     ]
    }
   ],
   "source": [
    "print(res)"
   ]
  },
  {
   "cell_type": "code",
   "execution_count": 43,
   "id": "42ee81f2",
   "metadata": {},
   "outputs": [
    {
     "name": "stdout",
     "output_type": "stream",
     "text": [
      "['abc', 'qwe', 123, 456]\n"
     ]
    }
   ],
   "source": [
    "res = add_not_present_elems([123, 456])\n",
    "print(res)"
   ]
  },
  {
   "cell_type": "code",
   "execution_count": 44,
   "id": "d51251f8",
   "metadata": {},
   "outputs": [],
   "source": [
    "def add_not_present_elems(new_elems, list_of_elems=None):\n",
    "    if list_of_elems is None:\n",
    "        list_of_elems = []\n",
    "\n",
    "    for elem in new_elems:\n",
    "        if elem not in list_of_elems:\n",
    "            list_of_elems.append(elem)\n",
    "            \n",
    "    return list_of_elems"
   ]
  },
  {
   "cell_type": "code",
   "execution_count": 45,
   "id": "3eb18ecf",
   "metadata": {},
   "outputs": [
    {
     "name": "stdout",
     "output_type": "stream",
     "text": [
      "['abc', 'qwe']\n"
     ]
    }
   ],
   "source": [
    "res = add_not_present_elems([\"abc\", \"qwe\"])\n",
    "print(res)"
   ]
  },
  {
   "cell_type": "code",
   "execution_count": 46,
   "id": "eec43b4d",
   "metadata": {},
   "outputs": [
    {
     "name": "stdout",
     "output_type": "stream",
     "text": [
      "[123, 456]\n"
     ]
    }
   ],
   "source": [
    "res = add_not_present_elems([123, 456])\n",
    "print(res)"
   ]
  },
  {
   "cell_type": "code",
   "execution_count": 47,
   "id": "a4ab018d",
   "metadata": {},
   "outputs": [],
   "source": [
    "foo = [123, 456]"
   ]
  },
  {
   "cell_type": "code",
   "execution_count": 48,
   "id": "42e5bf04",
   "metadata": {},
   "outputs": [
    {
     "data": {
      "text/plain": [
       "True"
      ]
     },
     "execution_count": 48,
     "metadata": {},
     "output_type": "execute_result"
    }
   ],
   "source": [
    "foo == res"
   ]
  },
  {
   "cell_type": "code",
   "execution_count": 49,
   "id": "2ac5b8f5",
   "metadata": {},
   "outputs": [
    {
     "data": {
      "text/plain": [
       "False"
      ]
     },
     "execution_count": 49,
     "metadata": {},
     "output_type": "execute_result"
    }
   ],
   "source": [
    "foo is res"
   ]
  },
  {
   "cell_type": "code",
   "execution_count": 50,
   "id": "d0d56e30",
   "metadata": {},
   "outputs": [
    {
     "name": "stdout",
     "output_type": "stream",
     "text": [
      "[123, 456, 789]\n"
     ]
    }
   ],
   "source": [
    "foo.append(789)\n",
    "print(foo)"
   ]
  },
  {
   "cell_type": "code",
   "execution_count": 51,
   "id": "76e69667",
   "metadata": {},
   "outputs": [
    {
     "name": "stdout",
     "output_type": "stream",
     "text": [
      "[123, 456]\n"
     ]
    }
   ],
   "source": [
    "print(res)"
   ]
  },
  {
   "cell_type": "code",
   "execution_count": 52,
   "id": "2f402c29",
   "metadata": {},
   "outputs": [],
   "source": [
    "bar = foo"
   ]
  },
  {
   "cell_type": "code",
   "execution_count": 53,
   "id": "b735569a",
   "metadata": {},
   "outputs": [
    {
     "name": "stdout",
     "output_type": "stream",
     "text": [
      "[123, 456, 789]\n"
     ]
    },
    {
     "data": {
      "text/plain": [
       "True"
      ]
     },
     "execution_count": 53,
     "metadata": {},
     "output_type": "execute_result"
    }
   ],
   "source": [
    "print(bar)\n",
    "bar is foo"
   ]
  },
  {
   "cell_type": "code",
   "execution_count": 54,
   "id": "d30e957b",
   "metadata": {},
   "outputs": [
    {
     "data": {
      "text/plain": [
       "789"
      ]
     },
     "execution_count": 54,
     "metadata": {},
     "output_type": "execute_result"
    }
   ],
   "source": [
    "bar.pop()"
   ]
  },
  {
   "cell_type": "code",
   "execution_count": 55,
   "id": "017d698b",
   "metadata": {},
   "outputs": [
    {
     "data": {
      "text/plain": [
       "[123, 456]"
      ]
     },
     "execution_count": 55,
     "metadata": {},
     "output_type": "execute_result"
    }
   ],
   "source": [
    "foo"
   ]
  },
  {
   "cell_type": "code",
   "execution_count": 56,
   "id": "3e687564",
   "metadata": {},
   "outputs": [
    {
     "data": {
      "text/plain": [
       "[123, 456]"
      ]
     },
     "execution_count": 56,
     "metadata": {},
     "output_type": "execute_result"
    }
   ],
   "source": [
    "bar"
   ]
  },
  {
   "cell_type": "code",
   "execution_count": 57,
   "id": "7818e22c",
   "metadata": {},
   "outputs": [
    {
     "name": "stdout",
     "output_type": "stream",
     "text": [
      "1\n",
      "1\n",
      "2\n",
      "1\n"
     ]
    }
   ],
   "source": [
    "a = 1\n",
    "b = a\n",
    "print(a)\n",
    "print(b)\n",
    "a = 2\n",
    "print(a)\n",
    "print(b)"
   ]
  },
  {
   "cell_type": "code",
   "execution_count": 61,
   "id": "817b3ab6",
   "metadata": {},
   "outputs": [
    {
     "name": "stdout",
     "output_type": "stream",
     "text": [
      "process 1\n",
      "remove 1\n",
      "process 3\n",
      "remove 3\n",
      "process 5\n",
      "remove 5\n",
      "process 4\n",
      "process 5\n",
      "remove 5\n"
     ]
    },
    {
     "data": {
      "text/plain": [
       "[2, 4, 3, 4]"
      ]
     },
     "execution_count": 61,
     "metadata": {},
     "output_type": "execute_result"
    }
   ],
   "source": [
    "def remove_odds(list_of_nums):\n",
    "    for elem in list_of_nums:\n",
    "        print(\"process\", elem)\n",
    "        if elem % 2 != 0:\n",
    "            print(\"remove\", elem)\n",
    "            list_of_nums.remove(elem)\n",
    "        \n",
    "    return list_of_nums\n",
    "\n",
    "remove_odds([1, 2, 3, 4, 5, 3, 4, 5])"
   ]
  },
  {
   "cell_type": "code",
   "execution_count": 62,
   "id": "0463a0e1",
   "metadata": {},
   "outputs": [
    {
     "data": {
      "text/plain": [
       "[123, 456]"
      ]
     },
     "execution_count": 62,
     "metadata": {},
     "output_type": "execute_result"
    }
   ],
   "source": [
    "bar"
   ]
  },
  {
   "cell_type": "code",
   "execution_count": 63,
   "id": "c2e94c90",
   "metadata": {},
   "outputs": [],
   "source": [
    "baz = bar[:]"
   ]
  },
  {
   "cell_type": "code",
   "execution_count": 64,
   "id": "38aff134",
   "metadata": {},
   "outputs": [
    {
     "data": {
      "text/plain": [
       "True"
      ]
     },
     "execution_count": 64,
     "metadata": {},
     "output_type": "execute_result"
    }
   ],
   "source": [
    "bar == baz"
   ]
  },
  {
   "cell_type": "code",
   "execution_count": 66,
   "id": "0032e9d0",
   "metadata": {},
   "outputs": [
    {
     "name": "stdout",
     "output_type": "stream",
     "text": [
      "[123, 456, 5]\n",
      "[123, 456]\n",
      "[123, 456, 5, 7]\n",
      "[123, 456]\n"
     ]
    }
   ],
   "source": [
    "print(bar)\n",
    "print(baz)\n",
    "bar.append(7)\n",
    "print(bar)\n",
    "print(baz)"
   ]
  },
  {
   "cell_type": "code",
   "execution_count": 67,
   "id": "322a622e",
   "metadata": {},
   "outputs": [
    {
     "data": {
      "text/plain": [
       "[123, 456, 5, 7]"
      ]
     },
     "execution_count": 67,
     "metadata": {},
     "output_type": "execute_result"
    }
   ],
   "source": [
    "bar"
   ]
  },
  {
   "cell_type": "code",
   "execution_count": 68,
   "id": "25f4abed",
   "metadata": {},
   "outputs": [
    {
     "data": {
      "text/plain": [
       "[456, 5]"
      ]
     },
     "execution_count": 68,
     "metadata": {},
     "output_type": "execute_result"
    }
   ],
   "source": [
    "bar[1:3]"
   ]
  },
  {
   "cell_type": "code",
   "execution_count": 69,
   "id": "ac61b636",
   "metadata": {},
   "outputs": [
    {
     "data": {
      "text/plain": [
       "[123, 456]"
      ]
     },
     "execution_count": 69,
     "metadata": {},
     "output_type": "execute_result"
    }
   ],
   "source": [
    "bar[0:2]"
   ]
  },
  {
   "cell_type": "code",
   "execution_count": 70,
   "id": "4f0b8281",
   "metadata": {},
   "outputs": [
    {
     "data": {
      "text/plain": [
       "[123, 456]"
      ]
     },
     "execution_count": 70,
     "metadata": {},
     "output_type": "execute_result"
    }
   ],
   "source": [
    "bar[:2]"
   ]
  },
  {
   "cell_type": "code",
   "execution_count": 71,
   "id": "dc72c2ec",
   "metadata": {},
   "outputs": [
    {
     "data": {
      "text/plain": [
       "[456, 5, 7]"
      ]
     },
     "execution_count": 71,
     "metadata": {},
     "output_type": "execute_result"
    }
   ],
   "source": [
    "bar[1:4]"
   ]
  },
  {
   "cell_type": "code",
   "execution_count": 72,
   "id": "cd15325e",
   "metadata": {},
   "outputs": [
    {
     "data": {
      "text/plain": [
       "[456, 5, 7]"
      ]
     },
     "execution_count": 72,
     "metadata": {},
     "output_type": "execute_result"
    }
   ],
   "source": [
    "bar[1:]"
   ]
  },
  {
   "cell_type": "code",
   "execution_count": 73,
   "id": "b58c1dec",
   "metadata": {},
   "outputs": [
    {
     "data": {
      "text/plain": [
       "[123, 456, 5, 7]"
      ]
     },
     "execution_count": 73,
     "metadata": {},
     "output_type": "execute_result"
    }
   ],
   "source": [
    "bar[0:len(bar)]"
   ]
  },
  {
   "cell_type": "code",
   "execution_count": 74,
   "id": "2f31c256",
   "metadata": {},
   "outputs": [
    {
     "data": {
      "text/plain": [
       "[123, 456, 5, 7]"
      ]
     },
     "execution_count": 74,
     "metadata": {},
     "output_type": "execute_result"
    }
   ],
   "source": [
    "bar[:]"
   ]
  },
  {
   "cell_type": "code",
   "execution_count": 75,
   "id": "9e184766",
   "metadata": {},
   "outputs": [
    {
     "data": {
      "text/plain": [
       "True"
      ]
     },
     "execution_count": 75,
     "metadata": {},
     "output_type": "execute_result"
    }
   ],
   "source": [
    "bar == bar[:]"
   ]
  },
  {
   "cell_type": "code",
   "execution_count": 76,
   "id": "579f6532",
   "metadata": {},
   "outputs": [
    {
     "data": {
      "text/plain": [
       "True"
      ]
     },
     "execution_count": 76,
     "metadata": {},
     "output_type": "execute_result"
    }
   ],
   "source": [
    "bar is not bar[:]"
   ]
  },
  {
   "cell_type": "code",
   "execution_count": 77,
   "id": "4f626ca2",
   "metadata": {},
   "outputs": [
    {
     "name": "stdout",
     "output_type": "stream",
     "text": [
      "process 1\n",
      "remove 1\n",
      "process 2\n",
      "process 3\n",
      "remove 3\n",
      "process 4\n",
      "process 5\n",
      "remove 5\n",
      "process 3\n",
      "remove 3\n",
      "process 4\n",
      "process 5\n",
      "remove 5\n"
     ]
    },
    {
     "data": {
      "text/plain": [
       "[2, 4, 4]"
      ]
     },
     "execution_count": 77,
     "metadata": {},
     "output_type": "execute_result"
    }
   ],
   "source": [
    "def remove_odds(list_of_nums):\n",
    "    for elem in list_of_nums[:]:\n",
    "        print(\"process\", elem)\n",
    "        if elem % 2 != 0:\n",
    "            print(\"remove\", elem)\n",
    "            list_of_nums.remove(elem)\n",
    "\n",
    "    return list_of_nums\n",
    "\n",
    "remove_odds([1, 2, 3, 4, 5, 3, 4, 5])"
   ]
  },
  {
   "cell_type": "code",
   "execution_count": 78,
   "id": "a40a661d",
   "metadata": {},
   "outputs": [
    {
     "name": "stdout",
     "output_type": "stream",
     "text": [
      "[1, 2, 3]\n"
     ]
    }
   ],
   "source": [
    "abc = [1, 2, 3]\n",
    "print(abc)"
   ]
  },
  {
   "cell_type": "code",
   "execution_count": 79,
   "id": "c56e3dea",
   "metadata": {},
   "outputs": [
    {
     "data": {
      "text/plain": [
       "<list_reverseiterator at 0x103e98220>"
      ]
     },
     "execution_count": 79,
     "metadata": {},
     "output_type": "execute_result"
    }
   ],
   "source": [
    "reversed(abc)"
   ]
  },
  {
   "cell_type": "code",
   "execution_count": 80,
   "id": "5889a390",
   "metadata": {},
   "outputs": [
    {
     "data": {
      "text/plain": [
       "[3, 2, 1]"
      ]
     },
     "execution_count": 80,
     "metadata": {},
     "output_type": "execute_result"
    }
   ],
   "source": [
    "list(reversed(abc))"
   ]
  },
  {
   "cell_type": "code",
   "execution_count": 81,
   "id": "ee3d6573",
   "metadata": {},
   "outputs": [
    {
     "data": {
      "text/plain": [
       "[1, 2, 3]"
      ]
     },
     "execution_count": 81,
     "metadata": {},
     "output_type": "execute_result"
    }
   ],
   "source": [
    "abc"
   ]
  },
  {
   "cell_type": "code",
   "execution_count": 82,
   "id": "4c520a1f",
   "metadata": {},
   "outputs": [],
   "source": [
    "abc.reverse()"
   ]
  },
  {
   "cell_type": "code",
   "execution_count": 83,
   "id": "e18654fc",
   "metadata": {},
   "outputs": [
    {
     "data": {
      "text/plain": [
       "[3, 2, 1]"
      ]
     },
     "execution_count": 83,
     "metadata": {},
     "output_type": "execute_result"
    }
   ],
   "source": [
    "abc"
   ]
  },
  {
   "cell_type": "code",
   "execution_count": 84,
   "id": "41f552df",
   "metadata": {},
   "outputs": [
    {
     "data": {
      "text/plain": [
       "[3, 1]"
      ]
     },
     "execution_count": 84,
     "metadata": {},
     "output_type": "execute_result"
    }
   ],
   "source": [
    "abc[::2]"
   ]
  },
  {
   "cell_type": "code",
   "execution_count": 85,
   "id": "0ff9dcef",
   "metadata": {},
   "outputs": [
    {
     "data": {
      "text/plain": [
       "[3]"
      ]
     },
     "execution_count": 85,
     "metadata": {},
     "output_type": "execute_result"
    }
   ],
   "source": [
    "abc[::3]"
   ]
  },
  {
   "cell_type": "code",
   "execution_count": 86,
   "id": "a30aa6ff",
   "metadata": {},
   "outputs": [
    {
     "data": {
      "text/plain": [
       "[3, 2, 1, 0]"
      ]
     },
     "execution_count": 86,
     "metadata": {},
     "output_type": "execute_result"
    }
   ],
   "source": [
    "abc.append(0)\n",
    "abc"
   ]
  },
  {
   "cell_type": "code",
   "execution_count": 87,
   "id": "48668663",
   "metadata": {},
   "outputs": [
    {
     "data": {
      "text/plain": [
       "[3, 0]"
      ]
     },
     "execution_count": 87,
     "metadata": {},
     "output_type": "execute_result"
    }
   ],
   "source": [
    "abc[::3]"
   ]
  },
  {
   "cell_type": "code",
   "execution_count": 88,
   "id": "ee01ecee",
   "metadata": {},
   "outputs": [
    {
     "data": {
      "text/plain": [
       "[0, 1, 2, 3]"
      ]
     },
     "execution_count": 88,
     "metadata": {},
     "output_type": "execute_result"
    }
   ],
   "source": [
    "abc[::-1]"
   ]
  },
  {
   "cell_type": "code",
   "execution_count": 89,
   "id": "4b32fed9",
   "metadata": {},
   "outputs": [
    {
     "name": "stdout",
     "output_type": "stream",
     "text": [
      "100000\n"
     ]
    }
   ],
   "source": [
    "my_list = list(range(100_000))\n",
    "print(len(my_list))"
   ]
  },
  {
   "cell_type": "code",
   "execution_count": 91,
   "id": "b9dba5f2",
   "metadata": {},
   "outputs": [
    {
     "data": {
      "text/plain": [
       "0"
      ]
     },
     "execution_count": 91,
     "metadata": {},
     "output_type": "execute_result"
    }
   ],
   "source": [
    "my_list[0]"
   ]
  },
  {
   "cell_type": "code",
   "execution_count": 92,
   "id": "36ad2f38",
   "metadata": {},
   "outputs": [
    {
     "data": {
      "text/plain": [
       "99999"
      ]
     },
     "execution_count": 92,
     "metadata": {},
     "output_type": "execute_result"
    }
   ],
   "source": [
    "my_list[::-1][0]"
   ]
  },
  {
   "cell_type": "code",
   "execution_count": 93,
   "id": "bdce6e35",
   "metadata": {},
   "outputs": [
    {
     "name": "stdout",
     "output_type": "stream",
     "text": [
      "[1, 4, 9]\n"
     ]
    }
   ],
   "source": [
    "def make_squares(nums):\n",
    "    results = []\n",
    "    for num in nums:\n",
    "        results.append(num * num)\n",
    "    return results\n",
    "\n",
    "print(make_squares([1,2,3]))"
   ]
  },
  {
   "cell_type": "code",
   "execution_count": 94,
   "id": "64907801",
   "metadata": {},
   "outputs": [
    {
     "name": "stdout",
     "output_type": "stream",
     "text": [
      "[1, 4, 9]\n"
     ]
    }
   ],
   "source": [
    "def make_squares(*nums):\n",
    "    results = []\n",
    "    for num in nums:\n",
    "        results.append(num * num)\n",
    "    return results\n",
    "\n",
    "print(make_squares(1,2,3))"
   ]
  },
  {
   "cell_type": "code",
   "execution_count": 95,
   "id": "61d73dca",
   "metadata": {},
   "outputs": [
    {
     "name": "stdout",
     "output_type": "stream",
     "text": [
      "[1, 4, 9, 16, 25, 36, 49]\n"
     ]
    }
   ],
   "source": [
    "print(make_squares(1,2,3,4,5,6,7))"
   ]
  },
  {
   "cell_type": "code",
   "execution_count": 96,
   "id": "6fc19aa8",
   "metadata": {},
   "outputs": [],
   "source": [
    "def make_squares(*nums):\n",
    "    return [num * num for num in nums]"
   ]
  },
  {
   "cell_type": "code",
   "execution_count": 97,
   "id": "d32dd3e0",
   "metadata": {},
   "outputs": [
    {
     "name": "stdout",
     "output_type": "stream",
     "text": [
      "[16, 25, 36, 49]\n"
     ]
    }
   ],
   "source": [
    "print(make_squares(4,5,6,7))"
   ]
  },
  {
   "cell_type": "code",
   "execution_count": 98,
   "id": "8ec5721b",
   "metadata": {},
   "outputs": [
    {
     "data": {
      "text/plain": [
       "[123, 456, 5, 7]"
      ]
     },
     "execution_count": 98,
     "metadata": {},
     "output_type": "execute_result"
    }
   ],
   "source": [
    "bar"
   ]
  },
  {
   "cell_type": "code",
   "execution_count": 99,
   "id": "60f725a4",
   "metadata": {},
   "outputs": [],
   "source": [
    "bar_copy = bar[:]"
   ]
  },
  {
   "cell_type": "code",
   "execution_count": 100,
   "id": "1da1bf9a",
   "metadata": {},
   "outputs": [
    {
     "data": {
      "text/plain": [
       "[123, 456, 5, 7]"
      ]
     },
     "execution_count": 100,
     "metadata": {},
     "output_type": "execute_result"
    }
   ],
   "source": [
    "bar_copy"
   ]
  },
  {
   "cell_type": "code",
   "execution_count": 101,
   "id": "6d1f7368",
   "metadata": {},
   "outputs": [
    {
     "data": {
      "text/plain": [
       "True"
      ]
     },
     "execution_count": 101,
     "metadata": {},
     "output_type": "execute_result"
    }
   ],
   "source": [
    "bar_copy == bar"
   ]
  },
  {
   "cell_type": "code",
   "execution_count": 102,
   "id": "a62fc913",
   "metadata": {},
   "outputs": [
    {
     "data": {
      "text/plain": [
       "True"
      ]
     },
     "execution_count": 102,
     "metadata": {},
     "output_type": "execute_result"
    }
   ],
   "source": [
    "bar_copy is not bar"
   ]
  },
  {
   "cell_type": "code",
   "execution_count": 103,
   "id": "6046648a",
   "metadata": {},
   "outputs": [
    {
     "data": {
      "text/plain": [
       "7"
      ]
     },
     "execution_count": 103,
     "metadata": {},
     "output_type": "execute_result"
    }
   ],
   "source": [
    "bar_copy.pop()"
   ]
  },
  {
   "cell_type": "code",
   "execution_count": 104,
   "id": "a940cbaa",
   "metadata": {},
   "outputs": [
    {
     "data": {
      "text/plain": [
       "[123, 456, 5]"
      ]
     },
     "execution_count": 104,
     "metadata": {},
     "output_type": "execute_result"
    }
   ],
   "source": [
    "bar_copy"
   ]
  },
  {
   "cell_type": "code",
   "execution_count": 105,
   "id": "4c0b9a1e",
   "metadata": {},
   "outputs": [
    {
     "data": {
      "text/plain": [
       "[123, 456, 5, 7]"
      ]
     },
     "execution_count": 105,
     "metadata": {},
     "output_type": "execute_result"
    }
   ],
   "source": [
    "bar"
   ]
  },
  {
   "cell_type": "code",
   "execution_count": 109,
   "id": "ad057437",
   "metadata": {},
   "outputs": [
    {
     "name": "stdout",
     "output_type": "stream",
     "text": [
      "search value found! 1\n"
     ]
    },
    {
     "data": {
      "text/plain": [
       "1"
      ]
     },
     "execution_count": 109,
     "metadata": {},
     "output_type": "execute_result"
    }
   ],
   "source": [
    "def find_first_match(list_nums, search_value):\n",
    "    for i, elem in enumerate(list_nums):\n",
    "        if search_value == elem:\n",
    "            print(\"search value found!\", i)\n",
    "            return i\n",
    "    print(\"leaving func\")\n",
    "\n",
    "find_first_match([1,2,3,2,1], 2)"
   ]
  },
  {
   "cell_type": "code",
   "execution_count": 110,
   "id": "ff420366",
   "metadata": {},
   "outputs": [
    {
     "data": {
      "text/plain": [
       "[0, 1, 8, 27, 64, 125, 216, 343, 512, 729]"
      ]
     },
     "execution_count": 110,
     "metadata": {},
     "output_type": "execute_result"
    }
   ],
   "source": [
    "cubes = [i ** 3 for i in range(10)]\n",
    "cubes"
   ]
  },
  {
   "cell_type": "code",
   "execution_count": 111,
   "id": "a7d8901c",
   "metadata": {},
   "outputs": [],
   "source": [
    "cubes = [i ** 3 for i in range(10*1000)]"
   ]
  },
  {
   "cell_type": "code",
   "execution_count": 112,
   "id": "c9f32844",
   "metadata": {},
   "outputs": [
    {
     "data": {
      "text/plain": [
       "999700029999"
      ]
     },
     "execution_count": 112,
     "metadata": {},
     "output_type": "execute_result"
    }
   ],
   "source": [
    "cubes[-1]"
   ]
  },
  {
   "cell_type": "code",
   "execution_count": 113,
   "id": "e80dd0e4",
   "metadata": {},
   "outputs": [],
   "source": [
    "cubes = (i ** 3 for i in range(10000**10000))\n",
    "search_min = 10000 ** 10000 * 2"
   ]
  },
  {
   "cell_type": "code",
   "execution_count": 114,
   "id": "15b95a8f",
   "metadata": {},
   "outputs": [
    {
     "data": {
      "text/plain": [
       "<generator object <genexpr> at 0x1181d2ac0>"
      ]
     },
     "execution_count": 114,
     "metadata": {},
     "output_type": "execute_result"
    }
   ],
   "source": [
    "cubes"
   ]
  },
  {
   "cell_type": "code",
   "execution_count": 115,
   "id": "7866b862",
   "metadata": {},
   "outputs": [
    {
     "data": {
      "text/plain": [
       "0"
      ]
     },
     "execution_count": 115,
     "metadata": {},
     "output_type": "execute_result"
    }
   ],
   "source": [
    "next(cubes)"
   ]
  },
  {
   "cell_type": "code",
   "execution_count": 116,
   "id": "bbbddb00",
   "metadata": {},
   "outputs": [
    {
     "data": {
      "text/plain": [
       "1"
      ]
     },
     "execution_count": 116,
     "metadata": {},
     "output_type": "execute_result"
    }
   ],
   "source": [
    "next(cubes)"
   ]
  },
  {
   "cell_type": "code",
   "execution_count": 118,
   "id": "8981ec10",
   "metadata": {},
   "outputs": [
    {
     "data": {
      "text/plain": [
       "27"
      ]
     },
     "execution_count": 118,
     "metadata": {},
     "output_type": "execute_result"
    }
   ],
   "source": [
    "next(cubes)"
   ]
  },
  {
   "cell_type": "code",
   "execution_count": 121,
   "id": "eb448ae4",
   "metadata": {},
   "outputs": [
    {
     "name": "stdout",
     "output_type": "stream",
     "text": [
      "found value 1000000 by index 100\n"
     ]
    }
   ],
   "source": [
    "search_min = 1000000\n",
    "cubes = (i ** 3 for i in range(10000**10000))\n",
    "for index, value in enumerate(cubes):\n",
    "    if value >= search_min:\n",
    "        print(\"found value\", value, \"by index\", index)\n",
    "        break"
   ]
  },
  {
   "cell_type": "code",
   "execution_count": 122,
   "id": "da6d578a",
   "metadata": {},
   "outputs": [
    {
     "name": "stdout",
     "output_type": "stream",
     "text": [
      "make cube from 0\n",
      "make cube from 1\n",
      "make cube from 2\n"
     ]
    },
    {
     "data": {
      "text/plain": [
       "8"
      ]
     },
     "execution_count": 122,
     "metadata": {},
     "output_type": "execute_result"
    }
   ],
   "source": [
    "def make_cube(val):\n",
    "    print(\"make cube from\", val)\n",
    "    return val ** 3\n",
    "\n",
    "cubes = (make_cube(i) for i in range(10000**10000))\n",
    "\n",
    "next(cubes)\n",
    "next(cubes)\n",
    "next(cubes)"
   ]
  },
  {
   "cell_type": "code",
   "execution_count": 126,
   "id": "f026ce5f",
   "metadata": {},
   "outputs": [
    {
     "name": "stdout",
     "output_type": "stream",
     "text": [
      "<generator object get_squares at 0x1181cf430>\n",
      "square num 0\n",
      "proceed to the next loop step\n",
      "square num 1\n",
      "proceed to the next loop step\n",
      "square num 2\n"
     ]
    },
    {
     "data": {
      "text/plain": [
       "4"
      ]
     },
     "execution_count": 126,
     "metadata": {},
     "output_type": "execute_result"
    }
   ],
   "source": [
    "def get_squares(*nums):\n",
    "    for num in nums:\n",
    "        print(\"square num\", num)\n",
    "        yield num ** 2\n",
    "        print(\"proceed to the next loop step\")\n",
    "        \n",
    "        \n",
    "elems = list(range(10000))\n",
    "squares = get_squares(*elems)\n",
    "print(squares)\n",
    "next(squares)\n",
    "next(squares)\n",
    "next(squares)"
   ]
  },
  {
   "cell_type": "code",
   "execution_count": 127,
   "id": "69fb6186",
   "metadata": {},
   "outputs": [
    {
     "name": "stdout",
     "output_type": "stream",
     "text": [
      "square num 0\n",
      "cube num 0\n",
      "proceed to the next loop step\n",
      "square num 1\n",
      "cube num 1\n",
      "proceed to the next loop step\n",
      "square num 2\n",
      "cube num 2\n",
      "proceed to the next loop step\n",
      "square num 3\n",
      "cube num 3\n",
      "proceed to the next loop step\n",
      "square num 4\n",
      "cube num 4\n",
      "proceed to the next loop step\n",
      "square num 5\n",
      "cube num 5\n",
      "proceed to the next loop step\n",
      "square num 6\n",
      "cube num 6\n",
      "proceed to the next loop step\n",
      "square num 7\n",
      "cube num 7\n",
      "proceed to the next loop step\n",
      "square num 8\n",
      "cube num 8\n",
      "proceed to the next loop step\n",
      "square num 9\n",
      "cube num 9\n",
      "proceed to the next loop step\n"
     ]
    },
    {
     "data": {
      "text/plain": [
       "[0, 0, 1, 1, 4, 8, 9, 27, 16, 64, 25, 125, 36, 216, 49, 343, 64, 512, 81, 729]"
      ]
     },
     "execution_count": 127,
     "metadata": {},
     "output_type": "execute_result"
    }
   ],
   "source": [
    "def get_squares_and_cubes(*nums):\n",
    "    for num in nums:\n",
    "        print(\"square num\", num)\n",
    "        yield num ** 2\n",
    "        print(\"cube num\", num)\n",
    "        yield num ** 3\n",
    "        print(\"proceed to the next loop step\")\n",
    "        \n",
    "\n",
    "list(get_squares_and_cubes(*list(range(10))))"
   ]
  },
  {
   "cell_type": "code",
   "execution_count": 128,
   "id": "b5a646fa",
   "metadata": {},
   "outputs": [
    {
     "data": {
      "text/plain": [
       "{'0': 0,\n",
       " '1': 1,\n",
       " '2': 2,\n",
       " '3': 3,\n",
       " '4': 4,\n",
       " '5': 5,\n",
       " '6': 6,\n",
       " '7': 7,\n",
       " '8': 8,\n",
       " '9': 9}"
      ]
     },
     "execution_count": 128,
     "metadata": {},
     "output_type": "execute_result"
    }
   ],
   "source": [
    "{str(i): i for i in range(10)}"
   ]
  },
  {
   "cell_type": "code",
   "execution_count": 129,
   "id": "e2be53a5",
   "metadata": {},
   "outputs": [
    {
     "data": {
      "text/plain": [
       "{0, 1, 4, 9, 16}"
      ]
     },
     "execution_count": 129,
     "metadata": {},
     "output_type": "execute_result"
    }
   ],
   "source": [
    "{i** 2 for i in range(5)}"
   ]
  },
  {
   "cell_type": "code",
   "execution_count": 130,
   "id": "13644485",
   "metadata": {},
   "outputs": [
    {
     "data": {
      "text/plain": [
       "{0, 1, 4, 9, 16}"
      ]
     },
     "execution_count": 130,
     "metadata": {},
     "output_type": "execute_result"
    }
   ],
   "source": [
    "nums = {i** 2 for i in range(5)}\n",
    "nums"
   ]
  },
  {
   "cell_type": "code",
   "execution_count": 131,
   "id": "c87ec078",
   "metadata": {},
   "outputs": [
    {
     "data": {
      "text/plain": [
       "{0, 1, 4, 9, 16}"
      ]
     },
     "execution_count": 131,
     "metadata": {},
     "output_type": "execute_result"
    }
   ],
   "source": [
    "nums_copy = nums.copy()\n",
    "nums_copy"
   ]
  },
  {
   "cell_type": "code",
   "execution_count": 132,
   "id": "357b79d7",
   "metadata": {},
   "outputs": [
    {
     "data": {
      "text/plain": [
       "True"
      ]
     },
     "execution_count": 132,
     "metadata": {},
     "output_type": "execute_result"
    }
   ],
   "source": [
    "nums_copy is not nums"
   ]
  },
  {
   "cell_type": "code",
   "execution_count": 133,
   "id": "c632bad5",
   "metadata": {},
   "outputs": [
    {
     "data": {
      "text/plain": [
       "{0, 1, 4, 9, 16}"
      ]
     },
     "execution_count": 133,
     "metadata": {},
     "output_type": "execute_result"
    }
   ],
   "source": [
    "nums_copy = set(nums)\n",
    "nums_copy"
   ]
  },
  {
   "cell_type": "code",
   "execution_count": 134,
   "id": "aff8b139",
   "metadata": {},
   "outputs": [
    {
     "data": {
      "text/plain": [
       "True"
      ]
     },
     "execution_count": 134,
     "metadata": {},
     "output_type": "execute_result"
    }
   ],
   "source": [
    "nums_copy is not nums"
   ]
  },
  {
   "cell_type": "code",
   "execution_count": 135,
   "id": "f5026973",
   "metadata": {},
   "outputs": [
    {
     "name": "stdout",
     "output_type": "stream",
     "text": [
      "[123, 456]\n",
      "[123, 456]\n"
     ]
    }
   ],
   "source": [
    "my_list = [123, 456]\n",
    "my_list_copy = list(my_list)\n",
    "\n",
    "print(my_list)\n",
    "print(my_list_copy)"
   ]
  },
  {
   "cell_type": "code",
   "execution_count": 136,
   "id": "9d75e719",
   "metadata": {},
   "outputs": [
    {
     "data": {
      "text/plain": [
       "False"
      ]
     },
     "execution_count": 136,
     "metadata": {},
     "output_type": "execute_result"
    }
   ],
   "source": [
    "my_list_copy is my_list"
   ]
  },
  {
   "cell_type": "code",
   "execution_count": 137,
   "id": "ec511853",
   "metadata": {},
   "outputs": [
    {
     "name": "stdout",
     "output_type": "stream",
     "text": [
      "[123, 456]\n",
      "[123, 456]\n",
      "[123, 456]\n",
      "[123, 456, 789]\n"
     ]
    }
   ],
   "source": [
    "\n",
    "print(my_list)\n",
    "print(my_list_copy)\n",
    "my_list_copy.append(789)\n",
    "\n",
    "print(my_list)\n",
    "print(my_list_copy)"
   ]
  },
  {
   "cell_type": "code",
   "execution_count": 138,
   "id": "9bc4f84f",
   "metadata": {},
   "outputs": [
    {
     "name": "stdout",
     "output_type": "stream",
     "text": [
      "search value found! 1\n"
     ]
    },
    {
     "data": {
      "text/plain": [
       "1"
      ]
     },
     "execution_count": 138,
     "metadata": {},
     "output_type": "execute_result"
    }
   ],
   "source": [
    "find_first_match([1,2,3], 2)"
   ]
  },
  {
   "cell_type": "code",
   "execution_count": 139,
   "id": "0ec1c646",
   "metadata": {},
   "outputs": [
    {
     "name": "stdout",
     "output_type": "stream",
     "text": [
      "search value found! 1\n"
     ]
    },
    {
     "data": {
      "text/plain": [
       "1"
      ]
     },
     "execution_count": 139,
     "metadata": {},
     "output_type": "execute_result"
    }
   ],
   "source": [
    "find_first_match([1,2,3], search_value=2)"
   ]
  },
  {
   "cell_type": "code",
   "execution_count": 140,
   "id": "d813e113",
   "metadata": {},
   "outputs": [
    {
     "name": "stdout",
     "output_type": "stream",
     "text": [
      "{'spam': 'foo', 'eggs': 'bar', 'baz': 3}\n"
     ]
    }
   ],
   "source": [
    "def accpept_any_kwargs(**kw):\n",
    "    print(kw)\n",
    "    \n",
    "accpept_any_kwargs(spam=\"foo\", eggs=\"bar\", baz=3)"
   ]
  },
  {
   "cell_type": "code",
   "execution_count": 141,
   "id": "005f6062",
   "metadata": {},
   "outputs": [
    {
     "data": {
      "text/plain": [
       "[1, 3, 5, 7, 9, 11, 13]"
      ]
     },
     "execution_count": 141,
     "metadata": {},
     "output_type": "execute_result"
    }
   ],
   "source": [
    "odds = [i for i in range(15) if i % 2 != 0]\n",
    "odds"
   ]
  },
  {
   "cell_type": "code",
   "execution_count": 142,
   "id": "e659ea89",
   "metadata": {},
   "outputs": [
    {
     "data": {
      "text/plain": [
       "[-1, 1, -1, 3, -1, 5, -1, 7, -1, 9, -1, 11, -1, 13, -1]"
      ]
     },
     "execution_count": 142,
     "metadata": {},
     "output_type": "execute_result"
    }
   ],
   "source": [
    "values = [i if i % 2 != 0 else -1 for i in range(15)]\n",
    "values"
   ]
  },
  {
   "cell_type": "code",
   "execution_count": 144,
   "id": "6497346b",
   "metadata": {},
   "outputs": [
    {
     "data": {
      "text/plain": [
       "[None, 1, None, 3, None, 5, None, 7, None, 9, None, 11, None, 13, None]"
      ]
     },
     "execution_count": 144,
     "metadata": {},
     "output_type": "execute_result"
    }
   ],
   "source": [
    "values = [(i if i % 2 != 0 else None) for i in range(15)]\n",
    "values"
   ]
  },
  {
   "cell_type": "code",
   "execution_count": 145,
   "id": "ba09b396",
   "metadata": {},
   "outputs": [
    {
     "data": {
      "text/plain": [
       "(1, 3, 5, 7, 9, 11, 13)"
      ]
     },
     "execution_count": 145,
     "metadata": {},
     "output_type": "execute_result"
    }
   ],
   "source": [
    "tuple(i for i in range(15) if i % 2 != 0)"
   ]
  },
  {
   "cell_type": "code",
   "execution_count": null,
   "id": "80dc865d",
   "metadata": {},
   "outputs": [],
   "source": []
  }
 ],
 "metadata": {
  "kernelspec": {
   "display_name": "Python 3 (ipykernel)",
   "language": "python",
   "name": "python3"
  },
  "language_info": {
   "codemirror_mode": {
    "name": "ipython",
    "version": 3
   },
   "file_extension": ".py",
   "mimetype": "text/x-python",
   "name": "python",
   "nbconvert_exporter": "python",
   "pygments_lexer": "ipython3",
   "version": "3.9.5"
  }
 },
 "nbformat": 4,
 "nbformat_minor": 5
}
